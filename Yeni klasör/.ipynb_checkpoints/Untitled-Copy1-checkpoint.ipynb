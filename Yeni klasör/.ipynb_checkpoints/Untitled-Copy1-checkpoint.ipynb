{
 "cells": [
  {
   "cell_type": "code",
   "execution_count": 1,
   "id": "5a5b2f71",
   "metadata": {},
   "outputs": [],
   "source": [
    "import numpy as np\n",
    "import pandas as pd\n",
    "import seaborn as sns\n",
    "import matplotlib.pyplot as plt\n",
    "\n",
    "%matplotlib inline\n",
    "#%matplotlib notebook\n",
    "plt.rcParams[\"figure.figsize\"] = (10,6)\n",
    "import warnings\n",
    "warnings.filterwarnings(\"ignore\")\n",
    "warnings.warn(\"this will not show\")\n",
    "pd.set_option('display.float_format', lambda x: '%.3f' % x)"
   ]
  },
  {
   "cell_type": "code",
   "execution_count": 19,
   "id": "ce11035c",
   "metadata": {
    "scrolled": true
   },
   "outputs": [
    {
     "data": {
      "text/html": [
       "<div>\n",
       "<style scoped>\n",
       "    .dataframe tbody tr th:only-of-type {\n",
       "        vertical-align: middle;\n",
       "    }\n",
       "\n",
       "    .dataframe tbody tr th {\n",
       "        vertical-align: top;\n",
       "    }\n",
       "\n",
       "    .dataframe thead th {\n",
       "        text-align: right;\n",
       "    }\n",
       "</style>\n",
       "<table border=\"1\" class=\"dataframe\">\n",
       "  <thead>\n",
       "    <tr style=\"text-align: right;\">\n",
       "      <th></th>\n",
       "      <th>age</th>\n",
       "      <th>sex</th>\n",
       "      <th>bmi</th>\n",
       "      <th>smoker</th>\n",
       "      <th>region</th>\n",
       "      <th>children</th>\n",
       "      <th>charges</th>\n",
       "    </tr>\n",
       "  </thead>\n",
       "  <tbody>\n",
       "    <tr>\n",
       "      <th>0</th>\n",
       "      <td>21.000</td>\n",
       "      <td>male</td>\n",
       "      <td>25.745</td>\n",
       "      <td>no</td>\n",
       "      <td>northeast</td>\n",
       "      <td>2</td>\n",
       "      <td>3279.869</td>\n",
       "    </tr>\n",
       "    <tr>\n",
       "      <th>1</th>\n",
       "      <td>36.977</td>\n",
       "      <td>female</td>\n",
       "      <td>25.744</td>\n",
       "      <td>yes</td>\n",
       "      <td>southeast</td>\n",
       "      <td>3</td>\n",
       "      <td>21454.494</td>\n",
       "    </tr>\n",
       "    <tr>\n",
       "      <th>2</th>\n",
       "      <td>18.000</td>\n",
       "      <td>male</td>\n",
       "      <td>30.030</td>\n",
       "      <td>no</td>\n",
       "      <td>southeast</td>\n",
       "      <td>1</td>\n",
       "      <td>1720.354</td>\n",
       "    </tr>\n",
       "    <tr>\n",
       "      <th>3</th>\n",
       "      <td>37.000</td>\n",
       "      <td>male</td>\n",
       "      <td>30.677</td>\n",
       "      <td>no</td>\n",
       "      <td>northeast</td>\n",
       "      <td>3</td>\n",
       "      <td>6801.438</td>\n",
       "    </tr>\n",
       "    <tr>\n",
       "      <th>4</th>\n",
       "      <td>58.000</td>\n",
       "      <td>male</td>\n",
       "      <td>32.010</td>\n",
       "      <td>no</td>\n",
       "      <td>southeast</td>\n",
       "      <td>1</td>\n",
       "      <td>11946.626</td>\n",
       "    </tr>\n",
       "  </tbody>\n",
       "</table>\n",
       "</div>"
      ],
      "text/plain": [
       "     age     sex    bmi smoker     region  children   charges\n",
       "0 21.000    male 25.745     no  northeast         2  3279.869\n",
       "1 36.977  female 25.744    yes  southeast         3 21454.494\n",
       "2 18.000    male 30.030     no  southeast         1  1720.354\n",
       "3 37.000    male 30.677     no  northeast         3  6801.438\n",
       "4 58.000    male 32.010     no  southeast         1 11946.626"
      ]
     },
     "execution_count": 19,
     "metadata": {},
     "output_type": "execute_result"
    }
   ],
   "source": [
    "df = pd.read_csv(\"health_train.csv\").copy()\n",
    "df.head()"
   ]
  },
  {
   "cell_type": "code",
   "execution_count": 20,
   "id": "c9ea7f22",
   "metadata": {
    "scrolled": true
   },
   "outputs": [
    {
     "name": "stdout",
     "output_type": "stream",
     "text": [
      "<class 'pandas.core.frame.DataFrame'>\n",
      "RangeIndex: 2500 entries, 0 to 2499\n",
      "Data columns (total 7 columns):\n",
      " #   Column    Non-Null Count  Dtype  \n",
      "---  ------    --------------  -----  \n",
      " 0   age       2500 non-null   float64\n",
      " 1   sex       2500 non-null   object \n",
      " 2   bmi       2500 non-null   float64\n",
      " 3   smoker    2500 non-null   object \n",
      " 4   region    2500 non-null   object \n",
      " 5   children  2500 non-null   int64  \n",
      " 6   charges   2500 non-null   float64\n",
      "dtypes: float64(3), int64(1), object(3)\n",
      "memory usage: 136.8+ KB\n"
     ]
    }
   ],
   "source": [
    "df.info()"
   ]
  },
  {
   "cell_type": "code",
   "execution_count": 21,
   "id": "56f9ddc7",
   "metadata": {},
   "outputs": [
    {
     "data": {
      "text/html": [
       "<div>\n",
       "<style scoped>\n",
       "    .dataframe tbody tr th:only-of-type {\n",
       "        vertical-align: middle;\n",
       "    }\n",
       "\n",
       "    .dataframe tbody tr th {\n",
       "        vertical-align: top;\n",
       "    }\n",
       "\n",
       "    .dataframe thead th {\n",
       "        text-align: right;\n",
       "    }\n",
       "</style>\n",
       "<table border=\"1\" class=\"dataframe\">\n",
       "  <thead>\n",
       "    <tr style=\"text-align: right;\">\n",
       "      <th></th>\n",
       "      <th>count</th>\n",
       "      <th>mean</th>\n",
       "      <th>std</th>\n",
       "      <th>min</th>\n",
       "      <th>25%</th>\n",
       "      <th>50%</th>\n",
       "      <th>75%</th>\n",
       "      <th>max</th>\n",
       "    </tr>\n",
       "  </thead>\n",
       "  <tbody>\n",
       "    <tr>\n",
       "      <th>age</th>\n",
       "      <td>2500.000</td>\n",
       "      <td>39.003</td>\n",
       "      <td>12.265</td>\n",
       "      <td>18.000</td>\n",
       "      <td>28.846</td>\n",
       "      <td>39.350</td>\n",
       "      <td>48.689</td>\n",
       "      <td>64.000</td>\n",
       "    </tr>\n",
       "    <tr>\n",
       "      <th>bmi</th>\n",
       "      <td>2500.000</td>\n",
       "      <td>30.575</td>\n",
       "      <td>5.390</td>\n",
       "      <td>15.960</td>\n",
       "      <td>26.718</td>\n",
       "      <td>30.200</td>\n",
       "      <td>34.046</td>\n",
       "      <td>53.130</td>\n",
       "    </tr>\n",
       "    <tr>\n",
       "      <th>children</th>\n",
       "      <td>2500.000</td>\n",
       "      <td>2.488</td>\n",
       "      <td>1.707</td>\n",
       "      <td>0.000</td>\n",
       "      <td>1.000</td>\n",
       "      <td>2.000</td>\n",
       "      <td>4.000</td>\n",
       "      <td>5.000</td>\n",
       "    </tr>\n",
       "    <tr>\n",
       "      <th>charges</th>\n",
       "      <td>2500.000</td>\n",
       "      <td>12679.312</td>\n",
       "      <td>10593.270</td>\n",
       "      <td>1121.874</td>\n",
       "      <td>5612.781</td>\n",
       "      <td>9455.047</td>\n",
       "      <td>14440.628</td>\n",
       "      <td>63770.428</td>\n",
       "    </tr>\n",
       "  </tbody>\n",
       "</table>\n",
       "</div>"
      ],
      "text/plain": [
       "            count      mean       std      min      25%      50%       75%  \\\n",
       "age      2500.000    39.003    12.265   18.000   28.846   39.350    48.689   \n",
       "bmi      2500.000    30.575     5.390   15.960   26.718   30.200    34.046   \n",
       "children 2500.000     2.488     1.707    0.000    1.000    2.000     4.000   \n",
       "charges  2500.000 12679.312 10593.270 1121.874 5612.781 9455.047 14440.628   \n",
       "\n",
       "               max  \n",
       "age         64.000  \n",
       "bmi         53.130  \n",
       "children     5.000  \n",
       "charges  63770.428  "
      ]
     },
     "execution_count": 21,
     "metadata": {},
     "output_type": "execute_result"
    }
   ],
   "source": [
    "df.describe().T"
   ]
  },
  {
   "cell_type": "code",
   "execution_count": 22,
   "id": "be5488b3",
   "metadata": {},
   "outputs": [
    {
     "data": {
      "text/plain": [
       "(2500, 7)"
      ]
     },
     "execution_count": 22,
     "metadata": {},
     "output_type": "execute_result"
    }
   ],
   "source": [
    "df.shape"
   ]
  },
  {
   "cell_type": "code",
   "execution_count": 23,
   "id": "a0669ec8",
   "metadata": {
    "scrolled": true
   },
   "outputs": [
    {
     "data": {
      "text/plain": [
       "age         False\n",
       "sex         False\n",
       "bmi         False\n",
       "smoker      False\n",
       "region      False\n",
       "children    False\n",
       "charges     False\n",
       "dtype: bool"
      ]
     },
     "execution_count": 23,
     "metadata": {},
     "output_type": "execute_result"
    }
   ],
   "source": [
    "df.isnull().any()"
   ]
  },
  {
   "cell_type": "code",
   "execution_count": 24,
   "id": "d5d54c2c",
   "metadata": {},
   "outputs": [
    {
     "data": {
      "text/plain": [
       "age         0\n",
       "sex         0\n",
       "bmi         0\n",
       "smoker      0\n",
       "region      0\n",
       "children    0\n",
       "charges     0\n",
       "dtype: int64"
      ]
     },
     "execution_count": 24,
     "metadata": {},
     "output_type": "execute_result"
    }
   ],
   "source": [
    "df.isnull().sum()"
   ]
  },
  {
   "cell_type": "code",
   "execution_count": 25,
   "id": "66b4a59f",
   "metadata": {},
   "outputs": [
    {
     "data": {
      "text/plain": [
       "False    2500\n",
       "dtype: int64"
      ]
     },
     "execution_count": 25,
     "metadata": {},
     "output_type": "execute_result"
    }
   ],
   "source": [
    "df.duplicated().value_counts()"
   ]
  },
  {
   "cell_type": "code",
   "execution_count": 26,
   "id": "1f5a1896",
   "metadata": {},
   "outputs": [
    {
     "name": "stdout",
     "output_type": "stream",
     "text": [
      "18.000    57\n",
      "19.000    52\n",
      "48.000    43\n",
      "39.000    43\n",
      "33.000    35\n",
      "          ..\n",
      "30.087     1\n",
      "42.856     1\n",
      "46.649     1\n",
      "54.709     1\n",
      "62.461     1\n",
      "Name: age, Length: 1347, dtype: int64\n",
      "male      1387\n",
      "female    1113\n",
      "Name: sex, dtype: int64\n",
      "32.300    9\n",
      "28.310    8\n",
      "31.350    7\n",
      "38.060    7\n",
      "33.330    7\n",
      "         ..\n",
      "36.945    1\n",
      "28.940    1\n",
      "29.150    1\n",
      "35.113    1\n",
      "28.955    1\n",
      "Name: bmi, Length: 2008, dtype: int64\n",
      "no     2124\n",
      "yes     376\n",
      "Name: smoker, dtype: int64\n",
      "southeast    699\n",
      "northwest    613\n",
      "northeast    606\n",
      "southwest    582\n",
      "Name: region, dtype: int64\n",
      "0    427\n",
      "2    426\n",
      "4    418\n",
      "3    416\n",
      "5    409\n",
      "1    404\n",
      "Name: children, dtype: int64\n",
      "14799.031    1\n",
      "7742.110     1\n",
      "2196.473     1\n",
      "48824.450    1\n",
      "9335.022     1\n",
      "            ..\n",
      "2416.955     1\n",
      "6611.575     1\n",
      "5550.921     1\n",
      "1615.767     1\n",
      "7731.427     1\n",
      "Name: charges, Length: 2500, dtype: int64\n"
     ]
    }
   ],
   "source": [
    "for i in df.columns:\n",
    "    print(df[i].value_counts())"
   ]
  },
  {
   "cell_type": "code",
   "execution_count": 45,
   "id": "2a069b63",
   "metadata": {
    "scrolled": true
   },
   "outputs": [],
   "source": [
    "df.children = df.children.map({0 : \"zero\", 1 : \"one\", 2 : \"two\", 3 : \"three\", 4 : \"four\", 5 : \"five\"})"
   ]
  },
  {
   "cell_type": "code",
   "execution_count": 46,
   "id": "9a352b16",
   "metadata": {},
   "outputs": [
    {
     "data": {
      "text/plain": [
       "0         two\n",
       "1       three\n",
       "2         one\n",
       "3       three\n",
       "4         one\n",
       "        ...  \n",
       "2495     four\n",
       "2496    three\n",
       "2497      two\n",
       "2498    three\n",
       "2499     five\n",
       "Name: children, Length: 2500, dtype: object"
      ]
     },
     "execution_count": 46,
     "metadata": {},
     "output_type": "execute_result"
    }
   ],
   "source": [
    "df.children"
   ]
  },
  {
   "cell_type": "code",
   "execution_count": 47,
   "id": "15417a6f",
   "metadata": {},
   "outputs": [],
   "source": [
    "# cocuk kategorik degişimi yapılacak \n",
    "# çocuk-sex-region-smoker dummy yapılacak\n",
    "# bmi- charges da outlier var "
   ]
  },
  {
   "cell_type": "code",
   "execution_count": 48,
   "id": "89c21435",
   "metadata": {
    "scrolled": false
   },
   "outputs": [
    {
     "data": {
      "image/png": "[encoded data removed]",
      "text/plain": [
       "<Figure size 720x432 with 1 Axes>"
      ]
     },
     "metadata": {
      "needs_background": "light"
     },
     "output_type": "display_data"
    },
    {
     "data": {
      "image/png": "[encoded data removed]",
      "text/plain": [
       "<Figure size 720x432 with 1 Axes>"
      ]
     },
     "metadata": {
      "needs_background": "light"
     },
     "output_type": "display_data"
    },
    {
     "data": {
      "image/png": "[encoded data removed]",
      "text/plain": [
       "<Figure size 720x432 with 1 Axes>"
      ]
     },
     "metadata": {
      "needs_background": "light"
     },
     "output_type": "display_data"
    },
    {
     "data": {
      "image/png": "[encoded data removed]",
      "text/plain": [
       "<Figure size 720x432 with 1 Axes>"
      ]
     },
     "metadata": {
      "needs_background": "light"
     },
     "output_type": "display_data"
    },
    {
     "data": {
      "image/png": "[encoded data removed]",
      "text/plain": [
       "<Figure size 720x432 with 1 Axes>"
      ]
     },
     "metadata": {
      "needs_background": "light"
     },
     "output_type": "display_data"
    },
    {
     "data": {
      "image/png": "[encoded data removed]",
      "text/plain": [
       "<Figure size 720x432 with 1 Axes>"
      ]
     },
     "metadata": {
      "needs_background": "light"
     },
     "output_type": "display_data"
    },
    {
     "data": {
      "image/png": "[encoded data removed]",
      "text/plain": [
       "<Figure size 720x432 with 1 Axes>"
      ]
     },
     "metadata": {
      "needs_background": "light"
     },
     "output_type": "display_data"
    }
   ],
   "source": [
    "for i,col in enumerate(df.columns):\n",
    "    plt.figure(i)\n",
    "    sns.histplot(df[col])"
   ]
  },
  {
   "cell_type": "code",
   "execution_count": 49,
   "id": "55f49cc5",
   "metadata": {},
   "outputs": [
    {
     "name": "stdout",
     "output_type": "stream",
     "text": [
      "[21.         36.976978   18.         ... 32.87712067 31.05805097\n",
      " 36.83381823]\n",
      "['male' 'female']\n",
      "[25.745      25.74416485 30.03       ... 36.17958688 36.42961358\n",
      " 36.64057852]\n",
      "['no' 'yes']\n",
      "['northeast' 'southeast' 'northwest' 'southwest']\n",
      "['two' 'three' 'one' 'four' 'five' 'zero']\n",
      "[ 3279.86855    21454.49423864  1720.3537     ... 12401.74657543\n",
      " 10376.29462922  6658.23740414]\n"
     ]
    }
   ],
   "source": [
    "for i in df.columns:\n",
    "    print(df[i].unique())"
   ]
  },
  {
   "cell_type": "code",
   "execution_count": 50,
   "id": "5fd3abd2",
   "metadata": {},
   "outputs": [],
   "source": [
    "outliers = []\n",
    "def detect_outliers_iqr(df):\n",
    "    for i in df.columns:\n",
    "        q1, q3 = df[i].quantile([0.25, 0.75])\n",
    "       \n",
    "        IQR = q3-q1\n",
    "        lwr_bound = q1-(1.5*IQR)\n",
    "        upr_bound = q3+(1.5*IQR)\n",
    "        for j in df[i]: \n",
    "            if (j<lwr_bound or j>upr_bound):\n",
    "                for z in list(df[i][df[i] == j].index):\n",
    "                    outliers.append(z)\n",
    "    \n",
    "    return df.iloc[outliers]"
   ]
  },
  {
   "cell_type": "code",
   "execution_count": 51,
   "id": "aef2259c",
   "metadata": {},
   "outputs": [
    {
     "data": {
      "text/html": [
       "<div>\n",
       "<style scoped>\n",
       "    .dataframe tbody tr th:only-of-type {\n",
       "        vertical-align: middle;\n",
       "    }\n",
       "\n",
       "    .dataframe tbody tr th {\n",
       "        vertical-align: top;\n",
       "    }\n",
       "\n",
       "    .dataframe thead th {\n",
       "        text-align: right;\n",
       "    }\n",
       "</style>\n",
       "<table border=\"1\" class=\"dataframe\">\n",
       "  <thead>\n",
       "    <tr style=\"text-align: right;\">\n",
       "      <th></th>\n",
       "      <th>age</th>\n",
       "      <th>bmi</th>\n",
       "      <th>charges</th>\n",
       "    </tr>\n",
       "  </thead>\n",
       "  <tbody>\n",
       "    <tr>\n",
       "      <th>41</th>\n",
       "      <td>47.000</td>\n",
       "      <td>46.986</td>\n",
       "      <td>8083.178</td>\n",
       "    </tr>\n",
       "    <tr>\n",
       "      <th>279</th>\n",
       "      <td>46.000</td>\n",
       "      <td>48.070</td>\n",
       "      <td>9432.925</td>\n",
       "    </tr>\n",
       "    <tr>\n",
       "      <th>316</th>\n",
       "      <td>22.000</td>\n",
       "      <td>52.580</td>\n",
       "      <td>44501.398</td>\n",
       "    </tr>\n",
       "    <tr>\n",
       "      <th>448</th>\n",
       "      <td>47.000</td>\n",
       "      <td>45.320</td>\n",
       "      <td>8569.862</td>\n",
       "    </tr>\n",
       "    <tr>\n",
       "      <th>539</th>\n",
       "      <td>25.000</td>\n",
       "      <td>45.540</td>\n",
       "      <td>42112.236</td>\n",
       "    </tr>\n",
       "    <tr>\n",
       "      <th>...</th>\n",
       "      <td>...</td>\n",
       "      <td>...</td>\n",
       "      <td>...</td>\n",
       "    </tr>\n",
       "    <tr>\n",
       "      <th>2439</th>\n",
       "      <td>34.000</td>\n",
       "      <td>30.800</td>\n",
       "      <td>35491.640</td>\n",
       "    </tr>\n",
       "    <tr>\n",
       "      <th>2451</th>\n",
       "      <td>51.227</td>\n",
       "      <td>31.795</td>\n",
       "      <td>29762.311</td>\n",
       "    </tr>\n",
       "    <tr>\n",
       "      <th>2454</th>\n",
       "      <td>23.713</td>\n",
       "      <td>32.809</td>\n",
       "      <td>36036.280</td>\n",
       "    </tr>\n",
       "    <tr>\n",
       "      <th>2479</th>\n",
       "      <td>44.272</td>\n",
       "      <td>42.949</td>\n",
       "      <td>45841.469</td>\n",
       "    </tr>\n",
       "    <tr>\n",
       "      <th>2489</th>\n",
       "      <td>44.125</td>\n",
       "      <td>43.857</td>\n",
       "      <td>46217.666</td>\n",
       "    </tr>\n",
       "  </tbody>\n",
       "</table>\n",
       "<p>263 rows × 3 columns</p>\n",
       "</div>"
      ],
      "text/plain": [
       "        age    bmi   charges\n",
       "41   47.000 46.986  8083.178\n",
       "279  46.000 48.070  9432.925\n",
       "316  22.000 52.580 44501.398\n",
       "448  47.000 45.320  8569.862\n",
       "539  25.000 45.540 42112.236\n",
       "...     ...    ...       ...\n",
       "2439 34.000 30.800 35491.640\n",
       "2451 51.227 31.795 29762.311\n",
       "2454 23.713 32.809 36036.280\n",
       "2479 44.272 42.949 45841.469\n",
       "2489 44.125 43.857 46217.666\n",
       "\n",
       "[263 rows x 3 columns]"
      ]
     },
     "execution_count": 51,
     "metadata": {},
     "output_type": "execute_result"
    }
   ],
   "source": [
    "detect_outliers_iqr(df[[\"age\", \"bmi\", \"charges\"]])"
   ]
  },
  {
   "cell_type": "code",
   "execution_count": 52,
   "id": "b7446748",
   "metadata": {},
   "outputs": [
    {
     "data": {
      "text/html": [
       "<div>\n",
       "<style scoped>\n",
       "    .dataframe tbody tr th:only-of-type {\n",
       "        vertical-align: middle;\n",
       "    }\n",
       "\n",
       "    .dataframe tbody tr th {\n",
       "        vertical-align: top;\n",
       "    }\n",
       "\n",
       "    .dataframe thead th {\n",
       "        text-align: right;\n",
       "    }\n",
       "</style>\n",
       "<table border=\"1\" class=\"dataframe\">\n",
       "  <thead>\n",
       "    <tr style=\"text-align: right;\">\n",
       "      <th></th>\n",
       "      <th>age</th>\n",
       "      <th>sex</th>\n",
       "      <th>bmi</th>\n",
       "      <th>smoker</th>\n",
       "      <th>region</th>\n",
       "      <th>children</th>\n",
       "      <th>charges</th>\n",
       "    </tr>\n",
       "  </thead>\n",
       "  <tbody>\n",
       "    <tr>\n",
       "      <th>0</th>\n",
       "      <td>21.000</td>\n",
       "      <td>male</td>\n",
       "      <td>25.745</td>\n",
       "      <td>no</td>\n",
       "      <td>northeast</td>\n",
       "      <td>two</td>\n",
       "      <td>3279.869</td>\n",
       "    </tr>\n",
       "    <tr>\n",
       "      <th>1</th>\n",
       "      <td>36.977</td>\n",
       "      <td>female</td>\n",
       "      <td>25.744</td>\n",
       "      <td>yes</td>\n",
       "      <td>southeast</td>\n",
       "      <td>three</td>\n",
       "      <td>21454.494</td>\n",
       "    </tr>\n",
       "    <tr>\n",
       "      <th>2</th>\n",
       "      <td>18.000</td>\n",
       "      <td>male</td>\n",
       "      <td>30.030</td>\n",
       "      <td>no</td>\n",
       "      <td>southeast</td>\n",
       "      <td>one</td>\n",
       "      <td>1720.354</td>\n",
       "    </tr>\n",
       "    <tr>\n",
       "      <th>3</th>\n",
       "      <td>37.000</td>\n",
       "      <td>male</td>\n",
       "      <td>30.677</td>\n",
       "      <td>no</td>\n",
       "      <td>northeast</td>\n",
       "      <td>three</td>\n",
       "      <td>6801.438</td>\n",
       "    </tr>\n",
       "    <tr>\n",
       "      <th>4</th>\n",
       "      <td>58.000</td>\n",
       "      <td>male</td>\n",
       "      <td>32.010</td>\n",
       "      <td>no</td>\n",
       "      <td>southeast</td>\n",
       "      <td>one</td>\n",
       "      <td>11946.626</td>\n",
       "    </tr>\n",
       "    <tr>\n",
       "      <th>...</th>\n",
       "      <td>...</td>\n",
       "      <td>...</td>\n",
       "      <td>...</td>\n",
       "      <td>...</td>\n",
       "      <td>...</td>\n",
       "      <td>...</td>\n",
       "      <td>...</td>\n",
       "    </tr>\n",
       "    <tr>\n",
       "      <th>2495</th>\n",
       "      <td>31.058</td>\n",
       "      <td>male</td>\n",
       "      <td>27.555</td>\n",
       "      <td>no</td>\n",
       "      <td>southeast</td>\n",
       "      <td>four</td>\n",
       "      <td>5889.104</td>\n",
       "    </tr>\n",
       "    <tr>\n",
       "      <th>2496</th>\n",
       "      <td>36.834</td>\n",
       "      <td>male</td>\n",
       "      <td>30.322</td>\n",
       "      <td>no</td>\n",
       "      <td>northeast</td>\n",
       "      <td>three</td>\n",
       "      <td>6788.534</td>\n",
       "    </tr>\n",
       "    <tr>\n",
       "      <th>2497</th>\n",
       "      <td>56.000</td>\n",
       "      <td>female</td>\n",
       "      <td>36.180</td>\n",
       "      <td>no</td>\n",
       "      <td>northwest</td>\n",
       "      <td>two</td>\n",
       "      <td>12401.747</td>\n",
       "    </tr>\n",
       "    <tr>\n",
       "      <th>2498</th>\n",
       "      <td>49.000</td>\n",
       "      <td>male</td>\n",
       "      <td>36.430</td>\n",
       "      <td>no</td>\n",
       "      <td>northwest</td>\n",
       "      <td>three</td>\n",
       "      <td>10376.295</td>\n",
       "    </tr>\n",
       "    <tr>\n",
       "      <th>2499</th>\n",
       "      <td>33.000</td>\n",
       "      <td>male</td>\n",
       "      <td>36.641</td>\n",
       "      <td>no</td>\n",
       "      <td>southwest</td>\n",
       "      <td>five</td>\n",
       "      <td>6658.237</td>\n",
       "    </tr>\n",
       "  </tbody>\n",
       "</table>\n",
       "<p>2243 rows × 7 columns</p>\n",
       "</div>"
      ],
      "text/plain": [
       "        age     sex    bmi smoker     region children   charges\n",
       "0    21.000    male 25.745     no  northeast      two  3279.869\n",
       "1    36.977  female 25.744    yes  southeast    three 21454.494\n",
       "2    18.000    male 30.030     no  southeast      one  1720.354\n",
       "3    37.000    male 30.677     no  northeast    three  6801.438\n",
       "4    58.000    male 32.010     no  southeast      one 11946.626\n",
       "...     ...     ...    ...    ...        ...      ...       ...\n",
       "2495 31.058    male 27.555     no  southeast     four  5889.104\n",
       "2496 36.834    male 30.322     no  northeast    three  6788.534\n",
       "2497 56.000  female 36.180     no  northwest      two 12401.747\n",
       "2498 49.000    male 36.430     no  northwest    three 10376.295\n",
       "2499 33.000    male 36.641     no  southwest     five  6658.237\n",
       "\n",
       "[2243 rows x 7 columns]"
      ]
     },
     "execution_count": 52,
     "metadata": {},
     "output_type": "execute_result"
    }
   ],
   "source": [
    "df_with_EDA = df.drop(outliers, axis = 0)\n",
    "df_with_EDA"
   ]
  },
  {
   "cell_type": "code",
   "execution_count": 53,
   "id": "06f09a06",
   "metadata": {
    "scrolled": false
   },
   "outputs": [
    {
     "data": {
      "image/png": "[encoded data removed]",
      "text/plain": [
       "<Figure size 720x432 with 1 Axes>"
      ]
     },
     "metadata": {
      "needs_background": "light"
     },
     "output_type": "display_data"
    },
    {
     "data": {
      "image/png": "[encoded data removed]",
      "text/plain": [
       "<Figure size 720x432 with 1 Axes>"
      ]
     },
     "metadata": {
      "needs_background": "light"
     },
     "output_type": "display_data"
    },
    {
     "data": {
      "image/png": "[encoded data removed]",
      "text/plain": [
       "<Figure size 720x432 with 1 Axes>"
      ]
     },
     "metadata": {
      "needs_background": "light"
     },
     "output_type": "display_data"
    },
    {
     "data": {
      "image/png": "[encoded data removed]",
      "text/plain": [
       "<Figure size 720x432 with 1 Axes>"
      ]
     },
     "metadata": {
      "needs_background": "light"
     },
     "output_type": "display_data"
    },
    {
     "data": {
      "image/png": "[encoded data removed]",
      "text/plain": [
       "<Figure size 720x432 with 1 Axes>"
      ]
     },
     "metadata": {
      "needs_background": "light"
     },
     "output_type": "display_data"
    },
    {
     "data": {
      "image/png": "[encoded data removed]",
      "text/plain": [
       "<Figure size 720x432 with 1 Axes>"
      ]
     },
     "metadata": {
      "needs_background": "light"
     },
     "output_type": "display_data"
    },
    {
     "data": {
      "image/png": "[encoded data removed]",
      "text/plain": [
       "<Figure size 720x432 with 1 Axes>"
      ]
     },
     "metadata": {
      "needs_background": "light"
     },
     "output_type": "display_data"
    }
   ],
   "source": [
    "for i,col in enumerate(df_with_EDA.columns):\n",
    "    plt.figure(i)\n",
    "    sns.histplot(df_with_EDA[col])"
   ]
  },
  {
   "cell_type": "code",
   "execution_count": 63,
   "id": "5316c1cb",
   "metadata": {
    "scrolled": false
   },
   "outputs": [
    {
     "data": {
      "image/png": "[encoded data removed]",
      "text/plain": [
       "<Figure size 1440x1440 with 6 Axes>"
      ]
     },
     "metadata": {
      "needs_background": "light"
     },
     "output_type": "display_data"
    }
   ],
   "source": [
    "index = 0\n",
    "plt.figure(figsize=(20,20))\n",
    "for feature in df.columns:\n",
    "    if feature != \"charges\":\n",
    "        index += 1\n",
    "        plt.subplot(3,5,index)\n",
    "        sns.boxplot(x='charges',y=feature,data=df)"
   ]
  },
  {
   "cell_type": "code",
   "execution_count": 64,
   "id": "b74e92be",
   "metadata": {},
   "outputs": [
    {
     "data": {
      "image/png": "[encoded data removed]",
      "text/plain": [
       "<Figure size 1440x1440 with 6 Axes>"
      ]
     },
     "metadata": {
      "needs_background": "light"
     },
     "output_type": "display_data"
    }
   ],
   "source": [
    "index = 0\n",
    "plt.figure(figsize=(20,20))\n",
    "for feature in df_with_EDA.columns:\n",
    "    if feature != \"charges\":\n",
    "        index += 1\n",
    "        plt.subplot(3,5,index)\n",
    "        sns.boxplot(x='charges',y=feature,data=df_with_EDA)"
   ]
  },
  {
   "cell_type": "code",
   "execution_count": 59,
   "id": "c431e4c0",
   "metadata": {},
   "outputs": [
    {
     "data": {
      "text/html": [
       "<div>\n",
       "<style scoped>\n",
       "    .dataframe tbody tr th:only-of-type {\n",
       "        vertical-align: middle;\n",
       "    }\n",
       "\n",
       "    .dataframe tbody tr th {\n",
       "        vertical-align: top;\n",
       "    }\n",
       "\n",
       "    .dataframe thead th {\n",
       "        text-align: right;\n",
       "    }\n",
       "</style>\n",
       "<table border=\"1\" class=\"dataframe\">\n",
       "  <thead>\n",
       "    <tr style=\"text-align: right;\">\n",
       "      <th></th>\n",
       "      <th>count</th>\n",
       "      <th>mean</th>\n",
       "      <th>std</th>\n",
       "      <th>min</th>\n",
       "      <th>25%</th>\n",
       "      <th>50%</th>\n",
       "      <th>75%</th>\n",
       "      <th>max</th>\n",
       "    </tr>\n",
       "  </thead>\n",
       "  <tbody>\n",
       "    <tr>\n",
       "      <th>age</th>\n",
       "      <td>2243.000</td>\n",
       "      <td>38.591</td>\n",
       "      <td>12.079</td>\n",
       "      <td>18.000</td>\n",
       "      <td>28.472</td>\n",
       "      <td>39.000</td>\n",
       "      <td>48.228</td>\n",
       "      <td>64.000</td>\n",
       "    </tr>\n",
       "    <tr>\n",
       "      <th>bmi</th>\n",
       "      <td>2243.000</td>\n",
       "      <td>30.059</td>\n",
       "      <td>5.198</td>\n",
       "      <td>15.960</td>\n",
       "      <td>26.366</td>\n",
       "      <td>29.599</td>\n",
       "      <td>33.368</td>\n",
       "      <td>45.031</td>\n",
       "    </tr>\n",
       "    <tr>\n",
       "      <th>charges</th>\n",
       "      <td>2243.000</td>\n",
       "      <td>9764.119</td>\n",
       "      <td>5718.047</td>\n",
       "      <td>1121.874</td>\n",
       "      <td>5359.263</td>\n",
       "      <td>8798.593</td>\n",
       "      <td>12234.834</td>\n",
       "      <td>27533.913</td>\n",
       "    </tr>\n",
       "  </tbody>\n",
       "</table>\n",
       "</div>"
      ],
      "text/plain": [
       "           count     mean      std      min      25%      50%       75%  \\\n",
       "age     2243.000   38.591   12.079   18.000   28.472   39.000    48.228   \n",
       "bmi     2243.000   30.059    5.198   15.960   26.366   29.599    33.368   \n",
       "charges 2243.000 9764.119 5718.047 1121.874 5359.263 8798.593 12234.834   \n",
       "\n",
       "              max  \n",
       "age        64.000  \n",
       "bmi        45.031  \n",
       "charges 27533.913  "
      ]
     },
     "execution_count": 59,
     "metadata": {},
     "output_type": "execute_result"
    }
   ],
   "source": [
    "df_with_EDA.describe().T"
   ]
  },
  {
   "cell_type": "code",
   "execution_count": 61,
   "id": "fe860159",
   "metadata": {},
   "outputs": [
    {
     "data": {
      "text/plain": [
       "<seaborn.axisgrid.PairGrid at 0x18448836a30>"
      ]
     },
     "execution_count": 61,
     "metadata": {},
     "output_type": "execute_result"
    },
    {
     "data": {
      "image/png": "[encoded data removed]",
      "text/plain": [
       "<Figure size 427.875x360 with 6 Axes>"
      ]
     },
     "metadata": {
      "needs_background": "light"
     },
     "output_type": "display_data"
    }
   ],
   "source": [
    "sns.pairplot(df,hue='charges')"
   ]
  },
  {
   "cell_type": "code",
   "execution_count": 60,
   "id": "ad203ab2",
   "metadata": {},
   "outputs": [
    {
     "data": {
      "text/plain": [
       "<seaborn.axisgrid.PairGrid at 0x184466e1850>"
      ]
     },
     "execution_count": 60,
     "metadata": {},
     "output_type": "execute_result"
    },
    {
     "data": {
      "image/png": "[encoded data removed]",
      "text/plain": [
       "<Figure size 427.875x360 with 6 Axes>"
      ]
     },
     "metadata": {
      "needs_background": "light"
     },
     "output_type": "display_data"
    }
   ],
   "source": [
    "sns.pairplot(df_with_EDA,hue='charges')"
   ]
  },
  {
   "cell_type": "code",
   "execution_count": 35,
   "id": "80d5724e",
   "metadata": {},
   "outputs": [
    {
     "data": {
      "image/png": "[encoded data removed]",
      "text/plain": [
       "<Figure size 720x432 with 2 Axes>"
      ]
     },
     "metadata": {
      "needs_background": "light"
     },
     "output_type": "display_data"
    }
   ],
   "source": [
    "sns.heatmap(df.corr(), annot=True);"
   ]
  },
  {
   "cell_type": "code",
   "execution_count": 36,
   "id": "f56f9bd9",
   "metadata": {},
   "outputs": [
    {
     "data": {
      "image/png": "[encoded data removed]",
      "text/plain": [
       "<Figure size 720x432 with 2 Axes>"
      ]
     },
     "metadata": {
      "needs_background": "light"
     },
     "output_type": "display_data"
    }
   ],
   "source": [
    "sns.heatmap(df_with_EDA.corr(), annot=True);"
   ]
  },
  {
   "cell_type": "markdown",
   "id": "1f0c5a47",
   "metadata": {},
   "source": [
    "## without EDA lm model"
   ]
  },
  {
   "cell_type": "code",
   "execution_count": null,
   "id": "ee4250bb",
   "metadata": {},
   "outputs": [],
   "source": [
    "# children charges "
   ]
  },
  {
   "cell_type": "code",
   "execution_count": 77,
   "id": "556470e2",
   "metadata": {},
   "outputs": [
    {
     "data": {
      "text/html": [
       "<div>\n",
       "<style scoped>\n",
       "    .dataframe tbody tr th:only-of-type {\n",
       "        vertical-align: middle;\n",
       "    }\n",
       "\n",
       "    .dataframe tbody tr th {\n",
       "        vertical-align: top;\n",
       "    }\n",
       "\n",
       "    .dataframe thead th {\n",
       "        text-align: right;\n",
       "    }\n",
       "</style>\n",
       "<table border=\"1\" class=\"dataframe\">\n",
       "  <thead>\n",
       "    <tr style=\"text-align: right;\">\n",
       "      <th></th>\n",
       "      <th>age</th>\n",
       "      <th>bmi</th>\n",
       "      <th>charges</th>\n",
       "      <th>sex_male</th>\n",
       "      <th>smoker_yes</th>\n",
       "      <th>region_northwest</th>\n",
       "      <th>region_southeast</th>\n",
       "      <th>region_southwest</th>\n",
       "      <th>children_four</th>\n",
       "      <th>children_one</th>\n",
       "      <th>children_three</th>\n",
       "      <th>children_two</th>\n",
       "      <th>children_zero</th>\n",
       "    </tr>\n",
       "  </thead>\n",
       "  <tbody>\n",
       "    <tr>\n",
       "      <th>0</th>\n",
       "      <td>21.000</td>\n",
       "      <td>25.745</td>\n",
       "      <td>3279.869</td>\n",
       "      <td>1</td>\n",
       "      <td>0</td>\n",
       "      <td>0</td>\n",
       "      <td>0</td>\n",
       "      <td>0</td>\n",
       "      <td>0</td>\n",
       "      <td>0</td>\n",
       "      <td>0</td>\n",
       "      <td>1</td>\n",
       "      <td>0</td>\n",
       "    </tr>\n",
       "    <tr>\n",
       "      <th>1</th>\n",
       "      <td>36.977</td>\n",
       "      <td>25.744</td>\n",
       "      <td>21454.494</td>\n",
       "      <td>0</td>\n",
       "      <td>1</td>\n",
       "      <td>0</td>\n",
       "      <td>1</td>\n",
       "      <td>0</td>\n",
       "      <td>0</td>\n",
       "      <td>0</td>\n",
       "      <td>1</td>\n",
       "      <td>0</td>\n",
       "      <td>0</td>\n",
       "    </tr>\n",
       "    <tr>\n",
       "      <th>2</th>\n",
       "      <td>18.000</td>\n",
       "      <td>30.030</td>\n",
       "      <td>1720.354</td>\n",
       "      <td>1</td>\n",
       "      <td>0</td>\n",
       "      <td>0</td>\n",
       "      <td>1</td>\n",
       "      <td>0</td>\n",
       "      <td>0</td>\n",
       "      <td>1</td>\n",
       "      <td>0</td>\n",
       "      <td>0</td>\n",
       "      <td>0</td>\n",
       "    </tr>\n",
       "    <tr>\n",
       "      <th>3</th>\n",
       "      <td>37.000</td>\n",
       "      <td>30.677</td>\n",
       "      <td>6801.438</td>\n",
       "      <td>1</td>\n",
       "      <td>0</td>\n",
       "      <td>0</td>\n",
       "      <td>0</td>\n",
       "      <td>0</td>\n",
       "      <td>0</td>\n",
       "      <td>0</td>\n",
       "      <td>1</td>\n",
       "      <td>0</td>\n",
       "      <td>0</td>\n",
       "    </tr>\n",
       "    <tr>\n",
       "      <th>4</th>\n",
       "      <td>58.000</td>\n",
       "      <td>32.010</td>\n",
       "      <td>11946.626</td>\n",
       "      <td>1</td>\n",
       "      <td>0</td>\n",
       "      <td>0</td>\n",
       "      <td>1</td>\n",
       "      <td>0</td>\n",
       "      <td>0</td>\n",
       "      <td>1</td>\n",
       "      <td>0</td>\n",
       "      <td>0</td>\n",
       "      <td>0</td>\n",
       "    </tr>\n",
       "    <tr>\n",
       "      <th>...</th>\n",
       "      <td>...</td>\n",
       "      <td>...</td>\n",
       "      <td>...</td>\n",
       "      <td>...</td>\n",
       "      <td>...</td>\n",
       "      <td>...</td>\n",
       "      <td>...</td>\n",
       "      <td>...</td>\n",
       "      <td>...</td>\n",
       "      <td>...</td>\n",
       "      <td>...</td>\n",
       "      <td>...</td>\n",
       "      <td>...</td>\n",
       "    </tr>\n",
       "    <tr>\n",
       "      <th>2495</th>\n",
       "      <td>31.058</td>\n",
       "      <td>27.555</td>\n",
       "      <td>5889.104</td>\n",
       "      <td>1</td>\n",
       "      <td>0</td>\n",
       "      <td>0</td>\n",
       "      <td>1</td>\n",
       "      <td>0</td>\n",
       "      <td>1</td>\n",
       "      <td>0</td>\n",
       "      <td>0</td>\n",
       "      <td>0</td>\n",
       "      <td>0</td>\n",
       "    </tr>\n",
       "    <tr>\n",
       "      <th>2496</th>\n",
       "      <td>36.834</td>\n",
       "      <td>30.322</td>\n",
       "      <td>6788.534</td>\n",
       "      <td>1</td>\n",
       "      <td>0</td>\n",
       "      <td>0</td>\n",
       "      <td>0</td>\n",
       "      <td>0</td>\n",
       "      <td>0</td>\n",
       "      <td>0</td>\n",
       "      <td>1</td>\n",
       "      <td>0</td>\n",
       "      <td>0</td>\n",
       "    </tr>\n",
       "    <tr>\n",
       "      <th>2497</th>\n",
       "      <td>56.000</td>\n",
       "      <td>36.180</td>\n",
       "      <td>12401.747</td>\n",
       "      <td>0</td>\n",
       "      <td>0</td>\n",
       "      <td>1</td>\n",
       "      <td>0</td>\n",
       "      <td>0</td>\n",
       "      <td>0</td>\n",
       "      <td>0</td>\n",
       "      <td>0</td>\n",
       "      <td>1</td>\n",
       "      <td>0</td>\n",
       "    </tr>\n",
       "    <tr>\n",
       "      <th>2498</th>\n",
       "      <td>49.000</td>\n",
       "      <td>36.430</td>\n",
       "      <td>10376.295</td>\n",
       "      <td>1</td>\n",
       "      <td>0</td>\n",
       "      <td>1</td>\n",
       "      <td>0</td>\n",
       "      <td>0</td>\n",
       "      <td>0</td>\n",
       "      <td>0</td>\n",
       "      <td>1</td>\n",
       "      <td>0</td>\n",
       "      <td>0</td>\n",
       "    </tr>\n",
       "    <tr>\n",
       "      <th>2499</th>\n",
       "      <td>33.000</td>\n",
       "      <td>36.641</td>\n",
       "      <td>6658.237</td>\n",
       "      <td>1</td>\n",
       "      <td>0</td>\n",
       "      <td>0</td>\n",
       "      <td>0</td>\n",
       "      <td>1</td>\n",
       "      <td>0</td>\n",
       "      <td>0</td>\n",
       "      <td>0</td>\n",
       "      <td>0</td>\n",
       "      <td>0</td>\n",
       "    </tr>\n",
       "  </tbody>\n",
       "</table>\n",
       "<p>2243 rows × 13 columns</p>\n",
       "</div>"
      ],
      "text/plain": [
       "        age    bmi   charges  sex_male  smoker_yes  region_northwest  \\\n",
       "0    21.000 25.745  3279.869         1           0                 0   \n",
       "1    36.977 25.744 21454.494         0           1                 0   \n",
       "2    18.000 30.030  1720.354         1           0                 0   \n",
       "3    37.000 30.677  6801.438         1           0                 0   \n",
       "4    58.000 32.010 11946.626         1           0                 0   \n",
       "...     ...    ...       ...       ...         ...               ...   \n",
       "2495 31.058 27.555  5889.104         1           0                 0   \n",
       "2496 36.834 30.322  6788.534         1           0                 0   \n",
       "2497 56.000 36.180 12401.747         0           0                 1   \n",
       "2498 49.000 36.430 10376.295         1           0                 1   \n",
       "2499 33.000 36.641  6658.237         1           0                 0   \n",
       "\n",
       "      region_southeast  region_southwest  children_four  children_one  \\\n",
       "0                    0                 0              0             0   \n",
       "1                    1                 0              0             0   \n",
       "2                    1                 0              0             1   \n",
       "3                    0                 0              0             0   \n",
       "4                    1                 0              0             1   \n",
       "...                ...               ...            ...           ...   \n",
       "2495                 1                 0              1             0   \n",
       "2496                 0                 0              0             0   \n",
       "2497                 0                 0              0             0   \n",
       "2498                 0                 0              0             0   \n",
       "2499                 0                 1              0             0   \n",
       "\n",
       "      children_three  children_two  children_zero  \n",
       "0                  0             1              0  \n",
       "1                  1             0              0  \n",
       "2                  0             0              0  \n",
       "3                  1             0              0  \n",
       "4                  0             0              0  \n",
       "...              ...           ...            ...  \n",
       "2495               0             0              0  \n",
       "2496               1             0              0  \n",
       "2497               0             1              0  \n",
       "2498               1             0              0  \n",
       "2499               0             0              0  \n",
       "\n",
       "[2243 rows x 13 columns]"
      ]
     },
     "execution_count": 77,
     "metadata": {},
     "output_type": "execute_result"
    }
   ],
   "source": [
    "df_with_EDA = pd.get_dummies(df_with_EDA,drop_first=True)\n",
    "df_with_EDA"
   ]
  },
  {
   "cell_type": "code",
   "execution_count": 104,
   "id": "ada5cb46",
   "metadata": {},
   "outputs": [
    {
     "data": {
      "text/html": [
       "<div>\n",
       "<style scoped>\n",
       "    .dataframe tbody tr th:only-of-type {\n",
       "        vertical-align: middle;\n",
       "    }\n",
       "\n",
       "    .dataframe tbody tr th {\n",
       "        vertical-align: top;\n",
       "    }\n",
       "\n",
       "    .dataframe thead th {\n",
       "        text-align: right;\n",
       "    }\n",
       "</style>\n",
       "<table border=\"1\" class=\"dataframe\">\n",
       "  <thead>\n",
       "    <tr style=\"text-align: right;\">\n",
       "      <th></th>\n",
       "      <th>age</th>\n",
       "      <th>bmi</th>\n",
       "      <th>sex_male</th>\n",
       "      <th>smoker_yes</th>\n",
       "      <th>region_northwest</th>\n",
       "      <th>region_southeast</th>\n",
       "      <th>region_southwest</th>\n",
       "      <th>children_four</th>\n",
       "      <th>children_one</th>\n",
       "      <th>children_three</th>\n",
       "      <th>children_two</th>\n",
       "      <th>children_zero</th>\n",
       "    </tr>\n",
       "  </thead>\n",
       "  <tbody>\n",
       "    <tr>\n",
       "      <th>0</th>\n",
       "      <td>21.000</td>\n",
       "      <td>25.745</td>\n",
       "      <td>1</td>\n",
       "      <td>0</td>\n",
       "      <td>0</td>\n",
       "      <td>0</td>\n",
       "      <td>0</td>\n",
       "      <td>0</td>\n",
       "      <td>0</td>\n",
       "      <td>0</td>\n",
       "      <td>1</td>\n",
       "      <td>0</td>\n",
       "    </tr>\n",
       "    <tr>\n",
       "      <th>1</th>\n",
       "      <td>36.977</td>\n",
       "      <td>25.744</td>\n",
       "      <td>0</td>\n",
       "      <td>1</td>\n",
       "      <td>0</td>\n",
       "      <td>1</td>\n",
       "      <td>0</td>\n",
       "      <td>0</td>\n",
       "      <td>0</td>\n",
       "      <td>1</td>\n",
       "      <td>0</td>\n",
       "      <td>0</td>\n",
       "    </tr>\n",
       "    <tr>\n",
       "      <th>2</th>\n",
       "      <td>18.000</td>\n",
       "      <td>30.030</td>\n",
       "      <td>1</td>\n",
       "      <td>0</td>\n",
       "      <td>0</td>\n",
       "      <td>1</td>\n",
       "      <td>0</td>\n",
       "      <td>0</td>\n",
       "      <td>1</td>\n",
       "      <td>0</td>\n",
       "      <td>0</td>\n",
       "      <td>0</td>\n",
       "    </tr>\n",
       "    <tr>\n",
       "      <th>3</th>\n",
       "      <td>37.000</td>\n",
       "      <td>30.677</td>\n",
       "      <td>1</td>\n",
       "      <td>0</td>\n",
       "      <td>0</td>\n",
       "      <td>0</td>\n",
       "      <td>0</td>\n",
       "      <td>0</td>\n",
       "      <td>0</td>\n",
       "      <td>1</td>\n",
       "      <td>0</td>\n",
       "      <td>0</td>\n",
       "    </tr>\n",
       "    <tr>\n",
       "      <th>4</th>\n",
       "      <td>58.000</td>\n",
       "      <td>32.010</td>\n",
       "      <td>1</td>\n",
       "      <td>0</td>\n",
       "      <td>0</td>\n",
       "      <td>1</td>\n",
       "      <td>0</td>\n",
       "      <td>0</td>\n",
       "      <td>1</td>\n",
       "      <td>0</td>\n",
       "      <td>0</td>\n",
       "      <td>0</td>\n",
       "    </tr>\n",
       "    <tr>\n",
       "      <th>...</th>\n",
       "      <td>...</td>\n",
       "      <td>...</td>\n",
       "      <td>...</td>\n",
       "      <td>...</td>\n",
       "      <td>...</td>\n",
       "      <td>...</td>\n",
       "      <td>...</td>\n",
       "      <td>...</td>\n",
       "      <td>...</td>\n",
       "      <td>...</td>\n",
       "      <td>...</td>\n",
       "      <td>...</td>\n",
       "    </tr>\n",
       "    <tr>\n",
       "      <th>2495</th>\n",
       "      <td>31.058</td>\n",
       "      <td>27.555</td>\n",
       "      <td>1</td>\n",
       "      <td>0</td>\n",
       "      <td>0</td>\n",
       "      <td>1</td>\n",
       "      <td>0</td>\n",
       "      <td>1</td>\n",
       "      <td>0</td>\n",
       "      <td>0</td>\n",
       "      <td>0</td>\n",
       "      <td>0</td>\n",
       "    </tr>\n",
       "    <tr>\n",
       "      <th>2496</th>\n",
       "      <td>36.834</td>\n",
       "      <td>30.322</td>\n",
       "      <td>1</td>\n",
       "      <td>0</td>\n",
       "      <td>0</td>\n",
       "      <td>0</td>\n",
       "      <td>0</td>\n",
       "      <td>0</td>\n",
       "      <td>0</td>\n",
       "      <td>1</td>\n",
       "      <td>0</td>\n",
       "      <td>0</td>\n",
       "    </tr>\n",
       "    <tr>\n",
       "      <th>2497</th>\n",
       "      <td>56.000</td>\n",
       "      <td>36.180</td>\n",
       "      <td>0</td>\n",
       "      <td>0</td>\n",
       "      <td>1</td>\n",
       "      <td>0</td>\n",
       "      <td>0</td>\n",
       "      <td>0</td>\n",
       "      <td>0</td>\n",
       "      <td>0</td>\n",
       "      <td>1</td>\n",
       "      <td>0</td>\n",
       "    </tr>\n",
       "    <tr>\n",
       "      <th>2498</th>\n",
       "      <td>49.000</td>\n",
       "      <td>36.430</td>\n",
       "      <td>1</td>\n",
       "      <td>0</td>\n",
       "      <td>1</td>\n",
       "      <td>0</td>\n",
       "      <td>0</td>\n",
       "      <td>0</td>\n",
       "      <td>0</td>\n",
       "      <td>1</td>\n",
       "      <td>0</td>\n",
       "      <td>0</td>\n",
       "    </tr>\n",
       "    <tr>\n",
       "      <th>2499</th>\n",
       "      <td>33.000</td>\n",
       "      <td>36.641</td>\n",
       "      <td>1</td>\n",
       "      <td>0</td>\n",
       "      <td>0</td>\n",
       "      <td>0</td>\n",
       "      <td>1</td>\n",
       "      <td>0</td>\n",
       "      <td>0</td>\n",
       "      <td>0</td>\n",
       "      <td>0</td>\n",
       "      <td>0</td>\n",
       "    </tr>\n",
       "  </tbody>\n",
       "</table>\n",
       "<p>2243 rows × 12 columns</p>\n",
       "</div>"
      ],
      "text/plain": [
       "        age    bmi  sex_male  smoker_yes  region_northwest  region_southeast  \\\n",
       "0    21.000 25.745         1           0                 0                 0   \n",
       "1    36.977 25.744         0           1                 0                 1   \n",
       "2    18.000 30.030         1           0                 0                 1   \n",
       "3    37.000 30.677         1           0                 0                 0   \n",
       "4    58.000 32.010         1           0                 0                 1   \n",
       "...     ...    ...       ...         ...               ...               ...   \n",
       "2495 31.058 27.555         1           0                 0                 1   \n",
       "2496 36.834 30.322         1           0                 0                 0   \n",
       "2497 56.000 36.180         0           0                 1                 0   \n",
       "2498 49.000 36.430         1           0                 1                 0   \n",
       "2499 33.000 36.641         1           0                 0                 0   \n",
       "\n",
       "      region_southwest  children_four  children_one  children_three  \\\n",
       "0                    0              0             0               0   \n",
       "1                    0              0             0               1   \n",
       "2                    0              0             1               0   \n",
       "3                    0              0             0               1   \n",
       "4                    0              0             1               0   \n",
       "...                ...            ...           ...             ...   \n",
       "2495                 0              1             0               0   \n",
       "2496                 0              0             0               1   \n",
       "2497                 0              0             0               0   \n",
       "2498                 0              0             0               1   \n",
       "2499                 1              0             0               0   \n",
       "\n",
       "      children_two  children_zero  \n",
       "0                1              0  \n",
       "1                0              0  \n",
       "2                0              0  \n",
       "3                0              0  \n",
       "4                0              0  \n",
       "...            ...            ...  \n",
       "2495             0              0  \n",
       "2496             0              0  \n",
       "2497             1              0  \n",
       "2498             0              0  \n",
       "2499             0              0  \n",
       "\n",
       "[2243 rows x 12 columns]"
      ]
     },
     "execution_count": 104,
     "metadata": {},
     "output_type": "execute_result"
    }
   ],
   "source": [
    "X = df_with_EDA.drop(\"charges\", axis=1)\n",
    "y = df_with_EDA[\"charges\"]\n",
    "X"
   ]
  },
  {
   "cell_type": "code",
   "execution_count": 105,
   "id": "34578115",
   "metadata": {},
   "outputs": [
    {
     "data": {
      "text/plain": [
       "0       3279.869\n",
       "1      21454.494\n",
       "2       1720.354\n",
       "3       6801.438\n",
       "4      11946.626\n",
       "          ...   \n",
       "2495    5889.104\n",
       "2496    6788.534\n",
       "2497   12401.747\n",
       "2498   10376.295\n",
       "2499    6658.237\n",
       "Name: charges, Length: 2243, dtype: float64"
      ]
     },
     "execution_count": 105,
     "metadata": {},
     "output_type": "execute_result"
    }
   ],
   "source": [
    "y"
   ]
  },
  {
   "cell_type": "code",
   "execution_count": 106,
   "id": "cdee6d52",
   "metadata": {},
   "outputs": [
    {
     "name": "stdout",
     "output_type": "stream",
     "text": [
      "Train features shape :  (1794, 12)\n",
      "Train target shape   :  (1794,)\n",
      "Test features shape  :  (449, 12)\n",
      "Test target shape    :  (449,)\n"
     ]
    }
   ],
   "source": [
    "from sklearn.model_selection import train_test_split\n",
    "X_train, X_test, y_train, y_test = train_test_split(X, y, test_size=0.2, random_state=42)\n",
    "print(\"Train features shape : \", X_train.shape)\n",
    "print(\"Train target shape   : \", y_train.shape)\n",
    "print(\"Test features shape  : \", X_test.shape)\n",
    "print(\"Test target shape    : \", y_test.shape)"
   ]
  },
  {
   "cell_type": "markdown",
   "id": "b9939743",
   "metadata": {},
   "source": [
    "## 3. Implement Linear Regression"
   ]
  },
  {
   "cell_type": "code",
   "execution_count": 107,
   "id": "b4b3149c",
   "metadata": {},
   "outputs": [],
   "source": [
    "from sklearn.model_selection import train_test_split\n",
    "from sklearn.linear_model import LinearRegression\n",
    "from sklearn.model_selection import cross_validate, cross_val_score\n",
    "from sklearn.metrics import mean_absolute_error,mean_squared_error, r2_score"
   ]
  },
  {
   "cell_type": "code",
   "execution_count": 108,
   "id": "75f418a0",
   "metadata": {},
   "outputs": [],
   "source": [
    "def train_val(model, X_train, y_train, X_test, y_test):\n",
    "    \n",
    "    y_pred = model.predict(X_test)\n",
    "    y_train_pred = model.predict(X_train)\n",
    "    \n",
    "    scores = {\"train\": {\"R2\" : r2_score(y_train, y_train_pred),\n",
    "    \"mae\" : mean_absolute_error(y_train, y_train_pred),\n",
    "    \"mse\" : mean_squared_error(y_train, y_train_pred),                          \n",
    "    \"rmse\" : np.sqrt(mean_squared_error(y_train, y_train_pred))},\n",
    "    \n",
    "    \"test\": {\"R2\" : r2_score(y_test, y_pred),\n",
    "    \"mae\" : mean_absolute_error(y_test, y_pred),\n",
    "    \"mse\" : mean_squared_error(y_test, y_pred),\n",
    "    \"rmse\" : np.sqrt(mean_squared_error(y_test, y_pred))}}\n",
    "    \n",
    "    return pd.DataFrame(scores)"
   ]
  },
  {
   "cell_type": "code",
   "execution_count": 109,
   "id": "dc9ec76d",
   "metadata": {},
   "outputs": [
    {
     "data": {
      "text/plain": [
       "LinearRegression()"
      ]
     },
     "execution_count": 109,
     "metadata": {},
     "output_type": "execute_result"
    }
   ],
   "source": [
    "lm = LinearRegression()\n",
    "lm.fit(X_train,y_train)"
   ]
  },
  {
   "cell_type": "code",
   "execution_count": 110,
   "id": "f5bfa75c",
   "metadata": {},
   "outputs": [
    {
     "data": {
      "text/html": [
       "<div>\n",
       "<style scoped>\n",
       "    .dataframe tbody tr th:only-of-type {\n",
       "        vertical-align: middle;\n",
       "    }\n",
       "\n",
       "    .dataframe tbody tr th {\n",
       "        vertical-align: top;\n",
       "    }\n",
       "\n",
       "    .dataframe thead th {\n",
       "        text-align: right;\n",
       "    }\n",
       "</style>\n",
       "<table border=\"1\" class=\"dataframe\">\n",
       "  <thead>\n",
       "    <tr style=\"text-align: right;\">\n",
       "      <th></th>\n",
       "      <th>train</th>\n",
       "      <th>test</th>\n",
       "    </tr>\n",
       "  </thead>\n",
       "  <tbody>\n",
       "    <tr>\n",
       "      <th>R2</th>\n",
       "      <td>0.621</td>\n",
       "      <td>0.603</td>\n",
       "    </tr>\n",
       "    <tr>\n",
       "      <th>mae</th>\n",
       "      <td>2127.025</td>\n",
       "      <td>2215.389</td>\n",
       "    </tr>\n",
       "    <tr>\n",
       "      <th>mse</th>\n",
       "      <td>12320447.160</td>\n",
       "      <td>13235048.675</td>\n",
       "    </tr>\n",
       "    <tr>\n",
       "      <th>rmse</th>\n",
       "      <td>3510.049</td>\n",
       "      <td>3638.001</td>\n",
       "    </tr>\n",
       "  </tbody>\n",
       "</table>\n",
       "</div>"
      ],
      "text/plain": [
       "            train         test\n",
       "R2          0.621        0.603\n",
       "mae      2127.025     2215.389\n",
       "mse  12320447.160 13235048.675\n",
       "rmse     3510.049     3638.001"
      ]
     },
     "execution_count": 110,
     "metadata": {},
     "output_type": "execute_result"
    }
   ],
   "source": [
    "pd.options.display.float_format = '{:.3f}'.format\n",
    "train_val(lm, X_train, y_train, X_test, y_test)"
   ]
  },
  {
   "cell_type": "markdown",
   "id": "c37a9e5f",
   "metadata": {},
   "source": [
    "## CV"
   ]
  },
  {
   "cell_type": "code",
   "execution_count": 111,
   "id": "3fa3b2d6",
   "metadata": {},
   "outputs": [],
   "source": [
    "model = LinearRegression()\n",
    "scores = cross_validate(model, X_train, y_train, scoring = ['r2', 'neg_mean_absolute_error','neg_mean_squared_error', \\\n",
    "                                                            'neg_root_mean_squared_error'], cv = 10)"
   ]
  },
  {
   "cell_type": "code",
   "execution_count": 112,
   "id": "7068fec2",
   "metadata": {},
   "outputs": [
    {
     "data": {
      "text/html": [
       "<div>\n",
       "<style scoped>\n",
       "    .dataframe tbody tr th:only-of-type {\n",
       "        vertical-align: middle;\n",
       "    }\n",
       "\n",
       "    .dataframe tbody tr th {\n",
       "        vertical-align: top;\n",
       "    }\n",
       "\n",
       "    .dataframe thead th {\n",
       "        text-align: right;\n",
       "    }\n",
       "</style>\n",
       "<table border=\"1\" class=\"dataframe\">\n",
       "  <thead>\n",
       "    <tr style=\"text-align: right;\">\n",
       "      <th></th>\n",
       "      <th>fit_time</th>\n",
       "      <th>score_time</th>\n",
       "      <th>test_r2</th>\n",
       "      <th>test_neg_mean_absolute_error</th>\n",
       "      <th>test_neg_mean_squared_error</th>\n",
       "      <th>test_neg_root_mean_squared_error</th>\n",
       "    </tr>\n",
       "  </thead>\n",
       "  <tbody>\n",
       "    <tr>\n",
       "      <th>1</th>\n",
       "      <td>0.005</td>\n",
       "      <td>0.003</td>\n",
       "      <td>0.680</td>\n",
       "      <td>-2101.846</td>\n",
       "      <td>-11244176.795</td>\n",
       "      <td>-3353.234</td>\n",
       "    </tr>\n",
       "    <tr>\n",
       "      <th>2</th>\n",
       "      <td>0.004</td>\n",
       "      <td>0.002</td>\n",
       "      <td>0.592</td>\n",
       "      <td>-2124.663</td>\n",
       "      <td>-12311718.060</td>\n",
       "      <td>-3508.806</td>\n",
       "    </tr>\n",
       "    <tr>\n",
       "      <th>3</th>\n",
       "      <td>0.003</td>\n",
       "      <td>0.004</td>\n",
       "      <td>0.602</td>\n",
       "      <td>-2212.396</td>\n",
       "      <td>-13158313.145</td>\n",
       "      <td>-3627.439</td>\n",
       "    </tr>\n",
       "    <tr>\n",
       "      <th>4</th>\n",
       "      <td>0.005</td>\n",
       "      <td>0.003</td>\n",
       "      <td>0.582</td>\n",
       "      <td>-2266.674</td>\n",
       "      <td>-13618279.200</td>\n",
       "      <td>-3690.295</td>\n",
       "    </tr>\n",
       "    <tr>\n",
       "      <th>5</th>\n",
       "      <td>0.003</td>\n",
       "      <td>0.003</td>\n",
       "      <td>0.495</td>\n",
       "      <td>-2262.706</td>\n",
       "      <td>-15074209.388</td>\n",
       "      <td>-3882.552</td>\n",
       "    </tr>\n",
       "    <tr>\n",
       "      <th>6</th>\n",
       "      <td>0.004</td>\n",
       "      <td>0.002</td>\n",
       "      <td>0.670</td>\n",
       "      <td>-2046.046</td>\n",
       "      <td>-11088145.665</td>\n",
       "      <td>-3329.887</td>\n",
       "    </tr>\n",
       "    <tr>\n",
       "      <th>7</th>\n",
       "      <td>0.004</td>\n",
       "      <td>0.003</td>\n",
       "      <td>0.738</td>\n",
       "      <td>-1942.090</td>\n",
       "      <td>-8025113.580</td>\n",
       "      <td>-2832.863</td>\n",
       "    </tr>\n",
       "    <tr>\n",
       "      <th>8</th>\n",
       "      <td>0.004</td>\n",
       "      <td>0.003</td>\n",
       "      <td>0.490</td>\n",
       "      <td>-2339.892</td>\n",
       "      <td>-16729974.221</td>\n",
       "      <td>-4090.229</td>\n",
       "    </tr>\n",
       "    <tr>\n",
       "      <th>9</th>\n",
       "      <td>0.003</td>\n",
       "      <td>0.002</td>\n",
       "      <td>0.572</td>\n",
       "      <td>-2184.567</td>\n",
       "      <td>-14261856.668</td>\n",
       "      <td>-3776.487</td>\n",
       "    </tr>\n",
       "    <tr>\n",
       "      <th>10</th>\n",
       "      <td>0.003</td>\n",
       "      <td>0.002</td>\n",
       "      <td>0.705</td>\n",
       "      <td>-1943.190</td>\n",
       "      <td>-9568828.838</td>\n",
       "      <td>-3093.352</td>\n",
       "    </tr>\n",
       "  </tbody>\n",
       "</table>\n",
       "</div>"
      ],
      "text/plain": [
       "    fit_time  score_time  test_r2  test_neg_mean_absolute_error  \\\n",
       "1      0.005       0.003    0.680                     -2101.846   \n",
       "2      0.004       0.002    0.592                     -2124.663   \n",
       "3      0.003       0.004    0.602                     -2212.396   \n",
       "4      0.005       0.003    0.582                     -2266.674   \n",
       "5      0.003       0.003    0.495                     -2262.706   \n",
       "6      0.004       0.002    0.670                     -2046.046   \n",
       "7      0.004       0.003    0.738                     -1942.090   \n",
       "8      0.004       0.003    0.490                     -2339.892   \n",
       "9      0.003       0.002    0.572                     -2184.567   \n",
       "10     0.003       0.002    0.705                     -1943.190   \n",
       "\n",
       "    test_neg_mean_squared_error  test_neg_root_mean_squared_error  \n",
       "1                 -11244176.795                         -3353.234  \n",
       "2                 -12311718.060                         -3508.806  \n",
       "3                 -13158313.145                         -3627.439  \n",
       "4                 -13618279.200                         -3690.295  \n",
       "5                 -15074209.388                         -3882.552  \n",
       "6                 -11088145.665                         -3329.887  \n",
       "7                  -8025113.580                         -2832.863  \n",
       "8                 -16729974.221                         -4090.229  \n",
       "9                 -14261856.668                         -3776.487  \n",
       "10                 -9568828.838                         -3093.352  "
      ]
     },
     "execution_count": 112,
     "metadata": {},
     "output_type": "execute_result"
    }
   ],
   "source": [
    "pd.DataFrame(scores, index = range(1, 11))"
   ]
  },
  {
   "cell_type": "code",
   "execution_count": 113,
   "id": "d2282781",
   "metadata": {},
   "outputs": [
    {
     "data": {
      "text/plain": [
       "test_r2                                    0.613\n",
       "test_neg_mean_absolute_error           -2142.407\n",
       "test_neg_mean_squared_error        -12508061.556\n",
       "test_neg_root_mean_squared_error       -3518.514\n",
       "dtype: float64"
      ]
     },
     "execution_count": 113,
     "metadata": {},
     "output_type": "execute_result"
    }
   ],
   "source": [
    "scores = pd.DataFrame(scores, index = range(1, 11))\n",
    "scores.iloc[:,2:].mean()\n"
   ]
  },
  {
   "cell_type": "code",
   "execution_count": 114,
   "id": "7eb22e2c",
   "metadata": {},
   "outputs": [
    {
     "data": {
      "text/html": [
       "<div>\n",
       "<style scoped>\n",
       "    .dataframe tbody tr th:only-of-type {\n",
       "        vertical-align: middle;\n",
       "    }\n",
       "\n",
       "    .dataframe tbody tr th {\n",
       "        vertical-align: top;\n",
       "    }\n",
       "\n",
       "    .dataframe thead th {\n",
       "        text-align: right;\n",
       "    }\n",
       "</style>\n",
       "<table border=\"1\" class=\"dataframe\">\n",
       "  <thead>\n",
       "    <tr style=\"text-align: right;\">\n",
       "      <th></th>\n",
       "      <th>train</th>\n",
       "      <th>test</th>\n",
       "    </tr>\n",
       "  </thead>\n",
       "  <tbody>\n",
       "    <tr>\n",
       "      <th>R2</th>\n",
       "      <td>0.621</td>\n",
       "      <td>0.603</td>\n",
       "    </tr>\n",
       "    <tr>\n",
       "      <th>mae</th>\n",
       "      <td>2127.025</td>\n",
       "      <td>2215.389</td>\n",
       "    </tr>\n",
       "    <tr>\n",
       "      <th>mse</th>\n",
       "      <td>12320447.160</td>\n",
       "      <td>13235048.675</td>\n",
       "    </tr>\n",
       "    <tr>\n",
       "      <th>rmse</th>\n",
       "      <td>3510.049</td>\n",
       "      <td>3638.001</td>\n",
       "    </tr>\n",
       "  </tbody>\n",
       "</table>\n",
       "</div>"
      ],
      "text/plain": [
       "            train         test\n",
       "R2          0.621        0.603\n",
       "mae      2127.025     2215.389\n",
       "mse  12320447.160 13235048.675\n",
       "rmse     3510.049     3638.001"
      ]
     },
     "execution_count": 114,
     "metadata": {},
     "output_type": "execute_result"
    }
   ],
   "source": [
    "train_val(lm, X_train, y_train, X_test, y_test)"
   ]
  },
  {
   "cell_type": "code",
   "execution_count": null,
   "id": "3b3c1090",
   "metadata": {},
   "outputs": [],
   "source": []
  },
  {
   "cell_type": "code",
   "execution_count": 100,
   "id": "54df8762",
   "metadata": {},
   "outputs": [],
   "source": [
    "#def adj_r2(y_test, y_pred, df):\n",
    "    r2 = r2_score(y_test, y_pred)\n",
    "    n = df.shape[0]   # number of observations\n",
    "    p = df.shape[1]-1 # number of independent variables \n",
    "    adj_r2 = 1 - (1-r2)*(n-1)/(n-p-1)\n",
    "    return adj_r2"
   ]
  },
  {
   "cell_type": "code",
   "execution_count": 101,
   "id": "336513a6",
   "metadata": {},
   "outputs": [],
   "source": [
    "#y_pred = lm.predict(X_test)"
   ]
  },
  {
   "cell_type": "code",
   "execution_count": 102,
   "id": "98f10b3c",
   "metadata": {},
   "outputs": [
    {
     "data": {
      "text/plain": [
       "0.6006706559072037"
      ]
     },
     "execution_count": 102,
     "metadata": {},
     "output_type": "execute_result"
    }
   ],
   "source": [
    "#adj_r2(y_test, y_pred, df_with_EDA)"
   ]
  },
  {
   "cell_type": "code",
   "execution_count": 115,
   "id": "96b1fdaf",
   "metadata": {},
   "outputs": [
    {
     "data": {
      "text/html": [
       "<div>\n",
       "<style scoped>\n",
       "    .dataframe tbody tr th:only-of-type {\n",
       "        vertical-align: middle;\n",
       "    }\n",
       "\n",
       "    .dataframe tbody tr th {\n",
       "        vertical-align: top;\n",
       "    }\n",
       "\n",
       "    .dataframe thead th {\n",
       "        text-align: right;\n",
       "    }\n",
       "</style>\n",
       "<table border=\"1\" class=\"dataframe\">\n",
       "  <thead>\n",
       "    <tr style=\"text-align: right;\">\n",
       "      <th></th>\n",
       "      <th>train</th>\n",
       "      <th>test</th>\n",
       "    </tr>\n",
       "  </thead>\n",
       "  <tbody>\n",
       "    <tr>\n",
       "      <th>R2</th>\n",
       "      <td>0.621</td>\n",
       "      <td>0.603</td>\n",
       "    </tr>\n",
       "    <tr>\n",
       "      <th>mae</th>\n",
       "      <td>2127.025</td>\n",
       "      <td>2215.389</td>\n",
       "    </tr>\n",
       "    <tr>\n",
       "      <th>mse</th>\n",
       "      <td>12320447.160</td>\n",
       "      <td>13235048.675</td>\n",
       "    </tr>\n",
       "    <tr>\n",
       "      <th>rmse</th>\n",
       "      <td>3510.049</td>\n",
       "      <td>3638.001</td>\n",
       "    </tr>\n",
       "  </tbody>\n",
       "</table>\n",
       "</div>"
      ],
      "text/plain": [
       "            train         test\n",
       "R2          0.621        0.603\n",
       "mae      2127.025     2215.389\n",
       "mse  12320447.160 13235048.675\n",
       "rmse     3510.049     3638.001"
      ]
     },
     "execution_count": 115,
     "metadata": {},
     "output_type": "execute_result"
    }
   ],
   "source": [
    "train_val(lm, X_train, y_train, X_test, y_test)"
   ]
  },
  {
   "cell_type": "markdown",
   "id": "8cc45e87",
   "metadata": {},
   "source": [
    "## Scaling"
   ]
  },
  {
   "cell_type": "code",
   "execution_count": 116,
   "id": "64d2792c",
   "metadata": {},
   "outputs": [
    {
     "data": {
      "application/javascript": [
       "\n",
       "        if (window._pyforest_update_imports_cell) { window._pyforest_update_imports_cell('from sklearn.model_selection import train_test_split\\nfrom sklearn.preprocessing import MinMaxScaler'); }\n",
       "    "
      ],
      "text/plain": [
       "<IPython.core.display.Javascript object>"
      ]
     },
     "metadata": {},
     "output_type": "display_data"
    }
   ],
   "source": [
    "scaler = MinMaxScaler()  # dummylerden kaynaklı bunu seçtik\n",
    "scaler.fit(X_train)\n",
    "# dummy olanlar 0 ve 1 olarak kalsın diye \n",
    "X_train_scaled = scaler.transform(X_train)\n",
    "X_test_scaled = scaler.transform(X_test)\n"
   ]
  },
  {
   "cell_type": "markdown",
   "id": "7c9cde93",
   "metadata": {},
   "source": [
    "## Ridge"
   ]
  },
  {
   "cell_type": "code",
   "execution_count": 117,
   "id": "1fe35344",
   "metadata": {},
   "outputs": [],
   "source": [
    "from sklearn.linear_model import Ridge, RidgeCV"
   ]
  },
  {
   "cell_type": "code",
   "execution_count": 118,
   "id": "f9b2d7db",
   "metadata": {},
   "outputs": [],
   "source": [
    "ridge_model = Ridge(random_state=42)"
   ]
  },
  {
   "cell_type": "code",
   "execution_count": 119,
   "id": "0a63527f",
   "metadata": {},
   "outputs": [
    {
     "data": {
      "text/plain": [
       "Ridge(random_state=42)"
      ]
     },
     "execution_count": 119,
     "metadata": {},
     "output_type": "execute_result"
    }
   ],
   "source": [
    "ridge_model.fit(X_train_scaled, y_train)"
   ]
  },
  {
   "cell_type": "code",
   "execution_count": 120,
   "id": "13e75383",
   "metadata": {},
   "outputs": [
    {
     "data": {
      "text/html": [
       "<div>\n",
       "<style scoped>\n",
       "    .dataframe tbody tr th:only-of-type {\n",
       "        vertical-align: middle;\n",
       "    }\n",
       "\n",
       "    .dataframe tbody tr th {\n",
       "        vertical-align: top;\n",
       "    }\n",
       "\n",
       "    .dataframe thead th {\n",
       "        text-align: right;\n",
       "    }\n",
       "</style>\n",
       "<table border=\"1\" class=\"dataframe\">\n",
       "  <thead>\n",
       "    <tr style=\"text-align: right;\">\n",
       "      <th></th>\n",
       "      <th>train</th>\n",
       "      <th>test</th>\n",
       "    </tr>\n",
       "  </thead>\n",
       "  <tbody>\n",
       "    <tr>\n",
       "      <th>R2</th>\n",
       "      <td>0.621</td>\n",
       "      <td>0.602</td>\n",
       "    </tr>\n",
       "    <tr>\n",
       "      <th>mae</th>\n",
       "      <td>2132.226</td>\n",
       "      <td>2224.083</td>\n",
       "    </tr>\n",
       "    <tr>\n",
       "      <th>mse</th>\n",
       "      <td>12321985.137</td>\n",
       "      <td>13250758.966</td>\n",
       "    </tr>\n",
       "    <tr>\n",
       "      <th>rmse</th>\n",
       "      <td>3510.269</td>\n",
       "      <td>3640.159</td>\n",
       "    </tr>\n",
       "  </tbody>\n",
       "</table>\n",
       "</div>"
      ],
      "text/plain": [
       "            train         test\n",
       "R2          0.621        0.602\n",
       "mae      2132.226     2224.083\n",
       "mse  12321985.137 13250758.966\n",
       "rmse     3510.269     3640.159"
      ]
     },
     "execution_count": 120,
     "metadata": {},
     "output_type": "execute_result"
    }
   ],
   "source": [
    "train_val(ridge_model, X_train_scaled, y_train, X_test_scaled, y_test)"
   ]
  },
  {
   "cell_type": "markdown",
   "id": "c68ade44",
   "metadata": {},
   "source": [
    "## Finding best alpha for Ridge"
   ]
  },
  {
   "cell_type": "code",
   "execution_count": 121,
   "id": "e12c73f0",
   "metadata": {},
   "outputs": [],
   "source": [
    "from sklearn.model_selection import GridSearchCV"
   ]
  },
  {
   "cell_type": "code",
   "execution_count": 130,
   "id": "5bfe72fc",
   "metadata": {},
   "outputs": [
    {
     "data": {
      "text/plain": [
       "array([1.000e-04, 1.020e-02, 2.030e-02, 3.040e-02, 4.050e-02, 5.060e-02,\n",
       "       6.070e-02, 7.080e-02, 8.090e-02, 9.100e-02, 1.011e-01, 1.112e-01,\n",
       "       1.213e-01, 1.314e-01, 1.415e-01, 1.516e-01, 1.617e-01, 1.718e-01,\n",
       "       1.819e-01, 1.920e-01, 2.021e-01, 2.122e-01, 2.223e-01, 2.324e-01,\n",
       "       2.425e-01, 2.526e-01, 2.627e-01, 2.728e-01, 2.829e-01, 2.930e-01,\n",
       "       3.031e-01, 3.132e-01, 3.233e-01, 3.334e-01, 3.435e-01, 3.536e-01,\n",
       "       3.637e-01, 3.738e-01, 3.839e-01, 3.940e-01, 4.041e-01, 4.142e-01,\n",
       "       4.243e-01, 4.344e-01, 4.445e-01, 4.546e-01, 4.647e-01, 4.748e-01,\n",
       "       4.849e-01, 4.950e-01, 5.051e-01, 5.152e-01, 5.253e-01, 5.354e-01,\n",
       "       5.455e-01, 5.556e-01, 5.657e-01, 5.758e-01, 5.859e-01, 5.960e-01,\n",
       "       6.061e-01, 6.162e-01, 6.263e-01, 6.364e-01, 6.465e-01, 6.566e-01,\n",
       "       6.667e-01, 6.768e-01, 6.869e-01, 6.970e-01, 7.071e-01, 7.172e-01,\n",
       "       7.273e-01, 7.374e-01, 7.475e-01, 7.576e-01, 7.677e-01, 7.778e-01,\n",
       "       7.879e-01, 7.980e-01, 8.081e-01, 8.182e-01, 8.283e-01, 8.384e-01,\n",
       "       8.485e-01, 8.586e-01, 8.687e-01, 8.788e-01, 8.889e-01, 8.990e-01,\n",
       "       9.091e-01, 9.192e-01, 9.293e-01, 9.394e-01, 9.495e-01, 9.596e-01,\n",
       "       9.697e-01, 9.798e-01, 9.899e-01, 1.000e+00])"
      ]
     },
     "execution_count": 130,
     "metadata": {},
     "output_type": "execute_result"
    }
   ],
   "source": [
    "alpha_space = np.linspace(0.0001, 1, 100)\n",
    "alpha_space"
   ]
  },
  {
   "cell_type": "code",
   "execution_count": 131,
   "id": "244bac5f",
   "metadata": {},
   "outputs": [],
   "source": [
    "ridge_model = Ridge(random_state=42)\n",
    "\n",
    "param_grid = {'alpha':alpha_space}\n",
    "\n",
    "ridge_grid_model = GridSearchCV(estimator=ridge_model,\n",
    "                          param_grid=param_grid,\n",
    "                          scoring='neg_root_mean_squared_error',\n",
    "                          cv=10,\n",
    "                          n_jobs = -1)  "
   ]
  },
  {
   "cell_type": "code",
   "execution_count": 132,
   "id": "f6f3fcf9",
   "metadata": {},
   "outputs": [
    {
     "data": {
      "text/plain": [
       "GridSearchCV(cv=10, estimator=Ridge(random_state=42), n_jobs=-1,\n",
       "             param_grid={'alpha': array([1.000e-04, 1.020e-02, 2.030e-02, 3.040e-02, 4.050e-02, 5.060e-02,\n",
       "       6.070e-02, 7.080e-02, 8.090e-02, 9.100e-02, 1.011e-01, 1.112e-01,\n",
       "       1.213e-01, 1.314e-01, 1.415e-01, 1.516e-01, 1.617e-01, 1.718e-01,\n",
       "       1.819e-01, 1.920e-01, 2.021e-01, 2.122e-01, 2.223e-01, 2.324e-01,\n",
       "       2.425e-01, 2.526e-01, 2...\n",
       "       6.667e-01, 6.768e-01, 6.869e-01, 6.970e-01, 7.071e-01, 7.172e-01,\n",
       "       7.273e-01, 7.374e-01, 7.475e-01, 7.576e-01, 7.677e-01, 7.778e-01,\n",
       "       7.879e-01, 7.980e-01, 8.081e-01, 8.182e-01, 8.283e-01, 8.384e-01,\n",
       "       8.485e-01, 8.586e-01, 8.687e-01, 8.788e-01, 8.889e-01, 8.990e-01,\n",
       "       9.091e-01, 9.192e-01, 9.293e-01, 9.394e-01, 9.495e-01, 9.596e-01,\n",
       "       9.697e-01, 9.798e-01, 9.899e-01, 1.000e+00])},\n",
       "             scoring='neg_root_mean_squared_error')"
      ]
     },
     "execution_count": 132,
     "metadata": {},
     "output_type": "execute_result"
    }
   ],
   "source": [
    "ridge_grid_model.fit(X_train_scaled,y_train)"
   ]
  },
  {
   "cell_type": "code",
   "execution_count": 133,
   "id": "307b8909",
   "metadata": {},
   "outputs": [
    {
     "data": {
      "text/plain": [
       "{'alpha': 0.0001}"
      ]
     },
     "execution_count": 133,
     "metadata": {},
     "output_type": "execute_result"
    }
   ],
   "source": [
    "ridge_grid_model.best_params_"
   ]
  },
  {
   "cell_type": "code",
   "execution_count": 134,
   "id": "bdf09259",
   "metadata": {},
   "outputs": [
    {
     "data": {
      "text/html": [
       "<div>\n",
       "<style scoped>\n",
       "    .dataframe tbody tr th:only-of-type {\n",
       "        vertical-align: middle;\n",
       "    }\n",
       "\n",
       "    .dataframe tbody tr th {\n",
       "        vertical-align: top;\n",
       "    }\n",
       "\n",
       "    .dataframe thead th {\n",
       "        text-align: right;\n",
       "    }\n",
       "</style>\n",
       "<table border=\"1\" class=\"dataframe\">\n",
       "  <thead>\n",
       "    <tr style=\"text-align: right;\">\n",
       "      <th></th>\n",
       "      <th>mean_fit_time</th>\n",
       "      <th>std_fit_time</th>\n",
       "      <th>mean_score_time</th>\n",
       "      <th>std_score_time</th>\n",
       "      <th>param_alpha</th>\n",
       "      <th>params</th>\n",
       "      <th>split0_test_score</th>\n",
       "      <th>split1_test_score</th>\n",
       "      <th>split2_test_score</th>\n",
       "      <th>split3_test_score</th>\n",
       "      <th>split4_test_score</th>\n",
       "      <th>split5_test_score</th>\n",
       "      <th>split6_test_score</th>\n",
       "      <th>split7_test_score</th>\n",
       "      <th>split8_test_score</th>\n",
       "      <th>split9_test_score</th>\n",
       "      <th>mean_test_score</th>\n",
       "      <th>std_test_score</th>\n",
       "      <th>rank_test_score</th>\n",
       "    </tr>\n",
       "  </thead>\n",
       "  <tbody>\n",
       "    <tr>\n",
       "      <th>0</th>\n",
       "      <td>0.003</td>\n",
       "      <td>0.001</td>\n",
       "      <td>0.001</td>\n",
       "      <td>0.001</td>\n",
       "      <td>0.000</td>\n",
       "      <td>{'alpha': 0.0001}</td>\n",
       "      <td>-3353.234</td>\n",
       "      <td>-3508.806</td>\n",
       "      <td>-3627.439</td>\n",
       "      <td>-3690.295</td>\n",
       "      <td>-3882.551</td>\n",
       "      <td>-3329.886</td>\n",
       "      <td>-2832.864</td>\n",
       "      <td>-4090.229</td>\n",
       "      <td>-3776.487</td>\n",
       "      <td>-3093.352</td>\n",
       "      <td>-3518.514</td>\n",
       "      <td>357.935</td>\n",
       "      <td>1</td>\n",
       "    </tr>\n",
       "    <tr>\n",
       "      <th>1</th>\n",
       "      <td>0.002</td>\n",
       "      <td>0.000</td>\n",
       "      <td>0.001</td>\n",
       "      <td>0.000</td>\n",
       "      <td>0.010</td>\n",
       "      <td>{'alpha': 0.010199999999999999}</td>\n",
       "      <td>-3353.289</td>\n",
       "      <td>-3508.835</td>\n",
       "      <td>-3627.435</td>\n",
       "      <td>-3690.292</td>\n",
       "      <td>-3882.506</td>\n",
       "      <td>-3329.836</td>\n",
       "      <td>-2832.936</td>\n",
       "      <td>-4090.201</td>\n",
       "      <td>-3776.485</td>\n",
       "      <td>-3093.333</td>\n",
       "      <td>-3518.515</td>\n",
       "      <td>357.914</td>\n",
       "      <td>2</td>\n",
       "    </tr>\n",
       "    <tr>\n",
       "      <th>2</th>\n",
       "      <td>0.002</td>\n",
       "      <td>0.000</td>\n",
       "      <td>0.001</td>\n",
       "      <td>0.000</td>\n",
       "      <td>0.020</td>\n",
       "      <td>{'alpha': 0.0203}</td>\n",
       "      <td>-3353.344</td>\n",
       "      <td>-3508.864</td>\n",
       "      <td>-3627.431</td>\n",
       "      <td>-3690.290</td>\n",
       "      <td>-3882.460</td>\n",
       "      <td>-3329.786</td>\n",
       "      <td>-2833.009</td>\n",
       "      <td>-4090.173</td>\n",
       "      <td>-3776.483</td>\n",
       "      <td>-3093.313</td>\n",
       "      <td>-3518.515</td>\n",
       "      <td>357.893</td>\n",
       "      <td>3</td>\n",
       "    </tr>\n",
       "    <tr>\n",
       "      <th>3</th>\n",
       "      <td>0.002</td>\n",
       "      <td>0.000</td>\n",
       "      <td>0.001</td>\n",
       "      <td>0.000</td>\n",
       "      <td>0.030</td>\n",
       "      <td>{'alpha': 0.0304}</td>\n",
       "      <td>-3353.399</td>\n",
       "      <td>-3508.893</td>\n",
       "      <td>-3627.427</td>\n",
       "      <td>-3690.287</td>\n",
       "      <td>-3882.415</td>\n",
       "      <td>-3329.736</td>\n",
       "      <td>-2833.081</td>\n",
       "      <td>-4090.145</td>\n",
       "      <td>-3776.481</td>\n",
       "      <td>-3093.294</td>\n",
       "      <td>-3518.516</td>\n",
       "      <td>357.872</td>\n",
       "      <td>4</td>\n",
       "    </tr>\n",
       "    <tr>\n",
       "      <th>4</th>\n",
       "      <td>0.002</td>\n",
       "      <td>0.001</td>\n",
       "      <td>0.001</td>\n",
       "      <td>0.000</td>\n",
       "      <td>0.041</td>\n",
       "      <td>{'alpha': 0.0405}</td>\n",
       "      <td>-3353.454</td>\n",
       "      <td>-3508.922</td>\n",
       "      <td>-3627.424</td>\n",
       "      <td>-3690.284</td>\n",
       "      <td>-3882.369</td>\n",
       "      <td>-3329.687</td>\n",
       "      <td>-2833.153</td>\n",
       "      <td>-4090.117</td>\n",
       "      <td>-3776.479</td>\n",
       "      <td>-3093.274</td>\n",
       "      <td>-3518.516</td>\n",
       "      <td>357.851</td>\n",
       "      <td>5</td>\n",
       "    </tr>\n",
       "    <tr>\n",
       "      <th>...</th>\n",
       "      <td>...</td>\n",
       "      <td>...</td>\n",
       "      <td>...</td>\n",
       "      <td>...</td>\n",
       "      <td>...</td>\n",
       "      <td>...</td>\n",
       "      <td>...</td>\n",
       "      <td>...</td>\n",
       "      <td>...</td>\n",
       "      <td>...</td>\n",
       "      <td>...</td>\n",
       "      <td>...</td>\n",
       "      <td>...</td>\n",
       "      <td>...</td>\n",
       "      <td>...</td>\n",
       "      <td>...</td>\n",
       "      <td>...</td>\n",
       "      <td>...</td>\n",
       "      <td>...</td>\n",
       "    </tr>\n",
       "    <tr>\n",
       "      <th>95</th>\n",
       "      <td>0.001</td>\n",
       "      <td>0.000</td>\n",
       "      <td>0.000</td>\n",
       "      <td>0.000</td>\n",
       "      <td>0.960</td>\n",
       "      <td>{'alpha': 0.9595999999999999}</td>\n",
       "      <td>-3358.656</td>\n",
       "      <td>-3511.711</td>\n",
       "      <td>-3627.312</td>\n",
       "      <td>-3690.267</td>\n",
       "      <td>-3878.476</td>\n",
       "      <td>-3325.556</td>\n",
       "      <td>-2839.945</td>\n",
       "      <td>-4087.777</td>\n",
       "      <td>-3776.523</td>\n",
       "      <td>-3091.815</td>\n",
       "      <td>-3518.804</td>\n",
       "      <td>355.935</td>\n",
       "      <td>96</td>\n",
       "    </tr>\n",
       "    <tr>\n",
       "      <th>96</th>\n",
       "      <td>0.001</td>\n",
       "      <td>0.000</td>\n",
       "      <td>0.000</td>\n",
       "      <td>0.000</td>\n",
       "      <td>0.970</td>\n",
       "      <td>{'alpha': 0.9697}</td>\n",
       "      <td>-3358.716</td>\n",
       "      <td>-3511.744</td>\n",
       "      <td>-3627.313</td>\n",
       "      <td>-3690.270</td>\n",
       "      <td>-3878.436</td>\n",
       "      <td>-3325.514</td>\n",
       "      <td>-2840.022</td>\n",
       "      <td>-4087.754</td>\n",
       "      <td>-3776.525</td>\n",
       "      <td>-3091.803</td>\n",
       "      <td>-3518.810</td>\n",
       "      <td>355.914</td>\n",
       "      <td>97</td>\n",
       "    </tr>\n",
       "    <tr>\n",
       "      <th>97</th>\n",
       "      <td>0.001</td>\n",
       "      <td>0.000</td>\n",
       "      <td>0.000</td>\n",
       "      <td>0.000</td>\n",
       "      <td>0.980</td>\n",
       "      <td>{'alpha': 0.9798}</td>\n",
       "      <td>-3358.775</td>\n",
       "      <td>-3511.776</td>\n",
       "      <td>-3627.315</td>\n",
       "      <td>-3690.272</td>\n",
       "      <td>-3878.396</td>\n",
       "      <td>-3325.473</td>\n",
       "      <td>-2840.099</td>\n",
       "      <td>-4087.730</td>\n",
       "      <td>-3776.528</td>\n",
       "      <td>-3091.790</td>\n",
       "      <td>-3518.815</td>\n",
       "      <td>355.893</td>\n",
       "      <td>98</td>\n",
       "    </tr>\n",
       "    <tr>\n",
       "      <th>98</th>\n",
       "      <td>0.001</td>\n",
       "      <td>0.000</td>\n",
       "      <td>0.000</td>\n",
       "      <td>0.000</td>\n",
       "      <td>0.990</td>\n",
       "      <td>{'alpha': 0.9899}</td>\n",
       "      <td>-3358.834</td>\n",
       "      <td>-3511.808</td>\n",
       "      <td>-3627.316</td>\n",
       "      <td>-3690.274</td>\n",
       "      <td>-3878.356</td>\n",
       "      <td>-3325.432</td>\n",
       "      <td>-2840.176</td>\n",
       "      <td>-4087.707</td>\n",
       "      <td>-3776.531</td>\n",
       "      <td>-3091.777</td>\n",
       "      <td>-3518.821</td>\n",
       "      <td>355.872</td>\n",
       "      <td>99</td>\n",
       "    </tr>\n",
       "    <tr>\n",
       "      <th>99</th>\n",
       "      <td>0.001</td>\n",
       "      <td>0.000</td>\n",
       "      <td>0.000</td>\n",
       "      <td>0.000</td>\n",
       "      <td>1.000</td>\n",
       "      <td>{'alpha': 1.0}</td>\n",
       "      <td>-3358.894</td>\n",
       "      <td>-3511.840</td>\n",
       "      <td>-3627.317</td>\n",
       "      <td>-3690.277</td>\n",
       "      <td>-3878.316</td>\n",
       "      <td>-3325.391</td>\n",
       "      <td>-2840.252</td>\n",
       "      <td>-4087.683</td>\n",
       "      <td>-3776.534</td>\n",
       "      <td>-3091.765</td>\n",
       "      <td>-3518.827</td>\n",
       "      <td>355.851</td>\n",
       "      <td>100</td>\n",
       "    </tr>\n",
       "  </tbody>\n",
       "</table>\n",
       "<p>100 rows × 19 columns</p>\n",
       "</div>"
      ],
      "text/plain": [
       "    mean_fit_time  std_fit_time  mean_score_time  std_score_time param_alpha  \\\n",
       "0           0.003         0.001            0.001           0.001       0.000   \n",
       "1           0.002         0.000            0.001           0.000       0.010   \n",
       "2           0.002         0.000            0.001           0.000       0.020   \n",
       "3           0.002         0.000            0.001           0.000       0.030   \n",
       "4           0.002         0.001            0.001           0.000       0.041   \n",
       "..            ...           ...              ...             ...         ...   \n",
       "95          0.001         0.000            0.000           0.000       0.960   \n",
       "96          0.001         0.000            0.000           0.000       0.970   \n",
       "97          0.001         0.000            0.000           0.000       0.980   \n",
       "98          0.001         0.000            0.000           0.000       0.990   \n",
       "99          0.001         0.000            0.000           0.000       1.000   \n",
       "\n",
       "                             params  split0_test_score  split1_test_score  \\\n",
       "0                 {'alpha': 0.0001}          -3353.234          -3508.806   \n",
       "1   {'alpha': 0.010199999999999999}          -3353.289          -3508.835   \n",
       "2                 {'alpha': 0.0203}          -3353.344          -3508.864   \n",
       "3                 {'alpha': 0.0304}          -3353.399          -3508.893   \n",
       "4                 {'alpha': 0.0405}          -3353.454          -3508.922   \n",
       "..                              ...                ...                ...   \n",
       "95    {'alpha': 0.9595999999999999}          -3358.656          -3511.711   \n",
       "96                {'alpha': 0.9697}          -3358.716          -3511.744   \n",
       "97                {'alpha': 0.9798}          -3358.775          -3511.776   \n",
       "98                {'alpha': 0.9899}          -3358.834          -3511.808   \n",
       "99                   {'alpha': 1.0}          -3358.894          -3511.840   \n",
       "\n",
       "    split2_test_score  split3_test_score  split4_test_score  \\\n",
       "0           -3627.439          -3690.295          -3882.551   \n",
       "1           -3627.435          -3690.292          -3882.506   \n",
       "2           -3627.431          -3690.290          -3882.460   \n",
       "3           -3627.427          -3690.287          -3882.415   \n",
       "4           -3627.424          -3690.284          -3882.369   \n",
       "..                ...                ...                ...   \n",
       "95          -3627.312          -3690.267          -3878.476   \n",
       "96          -3627.313          -3690.270          -3878.436   \n",
       "97          -3627.315          -3690.272          -3878.396   \n",
       "98          -3627.316          -3690.274          -3878.356   \n",
       "99          -3627.317          -3690.277          -3878.316   \n",
       "\n",
       "    split5_test_score  split6_test_score  split7_test_score  \\\n",
       "0           -3329.886          -2832.864          -4090.229   \n",
       "1           -3329.836          -2832.936          -4090.201   \n",
       "2           -3329.786          -2833.009          -4090.173   \n",
       "3           -3329.736          -2833.081          -4090.145   \n",
       "4           -3329.687          -2833.153          -4090.117   \n",
       "..                ...                ...                ...   \n",
       "95          -3325.556          -2839.945          -4087.777   \n",
       "96          -3325.514          -2840.022          -4087.754   \n",
       "97          -3325.473          -2840.099          -4087.730   \n",
       "98          -3325.432          -2840.176          -4087.707   \n",
       "99          -3325.391          -2840.252          -4087.683   \n",
       "\n",
       "    split8_test_score  split9_test_score  mean_test_score  std_test_score  \\\n",
       "0           -3776.487          -3093.352        -3518.514         357.935   \n",
       "1           -3776.485          -3093.333        -3518.515         357.914   \n",
       "2           -3776.483          -3093.313        -3518.515         357.893   \n",
       "3           -3776.481          -3093.294        -3518.516         357.872   \n",
       "4           -3776.479          -3093.274        -3518.516         357.851   \n",
       "..                ...                ...              ...             ...   \n",
       "95          -3776.523          -3091.815        -3518.804         355.935   \n",
       "96          -3776.525          -3091.803        -3518.810         355.914   \n",
       "97          -3776.528          -3091.790        -3518.815         355.893   \n",
       "98          -3776.531          -3091.777        -3518.821         355.872   \n",
       "99          -3776.534          -3091.765        -3518.827         355.851   \n",
       "\n",
       "    rank_test_score  \n",
       "0                 1  \n",
       "1                 2  \n",
       "2                 3  \n",
       "3                 4  \n",
       "4                 5  \n",
       "..              ...  \n",
       "95               96  \n",
       "96               97  \n",
       "97               98  \n",
       "98               99  \n",
       "99              100  \n",
       "\n",
       "[100 rows x 19 columns]"
      ]
     },
     "execution_count": 134,
     "metadata": {},
     "output_type": "execute_result"
    }
   ],
   "source": [
    "pd.DataFrame(ridge_grid_model.cv_results_)"
   ]
  },
  {
   "cell_type": "code",
   "execution_count": 135,
   "id": "e02b450f",
   "metadata": {},
   "outputs": [
    {
     "data": {
      "text/plain": [
       "0"
      ]
     },
     "execution_count": 135,
     "metadata": {},
     "output_type": "execute_result"
    }
   ],
   "source": [
    "ridge_grid_model.best_index_"
   ]
  },
  {
   "cell_type": "code",
   "execution_count": 136,
   "id": "18f96c1d",
   "metadata": {},
   "outputs": [
    {
     "data": {
      "text/plain": [
       "-3518.5144419334442"
      ]
     },
     "execution_count": 136,
     "metadata": {},
     "output_type": "execute_result"
    }
   ],
   "source": [
    "ridge_grid_model.best_score_  # rmse"
   ]
  },
  {
   "cell_type": "code",
   "execution_count": 137,
   "id": "829d239a",
   "metadata": {},
   "outputs": [
    {
     "data": {
      "text/html": [
       "<div>\n",
       "<style scoped>\n",
       "    .dataframe tbody tr th:only-of-type {\n",
       "        vertical-align: middle;\n",
       "    }\n",
       "\n",
       "    .dataframe tbody tr th {\n",
       "        vertical-align: top;\n",
       "    }\n",
       "\n",
       "    .dataframe thead th {\n",
       "        text-align: right;\n",
       "    }\n",
       "</style>\n",
       "<table border=\"1\" class=\"dataframe\">\n",
       "  <thead>\n",
       "    <tr style=\"text-align: right;\">\n",
       "      <th></th>\n",
       "      <th>train</th>\n",
       "      <th>test</th>\n",
       "    </tr>\n",
       "  </thead>\n",
       "  <tbody>\n",
       "    <tr>\n",
       "      <th>R2</th>\n",
       "      <td>0.621</td>\n",
       "      <td>0.603</td>\n",
       "    </tr>\n",
       "    <tr>\n",
       "      <th>mae</th>\n",
       "      <td>2127.025</td>\n",
       "      <td>2215.390</td>\n",
       "    </tr>\n",
       "    <tr>\n",
       "      <th>mse</th>\n",
       "      <td>12320447.160</td>\n",
       "      <td>13235050.111</td>\n",
       "    </tr>\n",
       "    <tr>\n",
       "      <th>rmse</th>\n",
       "      <td>3510.049</td>\n",
       "      <td>3638.001</td>\n",
       "    </tr>\n",
       "  </tbody>\n",
       "</table>\n",
       "</div>"
      ],
      "text/plain": [
       "            train         test\n",
       "R2          0.621        0.603\n",
       "mae      2127.025     2215.390\n",
       "mse  12320447.160 13235050.111\n",
       "rmse     3510.049     3638.001"
      ]
     },
     "execution_count": 137,
     "metadata": {},
     "output_type": "execute_result"
    }
   ],
   "source": [
    "train_val(ridge_grid_model, X_train_scaled, y_train, X_test_scaled, y_test)"
   ]
  },
  {
   "cell_type": "code",
   "execution_count": 138,
   "id": "0541e7eb",
   "metadata": {},
   "outputs": [],
   "source": [
    "y_pred = ridge_grid_model.predict(X_test_scaled)\n",
    "rm_R2 = r2_score(y_test, y_pred)\n",
    "rm_mae = mean_absolute_error(y_test, y_pred)\n",
    "rm_rmse = np.sqrt(mean_squared_error(y_test, y_pred))"
   ]
  },
  {
   "cell_type": "code",
   "execution_count": 165,
   "id": "cf4af6c1",
   "metadata": {},
   "outputs": [
    {
     "data": {
      "text/html": [
       "<div>\n",
       "<style scoped>\n",
       "    .dataframe tbody tr th:only-of-type {\n",
       "        vertical-align: middle;\n",
       "    }\n",
       "\n",
       "    .dataframe tbody tr th {\n",
       "        vertical-align: top;\n",
       "    }\n",
       "\n",
       "    .dataframe thead th {\n",
       "        text-align: right;\n",
       "    }\n",
       "</style>\n",
       "<table border=\"1\" class=\"dataframe\">\n",
       "  <thead>\n",
       "    <tr style=\"text-align: right;\">\n",
       "      <th></th>\n",
       "      <th>Coef</th>\n",
       "    </tr>\n",
       "  </thead>\n",
       "  <tbody>\n",
       "    <tr>\n",
       "      <th>region_southwest</th>\n",
       "      <td>-2785.941</td>\n",
       "    </tr>\n",
       "    <tr>\n",
       "      <th>region_northwest</th>\n",
       "      <td>-2531.416</td>\n",
       "    </tr>\n",
       "    <tr>\n",
       "      <th>region_southeast</th>\n",
       "      <td>-2302.123</td>\n",
       "    </tr>\n",
       "    <tr>\n",
       "      <th>children_zero</th>\n",
       "      <td>-2134.796</td>\n",
       "    </tr>\n",
       "    <tr>\n",
       "      <th>children_one</th>\n",
       "      <td>-1765.811</td>\n",
       "    </tr>\n",
       "    <tr>\n",
       "      <th>bmi</th>\n",
       "      <td>-1060.529</td>\n",
       "    </tr>\n",
       "    <tr>\n",
       "      <th>children_three</th>\n",
       "      <td>-944.336</td>\n",
       "    </tr>\n",
       "    <tr>\n",
       "      <th>children_two</th>\n",
       "      <td>-803.915</td>\n",
       "    </tr>\n",
       "    <tr>\n",
       "      <th>sex_male</th>\n",
       "      <td>482.264</td>\n",
       "    </tr>\n",
       "    <tr>\n",
       "      <th>children_four</th>\n",
       "      <td>2118.073</td>\n",
       "    </tr>\n",
       "    <tr>\n",
       "      <th>age</th>\n",
       "      <td>10513.259</td>\n",
       "    </tr>\n",
       "    <tr>\n",
       "      <th>smoker_yes</th>\n",
       "      <td>12413.823</td>\n",
       "    </tr>\n",
       "  </tbody>\n",
       "</table>\n",
       "</div>"
      ],
      "text/plain": [
       "                      Coef\n",
       "region_southwest -2785.941\n",
       "region_northwest -2531.416\n",
       "region_southeast -2302.123\n",
       "children_zero    -2134.796\n",
       "children_one     -1765.811\n",
       "bmi              -1060.529\n",
       "children_three    -944.336\n",
       "children_two      -803.915\n",
       "sex_male           482.264\n",
       "children_four     2118.073\n",
       "age              10513.259\n",
       "smoker_yes       12413.823"
      ]
     },
     "execution_count": 165,
     "metadata": {},
     "output_type": "execute_result"
    }
   ],
   "source": [
    "ridge = Ridge(alpha=0.0001, random_state=42).fit(X_train_scaled, y_train)\n",
    "\n",
    "rg_coef = pd.DataFrame(ridge.coef_, index = X.columns, columns=[\"Coef\"]).sort_values(\"Coef\")\n",
    "rg_coef\n"
   ]
  },
  {
   "cell_type": "code",
   "execution_count": 149,
   "id": "5c703ddb",
   "metadata": {},
   "outputs": [
    {
     "data": {
      "text/html": [
       "<div>\n",
       "<style scoped>\n",
       "    .dataframe tbody tr th:only-of-type {\n",
       "        vertical-align: middle;\n",
       "    }\n",
       "\n",
       "    .dataframe tbody tr th {\n",
       "        vertical-align: top;\n",
       "    }\n",
       "\n",
       "    .dataframe thead th {\n",
       "        text-align: right;\n",
       "    }\n",
       "</style>\n",
       "<table border=\"1\" class=\"dataframe\">\n",
       "  <thead>\n",
       "    <tr style=\"text-align: right;\">\n",
       "      <th></th>\n",
       "      <th>train</th>\n",
       "      <th>test</th>\n",
       "    </tr>\n",
       "  </thead>\n",
       "  <tbody>\n",
       "    <tr>\n",
       "      <th>R2</th>\n",
       "      <td>0.621</td>\n",
       "      <td>0.603</td>\n",
       "    </tr>\n",
       "    <tr>\n",
       "      <th>mae</th>\n",
       "      <td>2127.025</td>\n",
       "      <td>2215.390</td>\n",
       "    </tr>\n",
       "    <tr>\n",
       "      <th>mse</th>\n",
       "      <td>12320447.160</td>\n",
       "      <td>13235050.111</td>\n",
       "    </tr>\n",
       "    <tr>\n",
       "      <th>rmse</th>\n",
       "      <td>3510.049</td>\n",
       "      <td>3638.001</td>\n",
       "    </tr>\n",
       "  </tbody>\n",
       "</table>\n",
       "</div>"
      ],
      "text/plain": [
       "            train         test\n",
       "R2          0.621        0.603\n",
       "mae      2127.025     2215.390\n",
       "mse  12320447.160 13235050.111\n",
       "rmse     3510.049     3638.001"
      ]
     },
     "execution_count": 149,
     "metadata": {},
     "output_type": "execute_result"
    }
   ],
   "source": [
    "train_val(ridge, X_train_scaled, y_train, X_test_scaled, y_test)"
   ]
  },
  {
   "cell_type": "markdown",
   "id": "657382cf",
   "metadata": {},
   "source": [
    "## 5. Implement Lasso Regression"
   ]
  },
  {
   "cell_type": "code",
   "execution_count": 150,
   "id": "0f169c79",
   "metadata": {},
   "outputs": [
    {
     "data": {
      "application/javascript": [
       "\n",
       "        if (window._pyforest_update_imports_cell) { window._pyforest_update_imports_cell('from sklearn.linear_model import Lasso\\nfrom sklearn.model_selection import train_test_split\\nfrom sklearn.preprocessing import MinMaxScaler'); }\n",
       "    "
      ],
      "text/plain": [
       "<IPython.core.display.Javascript object>"
      ]
     },
     "metadata": {},
     "output_type": "display_data"
    }
   ],
   "source": [
    "lasso_model = Lasso(random_state=42)\n",
    "\n",
    "param_grid = {'alpha':alpha_space}\n",
    "\n",
    "lasso_grid_model = GridSearchCV(estimator=lasso_model,\n",
    "                          param_grid=param_grid,\n",
    "                          scoring='neg_root_mean_squared_error',\n",
    "                          cv=10,\n",
    "                          n_jobs = -1)"
   ]
  },
  {
   "cell_type": "code",
   "execution_count": 151,
   "id": "48aedf7a",
   "metadata": {},
   "outputs": [
    {
     "data": {
      "text/plain": [
       "GridSearchCV(cv=10, estimator=Lasso(random_state=42), n_jobs=-1,\n",
       "             param_grid={'alpha': array([1.000e-04, 1.020e-02, 2.030e-02, 3.040e-02, 4.050e-02, 5.060e-02,\n",
       "       6.070e-02, 7.080e-02, 8.090e-02, 9.100e-02, 1.011e-01, 1.112e-01,\n",
       "       1.213e-01, 1.314e-01, 1.415e-01, 1.516e-01, 1.617e-01, 1.718e-01,\n",
       "       1.819e-01, 1.920e-01, 2.021e-01, 2.122e-01, 2.223e-01, 2.324e-01,\n",
       "       2.425e-01, 2.526e-01, 2...\n",
       "       6.667e-01, 6.768e-01, 6.869e-01, 6.970e-01, 7.071e-01, 7.172e-01,\n",
       "       7.273e-01, 7.374e-01, 7.475e-01, 7.576e-01, 7.677e-01, 7.778e-01,\n",
       "       7.879e-01, 7.980e-01, 8.081e-01, 8.182e-01, 8.283e-01, 8.384e-01,\n",
       "       8.485e-01, 8.586e-01, 8.687e-01, 8.788e-01, 8.889e-01, 8.990e-01,\n",
       "       9.091e-01, 9.192e-01, 9.293e-01, 9.394e-01, 9.495e-01, 9.596e-01,\n",
       "       9.697e-01, 9.798e-01, 9.899e-01, 1.000e+00])},\n",
       "             scoring='neg_root_mean_squared_error')"
      ]
     },
     "execution_count": 151,
     "metadata": {},
     "output_type": "execute_result"
    }
   ],
   "source": [
    "lasso_grid_model.fit(X_train_scaled,y_train)"
   ]
  },
  {
   "cell_type": "code",
   "execution_count": 152,
   "id": "a04883e8",
   "metadata": {},
   "outputs": [
    {
     "data": {
      "text/plain": [
       "{'alpha': 0.0001}"
      ]
     },
     "execution_count": 152,
     "metadata": {},
     "output_type": "execute_result"
    }
   ],
   "source": [
    "lasso_grid_model.best_params_"
   ]
  },
  {
   "cell_type": "code",
   "execution_count": 153,
   "id": "74713ae9",
   "metadata": {},
   "outputs": [
    {
     "data": {
      "text/plain": [
       "-3518.5144427267287"
      ]
     },
     "execution_count": 153,
     "metadata": {},
     "output_type": "execute_result"
    }
   ],
   "source": [
    "lasso_grid_model.best_score_ "
   ]
  },
  {
   "cell_type": "code",
   "execution_count": 154,
   "id": "1c1f20b1",
   "metadata": {},
   "outputs": [
    {
     "data": {
      "text/html": [
       "<div>\n",
       "<style scoped>\n",
       "    .dataframe tbody tr th:only-of-type {\n",
       "        vertical-align: middle;\n",
       "    }\n",
       "\n",
       "    .dataframe tbody tr th {\n",
       "        vertical-align: top;\n",
       "    }\n",
       "\n",
       "    .dataframe thead th {\n",
       "        text-align: right;\n",
       "    }\n",
       "</style>\n",
       "<table border=\"1\" class=\"dataframe\">\n",
       "  <thead>\n",
       "    <tr style=\"text-align: right;\">\n",
       "      <th></th>\n",
       "      <th>train</th>\n",
       "      <th>test</th>\n",
       "    </tr>\n",
       "  </thead>\n",
       "  <tbody>\n",
       "    <tr>\n",
       "      <th>R2</th>\n",
       "      <td>0.621</td>\n",
       "      <td>0.603</td>\n",
       "    </tr>\n",
       "    <tr>\n",
       "      <th>mae</th>\n",
       "      <td>2127.025</td>\n",
       "      <td>2215.389</td>\n",
       "    </tr>\n",
       "    <tr>\n",
       "      <th>mse</th>\n",
       "      <td>12320447.160</td>\n",
       "      <td>13235048.990</td>\n",
       "    </tr>\n",
       "    <tr>\n",
       "      <th>rmse</th>\n",
       "      <td>3510.049</td>\n",
       "      <td>3638.001</td>\n",
       "    </tr>\n",
       "  </tbody>\n",
       "</table>\n",
       "</div>"
      ],
      "text/plain": [
       "            train         test\n",
       "R2          0.621        0.603\n",
       "mae      2127.025     2215.389\n",
       "mse  12320447.160 13235048.990\n",
       "rmse     3510.049     3638.001"
      ]
     },
     "execution_count": 154,
     "metadata": {},
     "output_type": "execute_result"
    }
   ],
   "source": [
    "train_val(lasso_grid_model, X_train_scaled, y_train, X_test_scaled, y_test)"
   ]
  },
  {
   "cell_type": "code",
   "execution_count": 155,
   "id": "5c34cd5c",
   "metadata": {},
   "outputs": [],
   "source": [
    "y_pred = lasso_grid_model.predict(X_test_scaled)\n",
    "lasm_R2 = r2_score(y_test, y_pred)\n",
    "lasm_mae = mean_absolute_error(y_test, y_pred)\n",
    "lasm_rmse = np.sqrt(mean_squared_error(y_test, y_pred))"
   ]
  },
  {
   "cell_type": "code",
   "execution_count": 163,
   "id": "20462114",
   "metadata": {},
   "outputs": [
    {
     "data": {
      "application/javascript": [
       "\n",
       "        if (window._pyforest_update_imports_cell) { window._pyforest_update_imports_cell('from sklearn.linear_model import Lasso\\nfrom sklearn.model_selection import train_test_split\\nfrom sklearn.preprocessing import MinMaxScaler'); }\n",
       "    "
      ],
      "text/plain": [
       "<IPython.core.display.Javascript object>"
      ]
     },
     "metadata": {},
     "output_type": "display_data"
    }
   ],
   "source": [
    "lasso = Lasso(alpha=0.0001, random_state=42).fit(X_train_scaled, y_train)\n",
    "ls_coef = pd.DataFrame(lasso.coef_, index = X.columns, columns=[\"lasso_Coef\"]).sort_values(\"lasso_Coef\")"
   ]
  },
  {
   "cell_type": "code",
   "execution_count": 164,
   "id": "a60babdb",
   "metadata": {},
   "outputs": [
    {
     "data": {
      "text/html": [
       "<div>\n",
       "<style scoped>\n",
       "    .dataframe tbody tr th:only-of-type {\n",
       "        vertical-align: middle;\n",
       "    }\n",
       "\n",
       "    .dataframe tbody tr th {\n",
       "        vertical-align: top;\n",
       "    }\n",
       "\n",
       "    .dataframe thead th {\n",
       "        text-align: right;\n",
       "    }\n",
       "</style>\n",
       "<table border=\"1\" class=\"dataframe\">\n",
       "  <thead>\n",
       "    <tr style=\"text-align: right;\">\n",
       "      <th></th>\n",
       "      <th>Coef</th>\n",
       "      <th>lasso_Coef</th>\n",
       "    </tr>\n",
       "  </thead>\n",
       "  <tbody>\n",
       "    <tr>\n",
       "      <th>region_southwest</th>\n",
       "      <td>-2785.941</td>\n",
       "      <td>-2785.940</td>\n",
       "    </tr>\n",
       "    <tr>\n",
       "      <th>region_northwest</th>\n",
       "      <td>-2531.416</td>\n",
       "      <td>-2531.416</td>\n",
       "    </tr>\n",
       "    <tr>\n",
       "      <th>region_southeast</th>\n",
       "      <td>-2302.123</td>\n",
       "      <td>-2302.124</td>\n",
       "    </tr>\n",
       "    <tr>\n",
       "      <th>children_zero</th>\n",
       "      <td>-2134.796</td>\n",
       "      <td>-2134.797</td>\n",
       "    </tr>\n",
       "    <tr>\n",
       "      <th>children_one</th>\n",
       "      <td>-1765.811</td>\n",
       "      <td>-1765.812</td>\n",
       "    </tr>\n",
       "    <tr>\n",
       "      <th>bmi</th>\n",
       "      <td>-1060.529</td>\n",
       "      <td>-1060.526</td>\n",
       "    </tr>\n",
       "    <tr>\n",
       "      <th>children_three</th>\n",
       "      <td>-944.336</td>\n",
       "      <td>-944.338</td>\n",
       "    </tr>\n",
       "    <tr>\n",
       "      <th>children_two</th>\n",
       "      <td>-803.915</td>\n",
       "      <td>-803.915</td>\n",
       "    </tr>\n",
       "    <tr>\n",
       "      <th>sex_male</th>\n",
       "      <td>482.264</td>\n",
       "      <td>482.264</td>\n",
       "    </tr>\n",
       "    <tr>\n",
       "      <th>children_four</th>\n",
       "      <td>2118.073</td>\n",
       "      <td>2118.073</td>\n",
       "    </tr>\n",
       "    <tr>\n",
       "      <th>age</th>\n",
       "      <td>10513.259</td>\n",
       "      <td>10513.267</td>\n",
       "    </tr>\n",
       "    <tr>\n",
       "      <th>smoker_yes</th>\n",
       "      <td>12413.823</td>\n",
       "      <td>12413.833</td>\n",
       "    </tr>\n",
       "  </tbody>\n",
       "</table>\n",
       "</div>"
      ],
      "text/plain": [
       "                      Coef  lasso_Coef\n",
       "region_southwest -2785.941   -2785.940\n",
       "region_northwest -2531.416   -2531.416\n",
       "region_southeast -2302.123   -2302.124\n",
       "children_zero    -2134.796   -2134.797\n",
       "children_one     -1765.811   -1765.812\n",
       "bmi              -1060.529   -1060.526\n",
       "children_three    -944.336    -944.338\n",
       "children_two      -803.915    -803.915\n",
       "sex_male           482.264     482.264\n",
       "children_four     2118.073    2118.073\n",
       "age              10513.259   10513.267\n",
       "smoker_yes       12413.823   12413.833"
      ]
     },
     "execution_count": 164,
     "metadata": {},
     "output_type": "execute_result"
    }
   ],
   "source": [
    "pd.concat([rg_coef,ls_coef], axis = 1)"
   ]
  },
  {
   "cell_type": "markdown",
   "id": "3930a744",
   "metadata": {},
   "source": [
    "## 6. Implement Elastic-Net"
   ]
  },
  {
   "cell_type": "code",
   "execution_count": 166,
   "id": "15cc73df",
   "metadata": {},
   "outputs": [],
   "source": [
    "from sklearn.linear_model import ElasticNet"
   ]
  },
  {
   "cell_type": "code",
   "execution_count": 167,
   "id": "8c084560",
   "metadata": {},
   "outputs": [
    {
     "data": {
      "text/plain": [
       "ElasticNet(random_state=42)"
      ]
     },
     "execution_count": 167,
     "metadata": {},
     "output_type": "execute_result"
    }
   ],
   "source": [
    "elastic_model = ElasticNet(random_state=42)\n",
    "elastic_model.fit(X_train_scaled,y_train)"
   ]
  },
  {
   "cell_type": "code",
   "execution_count": 168,
   "id": "aebe56c5",
   "metadata": {},
   "outputs": [
    {
     "data": {
      "text/html": [
       "<div>\n",
       "<style scoped>\n",
       "    .dataframe tbody tr th:only-of-type {\n",
       "        vertical-align: middle;\n",
       "    }\n",
       "\n",
       "    .dataframe tbody tr th {\n",
       "        vertical-align: top;\n",
       "    }\n",
       "\n",
       "    .dataframe thead th {\n",
       "        text-align: right;\n",
       "    }\n",
       "</style>\n",
       "<table border=\"1\" class=\"dataframe\">\n",
       "  <thead>\n",
       "    <tr style=\"text-align: right;\">\n",
       "      <th></th>\n",
       "      <th>train</th>\n",
       "      <th>test</th>\n",
       "    </tr>\n",
       "  </thead>\n",
       "  <tbody>\n",
       "    <tr>\n",
       "      <th>R2</th>\n",
       "      <td>0.152</td>\n",
       "      <td>0.136</td>\n",
       "    </tr>\n",
       "    <tr>\n",
       "      <th>mae</th>\n",
       "      <td>4054.963</td>\n",
       "      <td>4163.725</td>\n",
       "    </tr>\n",
       "    <tr>\n",
       "      <th>mse</th>\n",
       "      <td>27559876.689</td>\n",
       "      <td>28793029.777</td>\n",
       "    </tr>\n",
       "    <tr>\n",
       "      <th>rmse</th>\n",
       "      <td>5249.750</td>\n",
       "      <td>5365.914</td>\n",
       "    </tr>\n",
       "  </tbody>\n",
       "</table>\n",
       "</div>"
      ],
      "text/plain": [
       "            train         test\n",
       "R2          0.152        0.136\n",
       "mae      4054.963     4163.725\n",
       "mse  27559876.689 28793029.777\n",
       "rmse     5249.750     5365.914"
      ]
     },
     "execution_count": 168,
     "metadata": {},
     "output_type": "execute_result"
    }
   ],
   "source": [
    "train_val(elastic_model, X_train_scaled, y_train, X_test_scaled, y_test)"
   ]
  },
  {
   "cell_type": "code",
   "execution_count": 169,
   "id": "02fcc8f7",
   "metadata": {},
   "outputs": [],
   "source": [
    "elastic_model = ElasticNet(random_state=42)"
   ]
  },
  {
   "cell_type": "code",
   "execution_count": 170,
   "id": "c95bfc97",
   "metadata": {},
   "outputs": [],
   "source": [
    "param_grid = {'alpha':alpha_space,  #Sabaha kadar beklemeyelim.\n",
    "              'l1_ratio':[.5, .7, .9, .95, .99, 1]}\n",
    "\n",
    "elastic_grid_model = GridSearchCV(estimator=elastic_model,\n",
    "                          param_grid=param_grid,\n",
    "                          scoring='neg_root_mean_squared_error',\n",
    "                          cv=10,\n",
    "                          n_jobs = -1)"
   ]
  },
  {
   "cell_type": "code",
   "execution_count": 171,
   "id": "d27f556f",
   "metadata": {},
   "outputs": [
    {
     "data": {
      "text/plain": [
       "GridSearchCV(cv=10, estimator=ElasticNet(random_state=42), n_jobs=-1,\n",
       "             param_grid={'alpha': array([1.000e-04, 1.020e-02, 2.030e-02, 3.040e-02, 4.050e-02, 5.060e-02,\n",
       "       6.070e-02, 7.080e-02, 8.090e-02, 9.100e-02, 1.011e-01, 1.112e-01,\n",
       "       1.213e-01, 1.314e-01, 1.415e-01, 1.516e-01, 1.617e-01, 1.718e-01,\n",
       "       1.819e-01, 1.920e-01, 2.021e-01, 2.122e-01, 2.223e-01, 2.324e-01,\n",
       "       2.425e-01, 2.526e...\n",
       "       7.273e-01, 7.374e-01, 7.475e-01, 7.576e-01, 7.677e-01, 7.778e-01,\n",
       "       7.879e-01, 7.980e-01, 8.081e-01, 8.182e-01, 8.283e-01, 8.384e-01,\n",
       "       8.485e-01, 8.586e-01, 8.687e-01, 8.788e-01, 8.889e-01, 8.990e-01,\n",
       "       9.091e-01, 9.192e-01, 9.293e-01, 9.394e-01, 9.495e-01, 9.596e-01,\n",
       "       9.697e-01, 9.798e-01, 9.899e-01, 1.000e+00]),\n",
       "                         'l1_ratio': [0.5, 0.7, 0.9, 0.95, 0.99, 1]},\n",
       "             scoring='neg_root_mean_squared_error')"
      ]
     },
     "execution_count": 171,
     "metadata": {},
     "output_type": "execute_result"
    }
   ],
   "source": [
    "elastic_grid_model.fit(X_train_scaled,y_train)"
   ]
  },
  {
   "cell_type": "code",
   "execution_count": 172,
   "id": "65eb91f7",
   "metadata": {},
   "outputs": [
    {
     "data": {
      "text/plain": [
       "{'alpha': 0.0001, 'l1_ratio': 1}"
      ]
     },
     "execution_count": 172,
     "metadata": {},
     "output_type": "execute_result"
    }
   ],
   "source": [
    "elastic_grid_model.best_params_"
   ]
  },
  {
   "cell_type": "code",
   "execution_count": 173,
   "id": "cc91bf90",
   "metadata": {},
   "outputs": [
    {
     "data": {
      "text/plain": [
       "-3518.5144427267287"
      ]
     },
     "execution_count": 173,
     "metadata": {},
     "output_type": "execute_result"
    }
   ],
   "source": [
    "elastic_grid_model.best_score_"
   ]
  },
  {
   "cell_type": "code",
   "execution_count": 174,
   "id": "9b587a62",
   "metadata": {},
   "outputs": [
    {
     "data": {
      "text/html": [
       "<div>\n",
       "<style scoped>\n",
       "    .dataframe tbody tr th:only-of-type {\n",
       "        vertical-align: middle;\n",
       "    }\n",
       "\n",
       "    .dataframe tbody tr th {\n",
       "        vertical-align: top;\n",
       "    }\n",
       "\n",
       "    .dataframe thead th {\n",
       "        text-align: right;\n",
       "    }\n",
       "</style>\n",
       "<table border=\"1\" class=\"dataframe\">\n",
       "  <thead>\n",
       "    <tr style=\"text-align: right;\">\n",
       "      <th></th>\n",
       "      <th>train</th>\n",
       "      <th>test</th>\n",
       "    </tr>\n",
       "  </thead>\n",
       "  <tbody>\n",
       "    <tr>\n",
       "      <th>R2</th>\n",
       "      <td>0.621</td>\n",
       "      <td>0.603</td>\n",
       "    </tr>\n",
       "    <tr>\n",
       "      <th>mae</th>\n",
       "      <td>2127.025</td>\n",
       "      <td>2215.389</td>\n",
       "    </tr>\n",
       "    <tr>\n",
       "      <th>mse</th>\n",
       "      <td>12320447.160</td>\n",
       "      <td>13235048.990</td>\n",
       "    </tr>\n",
       "    <tr>\n",
       "      <th>rmse</th>\n",
       "      <td>3510.049</td>\n",
       "      <td>3638.001</td>\n",
       "    </tr>\n",
       "  </tbody>\n",
       "</table>\n",
       "</div>"
      ],
      "text/plain": [
       "            train         test\n",
       "R2          0.621        0.603\n",
       "mae      2127.025     2215.389\n",
       "mse  12320447.160 13235048.990\n",
       "rmse     3510.049     3638.001"
      ]
     },
     "execution_count": 174,
     "metadata": {},
     "output_type": "execute_result"
    }
   ],
   "source": [
    "train_val(elastic_grid_model, X_train_scaled, y_train, X_test_scaled, y_test)"
   ]
  },
  {
   "cell_type": "code",
   "execution_count": 175,
   "id": "2c0ec89d",
   "metadata": {},
   "outputs": [],
   "source": [
    "y_pred = elastic_grid_model.predict(X_test_scaled)\n",
    "em_R2 = r2_score(y_test, y_pred)\n",
    "em_mae = mean_absolute_error(y_test, y_pred)\n",
    "em_rmse = np.sqrt(mean_squared_error(y_test, y_pred))"
   ]
  },
  {
   "cell_type": "code",
   "execution_count": null,
   "id": "5db53c9d",
   "metadata": {},
   "outputs": [],
   "source": []
  }
 ],
 "metadata": {
  "kernelspec": {
   "display_name": "Python 3",
   "language": "python",
   "name": "python3"
  },
  "language_info": {
   "codemirror_mode": {
    "name": "ipython",
    "version": 3
   },
   "file_extension": ".py",
   "mimetype": "text/x-python",
   "name": "python",
   "nbconvert_exporter": "python",
   "pygments_lexer": "ipython3",
   "version": "3.8.8"
  }
 },
 "nbformat": 4,
 "nbformat_minor": 5
}
