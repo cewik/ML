{
 "cells": [
  {
   "cell_type": "code",
   "execution_count": 1,
   "id": "177744d0",
   "metadata": {},
   "outputs": [],
   "source": [
    "import numpy as np\n",
    "import pandas as pd\n",
    "import seaborn as sns\n",
    "import matplotlib.pyplot as plt\n",
    "\n",
    "%matplotlib inline\n",
    "#%matplotlib notebook\n",
    "plt.rcParams[\"figure.figsize\"] = (10,6)\n",
    "import warnings\n",
    "warnings.filterwarnings(\"ignore\")\n",
    "warnings.warn(\"this will not show\")\n",
    "pd.set_option('display.float_format', lambda x: '%.3f' % x)"
   ]
  },
  {
   "cell_type": "code",
   "execution_count": 2,
   "id": "578a1a3b",
   "metadata": {},
   "outputs": [
    {
     "data": {
      "text/html": [
       "<div>\n",
       "<style scoped>\n",
       "    .dataframe tbody tr th:only-of-type {\n",
       "        vertical-align: middle;\n",
       "    }\n",
       "\n",
       "    .dataframe tbody tr th {\n",
       "        vertical-align: top;\n",
       "    }\n",
       "\n",
       "    .dataframe thead th {\n",
       "        text-align: right;\n",
       "    }\n",
       "</style>\n",
       "<table border=\"1\" class=\"dataframe\">\n",
       "  <thead>\n",
       "    <tr style=\"text-align: right;\">\n",
       "      <th></th>\n",
       "      <th>age</th>\n",
       "      <th>sex</th>\n",
       "      <th>bmi</th>\n",
       "      <th>smoker</th>\n",
       "      <th>region</th>\n",
       "      <th>children</th>\n",
       "      <th>charges</th>\n",
       "    </tr>\n",
       "  </thead>\n",
       "  <tbody>\n",
       "    <tr>\n",
       "      <th>0</th>\n",
       "      <td>21.000</td>\n",
       "      <td>male</td>\n",
       "      <td>25.745</td>\n",
       "      <td>no</td>\n",
       "      <td>northeast</td>\n",
       "      <td>2</td>\n",
       "      <td>3279.869</td>\n",
       "    </tr>\n",
       "    <tr>\n",
       "      <th>1</th>\n",
       "      <td>36.977</td>\n",
       "      <td>female</td>\n",
       "      <td>25.744</td>\n",
       "      <td>yes</td>\n",
       "      <td>southeast</td>\n",
       "      <td>3</td>\n",
       "      <td>21454.494</td>\n",
       "    </tr>\n",
       "    <tr>\n",
       "      <th>2</th>\n",
       "      <td>18.000</td>\n",
       "      <td>male</td>\n",
       "      <td>30.030</td>\n",
       "      <td>no</td>\n",
       "      <td>southeast</td>\n",
       "      <td>1</td>\n",
       "      <td>1720.354</td>\n",
       "    </tr>\n",
       "    <tr>\n",
       "      <th>3</th>\n",
       "      <td>37.000</td>\n",
       "      <td>male</td>\n",
       "      <td>30.677</td>\n",
       "      <td>no</td>\n",
       "      <td>northeast</td>\n",
       "      <td>3</td>\n",
       "      <td>6801.438</td>\n",
       "    </tr>\n",
       "    <tr>\n",
       "      <th>4</th>\n",
       "      <td>58.000</td>\n",
       "      <td>male</td>\n",
       "      <td>32.010</td>\n",
       "      <td>no</td>\n",
       "      <td>southeast</td>\n",
       "      <td>1</td>\n",
       "      <td>11946.626</td>\n",
       "    </tr>\n",
       "  </tbody>\n",
       "</table>\n",
       "</div>"
      ],
      "text/plain": [
       "     age     sex    bmi smoker     region  children   charges\n",
       "0 21.000    male 25.745     no  northeast         2  3279.869\n",
       "1 36.977  female 25.744    yes  southeast         3 21454.494\n",
       "2 18.000    male 30.030     no  southeast         1  1720.354\n",
       "3 37.000    male 30.677     no  northeast         3  6801.438\n",
       "4 58.000    male 32.010     no  southeast         1 11946.626"
      ]
     },
     "execution_count": 2,
     "metadata": {},
     "output_type": "execute_result"
    }
   ],
   "source": [
    "df = pd.read_csv(\"health_train.csv\").copy()\n",
    "df.head()"
   ]
  },
  {
   "cell_type": "code",
   "execution_count": null,
   "id": "ad63f1f0",
   "metadata": {},
   "outputs": [],
   "source": [
    "outliers = []\n",
    "def detect_outliers_iqr(df):\n",
    "    for i in df.columns:\n",
    "        q1, q3 = df[i].quantile([0.25, 0.75])\n",
    "       \n",
    "        IQR = q3-q1\n",
    "        lwr_bound = q1-(1.5*IQR)\n",
    "        upr_bound = q3+(1.5*IQR)\n",
    "        for j in df[i]: \n",
    "            if (j<lwr_bound or j>upr_bound):\n",
    "                for z in list(df[i][df[i] == j].index):\n",
    "                    outliers.append(z)\n",
    "    \n",
    "    return df.iloc[outliers]"
   ]
  },
  {
   "cell_type": "code",
   "execution_count": null,
   "id": "7219410d",
   "metadata": {},
   "outputs": [],
   "source": [
    "from sklearn.model_selection import train_test_split\n",
    "X_train, X_test, y_train, y_test = train_test_split(X, y, test_size=0.2, random_state=42)\n",
    "print(\"Train features shape : \", X_train.shape)\n",
    "print(\"Train target shape   : \", y_train.shape)\n",
    "print(\"Test features shape  : \", X_test.shape)\n",
    "print(\"Test target shape    : \", y_test.shape)"
   ]
  },
  {
   "cell_type": "code",
   "execution_count": 11,
   "id": "eb186dad",
   "metadata": {},
   "outputs": [],
   "source": [
    "def firstmurat(df):\n",
    "    print(\"-------------------------------------\")\n",
    "    print(\"df.shape : \\n\", df.shape)\n",
    "    print(\"-------------------------------------\")\n",
    "    print(df.info())\n",
    "    print(\"-------------------------------------\")\n",
    "    print(df.describe().T)\n",
    "    print(\"-------------------------------------\")\n",
    "    print(df.isnull().sum())\n",
    "    print(\"-------------------------------------\")\n",
    "    print(df.duplicated().value_counts())\n",
    "    print(\"-------------------------------------\")\n",
    "    for i in df.columns:\n",
    "        print(df[i].value_counts())\n",
    "    \n",
    "    for i,col in enumerate(df.columns):\n",
    "        plt.figure(i)\n",
    "        sns.histplot(df[col])"
   ]
  },
  {
   "cell_type": "code",
   "execution_count": 12,
   "id": "61051aaf",
   "metadata": {
    "scrolled": false
   },
   "outputs": [
    {
     "name": "stdout",
     "output_type": "stream",
     "text": [
      "-------------------------------------\n",
      "df.shape : \n",
      " (2500, 7)\n",
      "-------------------------------------\n",
      "<class 'pandas.core.frame.DataFrame'>\n",
      "RangeIndex: 2500 entries, 0 to 2499\n",
      "Data columns (total 7 columns):\n",
      " #   Column    Non-Null Count  Dtype  \n",
      "---  ------    --------------  -----  \n",
      " 0   age       2500 non-null   float64\n",
      " 1   sex       2500 non-null   object \n",
      " 2   bmi       2500 non-null   float64\n",
      " 3   smoker    2500 non-null   object \n",
      " 4   region    2500 non-null   object \n",
      " 5   children  2500 non-null   int64  \n",
      " 6   charges   2500 non-null   float64\n",
      "dtypes: float64(3), int64(1), object(3)\n",
      "memory usage: 136.8+ KB\n",
      "None\n",
      "-------------------------------------\n",
      "            count      mean       std      min      25%      50%       75%  \\\n",
      "age      2500.000    39.003    12.265   18.000   28.846   39.350    48.689   \n",
      "bmi      2500.000    30.575     5.390   15.960   26.718   30.200    34.046   \n",
      "children 2500.000     2.488     1.707    0.000    1.000    2.000     4.000   \n",
      "charges  2500.000 12679.312 10593.270 1121.874 5612.781 9455.047 14440.628   \n",
      "\n",
      "               max  \n",
      "age         64.000  \n",
      "bmi         53.130  \n",
      "children     5.000  \n",
      "charges  63770.428  \n",
      "-------------------------------------\n",
      "age         0\n",
      "sex         0\n",
      "bmi         0\n",
      "smoker      0\n",
      "region      0\n",
      "children    0\n",
      "charges     0\n",
      "dtype: int64\n",
      "-------------------------------------\n",
      "False    2500\n",
      "dtype: int64\n",
      "-------------------------------------\n",
      "18.000    57\n",
      "19.000    52\n",
      "48.000    43\n",
      "39.000    43\n",
      "33.000    35\n",
      "          ..\n",
      "30.087     1\n",
      "42.856     1\n",
      "46.649     1\n",
      "54.709     1\n",
      "62.461     1\n",
      "Name: age, Length: 1347, dtype: int64\n",
      "male      1387\n",
      "female    1113\n",
      "Name: sex, dtype: int64\n",
      "32.300    9\n",
      "28.310    8\n",
      "31.350    7\n",
      "38.060    7\n",
      "33.330    7\n",
      "         ..\n",
      "36.945    1\n",
      "28.940    1\n",
      "29.150    1\n",
      "35.113    1\n",
      "28.955    1\n",
      "Name: bmi, Length: 2008, dtype: int64\n",
      "no     2124\n",
      "yes     376\n",
      "Name: smoker, dtype: int64\n",
      "southeast    699\n",
      "northwest    613\n",
      "northeast    606\n",
      "southwest    582\n",
      "Name: region, dtype: int64\n",
      "0    427\n",
      "2    426\n",
      "4    418\n",
      "3    416\n",
      "5    409\n",
      "1    404\n",
      "Name: children, dtype: int64\n",
      "14799.031    1\n",
      "7742.110     1\n",
      "2196.473     1\n",
      "48824.450    1\n",
      "9335.022     1\n",
      "            ..\n",
      "2416.955     1\n",
      "6611.575     1\n",
      "5550.921     1\n",
      "1615.767     1\n",
      "7731.427     1\n",
      "Name: charges, Length: 2500, dtype: int64\n"
     ]
    },
    {
     "data": {
      "image/png": "[encoded data removed]",
      "text/plain": [
       "<Figure size 720x432 with 1 Axes>"
      ]
     },
     "metadata": {
      "needs_background": "light"
     },
     "output_type": "display_data"
    },
    {
     "data": {
      "image/png": "[encoded data removed]",
      "text/plain": [
       "<Figure size 720x432 with 1 Axes>"
      ]
     },
     "metadata": {
      "needs_background": "light"
     },
     "output_type": "display_data"
    },
    {
     "data": {
      "image/png": "[encoded data removed]",
      "text/plain": [
       "<Figure size 720x432 with 1 Axes>"
      ]
     },
     "metadata": {
      "needs_background": "light"
     },
     "output_type": "display_data"
    },
    {
     "data": {
      "image/png": "[encoded data removed]",
      "text/plain": [
       "<Figure size 720x432 with 1 Axes>"
      ]
     },
     "metadata": {
      "needs_background": "light"
     },
     "output_type": "display_data"
    },
    {
     "data": {
      "image/png": "[encoded data removed]",
      "text/plain": [
       "<Figure size 720x432 with 1 Axes>"
      ]
     },
     "metadata": {
      "needs_background": "light"
     },
     "output_type": "display_data"
    },
    {
     "data": {
      "image/png": "[encoded data removed]",
      "text/plain": [
       "<Figure size 720x432 with 1 Axes>"
      ]
     },
     "metadata": {
      "needs_background": "light"
     },
     "output_type": "display_data"
    },
    {
     "data": {
      "image/png": "[encoded data removed]",
      "text/plain": [
       "<Figure size 720x432 with 1 Axes>"
      ]
     },
     "metadata": {
      "needs_background": "light"
     },
     "output_type": "display_data"
    }
   ],
   "source": [
    "firstmurat(df)"
   ]
  },
  {
   "cell_type": "code",
   "execution_count": null,
   "id": "bab80bdf",
   "metadata": {},
   "outputs": [],
   "source": []
  }
 ],
 "metadata": {
  "kernelspec": {
   "display_name": "Python 3",
   "language": "python",
   "name": "python3"
  },
  "language_info": {
   "codemirror_mode": {
    "name": "ipython",
    "version": 3
   },
   "file_extension": ".py",
   "mimetype": "text/x-python",
   "name": "python",
   "nbconvert_exporter": "python",
   "pygments_lexer": "ipython3",
   "version": "3.8.8"
  }
 },
 "nbformat": 4,
 "nbformat_minor": 5
}
