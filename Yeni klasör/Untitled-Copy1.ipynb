{
 "cells": [
  {
   "cell_type": "code",
   "execution_count": 1,
   "id": "5a5b2f71",
   "metadata": {},
   "outputs": [],
   "source": [
    "import numpy as np\n",
    "import pandas as pd\n",
    "import seaborn as sns\n",
    "import matplotlib.pyplot as plt\n",
    "\n",
    "%matplotlib inline\n",
    "#%matplotlib notebook\n",
    "plt.rcParams[\"figure.figsize\"] = (10,6)\n",
    "import warnings\n",
    "warnings.filterwarnings(\"ignore\")\n",
    "warnings.warn(\"this will not show\")\n",
    "pd.set_option('display.float_format', lambda x: '%.3f' % x)"
   ]
  },
  {
   "cell_type": "code",
   "execution_count": 2,
   "id": "ce11035c",
   "metadata": {
    "scrolled": true
   },
   "outputs": [
    {
     "data": {
      "text/html": [
       "<div>\n",
       "<style scoped>\n",
       "    .dataframe tbody tr th:only-of-type {\n",
       "        vertical-align: middle;\n",
       "    }\n",
       "\n",
       "    .dataframe tbody tr th {\n",
       "        vertical-align: top;\n",
       "    }\n",
       "\n",
       "    .dataframe thead th {\n",
       "        text-align: right;\n",
       "    }\n",
       "</style>\n",
       "<table border=\"1\" class=\"dataframe\">\n",
       "  <thead>\n",
       "    <tr style=\"text-align: right;\">\n",
       "      <th></th>\n",
       "      <th>age</th>\n",
       "      <th>sex</th>\n",
       "      <th>bmi</th>\n",
       "      <th>smoker</th>\n",
       "      <th>region</th>\n",
       "      <th>children</th>\n",
       "      <th>charges</th>\n",
       "    </tr>\n",
       "  </thead>\n",
       "  <tbody>\n",
       "    <tr>\n",
       "      <th>0</th>\n",
       "      <td>21.000</td>\n",
       "      <td>male</td>\n",
       "      <td>25.745</td>\n",
       "      <td>no</td>\n",
       "      <td>northeast</td>\n",
       "      <td>2</td>\n",
       "      <td>3279.869</td>\n",
       "    </tr>\n",
       "    <tr>\n",
       "      <th>1</th>\n",
       "      <td>36.977</td>\n",
       "      <td>female</td>\n",
       "      <td>25.744</td>\n",
       "      <td>yes</td>\n",
       "      <td>southeast</td>\n",
       "      <td>3</td>\n",
       "      <td>21454.494</td>\n",
       "    </tr>\n",
       "    <tr>\n",
       "      <th>2</th>\n",
       "      <td>18.000</td>\n",
       "      <td>male</td>\n",
       "      <td>30.030</td>\n",
       "      <td>no</td>\n",
       "      <td>southeast</td>\n",
       "      <td>1</td>\n",
       "      <td>1720.354</td>\n",
       "    </tr>\n",
       "    <tr>\n",
       "      <th>3</th>\n",
       "      <td>37.000</td>\n",
       "      <td>male</td>\n",
       "      <td>30.677</td>\n",
       "      <td>no</td>\n",
       "      <td>northeast</td>\n",
       "      <td>3</td>\n",
       "      <td>6801.438</td>\n",
       "    </tr>\n",
       "    <tr>\n",
       "      <th>4</th>\n",
       "      <td>58.000</td>\n",
       "      <td>male</td>\n",
       "      <td>32.010</td>\n",
       "      <td>no</td>\n",
       "      <td>southeast</td>\n",
       "      <td>1</td>\n",
       "      <td>11946.626</td>\n",
       "    </tr>\n",
       "  </tbody>\n",
       "</table>\n",
       "</div>"
      ],
      "text/plain": [
       "     age     sex    bmi smoker     region  children   charges\n",
       "0 21.000    male 25.745     no  northeast         2  3279.869\n",
       "1 36.977  female 25.744    yes  southeast         3 21454.494\n",
       "2 18.000    male 30.030     no  southeast         1  1720.354\n",
       "3 37.000    male 30.677     no  northeast         3  6801.438\n",
       "4 58.000    male 32.010     no  southeast         1 11946.626"
      ]
     },
     "execution_count": 2,
     "metadata": {},
     "output_type": "execute_result"
    }
   ],
   "source": [
    "df = pd.read_csv(\"health_train.csv\").copy()\n",
    "df.head()"
   ]
  },
  {
   "cell_type": "code",
   "execution_count": 3,
   "id": "c9ea7f22",
   "metadata": {
    "scrolled": true
   },
   "outputs": [
    {
     "name": "stdout",
     "output_type": "stream",
     "text": [
      "<class 'pandas.core.frame.DataFrame'>\n",
      "RangeIndex: 2500 entries, 0 to 2499\n",
      "Data columns (total 7 columns):\n",
      " #   Column    Non-Null Count  Dtype  \n",
      "---  ------    --------------  -----  \n",
      " 0   age       2500 non-null   float64\n",
      " 1   sex       2500 non-null   object \n",
      " 2   bmi       2500 non-null   float64\n",
      " 3   smoker    2500 non-null   object \n",
      " 4   region    2500 non-null   object \n",
      " 5   children  2500 non-null   int64  \n",
      " 6   charges   2500 non-null   float64\n",
      "dtypes: float64(3), int64(1), object(3)\n",
      "memory usage: 136.8+ KB\n"
     ]
    }
   ],
   "source": [
    "df.info()"
   ]
  },
  {
   "cell_type": "code",
   "execution_count": 4,
   "id": "56f9ddc7",
   "metadata": {},
   "outputs": [
    {
     "data": {
      "text/html": [
       "<div>\n",
       "<style scoped>\n",
       "    .dataframe tbody tr th:only-of-type {\n",
       "        vertical-align: middle;\n",
       "    }\n",
       "\n",
       "    .dataframe tbody tr th {\n",
       "        vertical-align: top;\n",
       "    }\n",
       "\n",
       "    .dataframe thead th {\n",
       "        text-align: right;\n",
       "    }\n",
       "</style>\n",
       "<table border=\"1\" class=\"dataframe\">\n",
       "  <thead>\n",
       "    <tr style=\"text-align: right;\">\n",
       "      <th></th>\n",
       "      <th>count</th>\n",
       "      <th>mean</th>\n",
       "      <th>std</th>\n",
       "      <th>min</th>\n",
       "      <th>25%</th>\n",
       "      <th>50%</th>\n",
       "      <th>75%</th>\n",
       "      <th>max</th>\n",
       "    </tr>\n",
       "  </thead>\n",
       "  <tbody>\n",
       "    <tr>\n",
       "      <th>age</th>\n",
       "      <td>2500.000</td>\n",
       "      <td>39.003</td>\n",
       "      <td>12.265</td>\n",
       "      <td>18.000</td>\n",
       "      <td>28.846</td>\n",
       "      <td>39.350</td>\n",
       "      <td>48.689</td>\n",
       "      <td>64.000</td>\n",
       "    </tr>\n",
       "    <tr>\n",
       "      <th>bmi</th>\n",
       "      <td>2500.000</td>\n",
       "      <td>30.575</td>\n",
       "      <td>5.390</td>\n",
       "      <td>15.960</td>\n",
       "      <td>26.718</td>\n",
       "      <td>30.200</td>\n",
       "      <td>34.046</td>\n",
       "      <td>53.130</td>\n",
       "    </tr>\n",
       "    <tr>\n",
       "      <th>children</th>\n",
       "      <td>2500.000</td>\n",
       "      <td>2.488</td>\n",
       "      <td>1.707</td>\n",
       "      <td>0.000</td>\n",
       "      <td>1.000</td>\n",
       "      <td>2.000</td>\n",
       "      <td>4.000</td>\n",
       "      <td>5.000</td>\n",
       "    </tr>\n",
       "    <tr>\n",
       "      <th>charges</th>\n",
       "      <td>2500.000</td>\n",
       "      <td>12679.312</td>\n",
       "      <td>10593.270</td>\n",
       "      <td>1121.874</td>\n",
       "      <td>5612.781</td>\n",
       "      <td>9455.047</td>\n",
       "      <td>14440.628</td>\n",
       "      <td>63770.428</td>\n",
       "    </tr>\n",
       "  </tbody>\n",
       "</table>\n",
       "</div>"
      ],
      "text/plain": [
       "            count      mean       std      min      25%      50%       75%  \\\n",
       "age      2500.000    39.003    12.265   18.000   28.846   39.350    48.689   \n",
       "bmi      2500.000    30.575     5.390   15.960   26.718   30.200    34.046   \n",
       "children 2500.000     2.488     1.707    0.000    1.000    2.000     4.000   \n",
       "charges  2500.000 12679.312 10593.270 1121.874 5612.781 9455.047 14440.628   \n",
       "\n",
       "               max  \n",
       "age         64.000  \n",
       "bmi         53.130  \n",
       "children     5.000  \n",
       "charges  63770.428  "
      ]
     },
     "execution_count": 4,
     "metadata": {},
     "output_type": "execute_result"
    }
   ],
   "source": [
    "df.describe().T"
   ]
  },
  {
   "cell_type": "code",
   "execution_count": 5,
   "id": "be5488b3",
   "metadata": {},
   "outputs": [
    {
     "data": {
      "text/plain": [
       "(2500, 7)"
      ]
     },
     "execution_count": 5,
     "metadata": {},
     "output_type": "execute_result"
    }
   ],
   "source": [
    "df.shape"
   ]
  },
  {
   "cell_type": "code",
   "execution_count": 6,
   "id": "a0669ec8",
   "metadata": {
    "scrolled": true
   },
   "outputs": [
    {
     "data": {
      "text/plain": [
       "age         False\n",
       "sex         False\n",
       "bmi         False\n",
       "smoker      False\n",
       "region      False\n",
       "children    False\n",
       "charges     False\n",
       "dtype: bool"
      ]
     },
     "execution_count": 6,
     "metadata": {},
     "output_type": "execute_result"
    }
   ],
   "source": [
    "df.isnull().any()"
   ]
  },
  {
   "cell_type": "code",
   "execution_count": 7,
   "id": "d5d54c2c",
   "metadata": {},
   "outputs": [
    {
     "data": {
      "text/plain": [
       "age         0\n",
       "sex         0\n",
       "bmi         0\n",
       "smoker      0\n",
       "region      0\n",
       "children    0\n",
       "charges     0\n",
       "dtype: int64"
      ]
     },
     "execution_count": 7,
     "metadata": {},
     "output_type": "execute_result"
    }
   ],
   "source": [
    "df.isnull().sum()"
   ]
  },
  {
   "cell_type": "code",
   "execution_count": 8,
   "id": "66b4a59f",
   "metadata": {},
   "outputs": [
    {
     "data": {
      "text/plain": [
       "False    2500\n",
       "dtype: int64"
      ]
     },
     "execution_count": 8,
     "metadata": {},
     "output_type": "execute_result"
    }
   ],
   "source": [
    "df.duplicated().value_counts()"
   ]
  },
  {
   "cell_type": "code",
   "execution_count": 9,
   "id": "1f5a1896",
   "metadata": {},
   "outputs": [
    {
     "name": "stdout",
     "output_type": "stream",
     "text": [
      "18.000    57\n",
      "19.000    52\n",
      "48.000    43\n",
      "39.000    43\n",
      "33.000    35\n",
      "          ..\n",
      "30.087     1\n",
      "42.856     1\n",
      "46.649     1\n",
      "54.709     1\n",
      "62.461     1\n",
      "Name: age, Length: 1347, dtype: int64\n",
      "male      1387\n",
      "female    1113\n",
      "Name: sex, dtype: int64\n",
      "32.300    9\n",
      "28.310    8\n",
      "31.350    7\n",
      "38.060    7\n",
      "33.330    7\n",
      "         ..\n",
      "36.945    1\n",
      "28.940    1\n",
      "29.150    1\n",
      "35.113    1\n",
      "28.955    1\n",
      "Name: bmi, Length: 2008, dtype: int64\n",
      "no     2124\n",
      "yes     376\n",
      "Name: smoker, dtype: int64\n",
      "southeast    699\n",
      "northwest    613\n",
      "northeast    606\n",
      "southwest    582\n",
      "Name: region, dtype: int64\n",
      "0    427\n",
      "2    426\n",
      "4    418\n",
      "3    416\n",
      "5    409\n",
      "1    404\n",
      "Name: children, dtype: int64\n",
      "14799.031    1\n",
      "7742.110     1\n",
      "2196.473     1\n",
      "48824.450    1\n",
      "9335.022     1\n",
      "            ..\n",
      "2416.955     1\n",
      "6611.575     1\n",
      "5550.921     1\n",
      "1615.767     1\n",
      "7731.427     1\n",
      "Name: charges, Length: 2500, dtype: int64\n"
     ]
    }
   ],
   "source": [
    "for i in df.columns:\n",
    "    print(df[i].value_counts())"
   ]
  },
  {
   "cell_type": "code",
   "execution_count": 10,
   "id": "2a069b63",
   "metadata": {
    "scrolled": true
   },
   "outputs": [],
   "source": [
    "df.children = df.children.map({0 : \"zero\", 1 : \"one\", 2 : \"two\", 3 : \"three\", 4 : \"four\", 5 : \"five\"})"
   ]
  },
  {
   "cell_type": "code",
   "execution_count": 11,
   "id": "9a352b16",
   "metadata": {},
   "outputs": [
    {
     "data": {
      "text/plain": [
       "0         two\n",
       "1       three\n",
       "2         one\n",
       "3       three\n",
       "4         one\n",
       "        ...  \n",
       "2495     four\n",
       "2496    three\n",
       "2497      two\n",
       "2498    three\n",
       "2499     five\n",
       "Name: children, Length: 2500, dtype: object"
      ]
     },
     "execution_count": 11,
     "metadata": {},
     "output_type": "execute_result"
    }
   ],
   "source": [
    "df.children"
   ]
  },
  {
   "cell_type": "code",
   "execution_count": 12,
   "id": "15417a6f",
   "metadata": {},
   "outputs": [],
   "source": [
    "# cocuk kategorik degişimi yapılacak \n",
    "# çocuk-sex-region-smoker dummy yapılacak\n",
    "# bmi- charges da outlier var "
   ]
  },
  {
   "cell_type": "code",
   "execution_count": 13,
   "id": "89c21435",
   "metadata": {
    "scrolled": false
   },
   "outputs": [
    {
     "data": {
      "image/png": "[encoded data removed]",
      "text/plain": [
       "<Figure size 720x432 with 1 Axes>"
      ]
     },
     "metadata": {
      "needs_background": "light"
     },
     "output_type": "display_data"
    },
    {
     "data": {
      "image/png": "[encoded data removed]",
      "text/plain": [
       "<Figure size 720x432 with 1 Axes>"
      ]
     },
     "metadata": {
      "needs_background": "light"
     },
     "output_type": "display_data"
    },
    {
     "data": {
      "image/png": "[encoded data removed]",
      "text/plain": [
       "<Figure size 720x432 with 1 Axes>"
      ]
     },
     "metadata": {
      "needs_background": "light"
     },
     "output_type": "display_data"
    },
    {
     "data": {
      "image/png": "[encoded data removed]",
      "text/plain": [
       "<Figure size 720x432 with 1 Axes>"
      ]
     },
     "metadata": {
      "needs_background": "light"
     },
     "output_type": "display_data"
    },
    {
     "data": {
      "image/png": "[encoded data removed]",
      "text/plain": [
       "<Figure size 720x432 with 1 Axes>"
      ]
     },
     "metadata": {
      "needs_background": "light"
     },
     "output_type": "display_data"
    },
    {
     "data": {
      "image/png": "[encoded data removed]",
      "text/plain": [
       "<Figure size 720x432 with 1 Axes>"
      ]
     },
     "metadata": {
      "needs_background": "light"
     },
     "output_type": "display_data"
    },
    {
     "data": {
      "image/png": "[encoded data removed]",
      "text/plain": [
       "<Figure size 720x432 with 1 Axes>"
      ]
     },
     "metadata": {
      "needs_background": "light"
     },
     "output_type": "display_data"
    }
   ],
   "source": [
    "for i,col in enumerate(df.columns):\n",
    "    plt.figure(i)\n",
    "    sns.histplot(df[col])"
   ]
  },
  {
   "cell_type": "code",
   "execution_count": 14,
   "id": "55f49cc5",
   "metadata": {},
   "outputs": [
    {
     "name": "stdout",
     "output_type": "stream",
     "text": [
      "[21.         36.976978   18.         ... 32.87712067 31.05805097\n",
      " 36.83381823]\n",
      "['male' 'female']\n",
      "[25.745      25.74416485 30.03       ... 36.17958688 36.42961358\n",
      " 36.64057852]\n",
      "['no' 'yes']\n",
      "['northeast' 'southeast' 'northwest' 'southwest']\n",
      "['two' 'three' 'one' 'four' 'five' 'zero']\n",
      "[ 3279.86855    21454.49423864  1720.3537     ... 12401.74657543\n",
      " 10376.29462922  6658.23740414]\n"
     ]
    }
   ],
   "source": [
    "for i in df.columns:\n",
    "    print(df[i].unique())"
   ]
  },
  {
   "cell_type": "code",
   "execution_count": 15,
   "id": "5fd3abd2",
   "metadata": {},
   "outputs": [],
   "source": [
    "outliers = []\n",
    "def detect_outliers_iqr(df):\n",
    "    for i in df.columns:\n",
    "        q1, q3 = df[i].quantile([0.25, 0.75])\n",
    "       \n",
    "        IQR = q3-q1\n",
    "        lwr_bound = q1-(1.5*IQR)\n",
    "        upr_bound = q3+(1.5*IQR)\n",
    "        for j in df[i]: \n",
    "            if (j<lwr_bound or j>upr_bound):\n",
    "                for z in list(df[i][df[i] == j].index):\n",
    "                    outliers.append(z)\n",
    "    \n",
    "    return df.iloc[outliers]"
   ]
  },
  {
   "cell_type": "code",
   "execution_count": 16,
   "id": "aef2259c",
   "metadata": {},
   "outputs": [
    {
     "data": {
      "text/html": [
       "<div>\n",
       "<style scoped>\n",
       "    .dataframe tbody tr th:only-of-type {\n",
       "        vertical-align: middle;\n",
       "    }\n",
       "\n",
       "    .dataframe tbody tr th {\n",
       "        vertical-align: top;\n",
       "    }\n",
       "\n",
       "    .dataframe thead th {\n",
       "        text-align: right;\n",
       "    }\n",
       "</style>\n",
       "<table border=\"1\" class=\"dataframe\">\n",
       "  <thead>\n",
       "    <tr style=\"text-align: right;\">\n",
       "      <th></th>\n",
       "      <th>age</th>\n",
       "      <th>bmi</th>\n",
       "      <th>charges</th>\n",
       "    </tr>\n",
       "  </thead>\n",
       "  <tbody>\n",
       "    <tr>\n",
       "      <th>41</th>\n",
       "      <td>47.000</td>\n",
       "      <td>46.986</td>\n",
       "      <td>8083.178</td>\n",
       "    </tr>\n",
       "    <tr>\n",
       "      <th>279</th>\n",
       "      <td>46.000</td>\n",
       "      <td>48.070</td>\n",
       "      <td>9432.925</td>\n",
       "    </tr>\n",
       "    <tr>\n",
       "      <th>316</th>\n",
       "      <td>22.000</td>\n",
       "      <td>52.580</td>\n",
       "      <td>44501.398</td>\n",
       "    </tr>\n",
       "    <tr>\n",
       "      <th>448</th>\n",
       "      <td>47.000</td>\n",
       "      <td>45.320</td>\n",
       "      <td>8569.862</td>\n",
       "    </tr>\n",
       "    <tr>\n",
       "      <th>539</th>\n",
       "      <td>25.000</td>\n",
       "      <td>45.540</td>\n",
       "      <td>42112.236</td>\n",
       "    </tr>\n",
       "    <tr>\n",
       "      <th>...</th>\n",
       "      <td>...</td>\n",
       "      <td>...</td>\n",
       "      <td>...</td>\n",
       "    </tr>\n",
       "    <tr>\n",
       "      <th>2439</th>\n",
       "      <td>34.000</td>\n",
       "      <td>30.800</td>\n",
       "      <td>35491.640</td>\n",
       "    </tr>\n",
       "    <tr>\n",
       "      <th>2451</th>\n",
       "      <td>51.227</td>\n",
       "      <td>31.795</td>\n",
       "      <td>29762.311</td>\n",
       "    </tr>\n",
       "    <tr>\n",
       "      <th>2454</th>\n",
       "      <td>23.713</td>\n",
       "      <td>32.809</td>\n",
       "      <td>36036.280</td>\n",
       "    </tr>\n",
       "    <tr>\n",
       "      <th>2479</th>\n",
       "      <td>44.272</td>\n",
       "      <td>42.949</td>\n",
       "      <td>45841.469</td>\n",
       "    </tr>\n",
       "    <tr>\n",
       "      <th>2489</th>\n",
       "      <td>44.125</td>\n",
       "      <td>43.857</td>\n",
       "      <td>46217.666</td>\n",
       "    </tr>\n",
       "  </tbody>\n",
       "</table>\n",
       "<p>263 rows × 3 columns</p>\n",
       "</div>"
      ],
      "text/plain": [
       "        age    bmi   charges\n",
       "41   47.000 46.986  8083.178\n",
       "279  46.000 48.070  9432.925\n",
       "316  22.000 52.580 44501.398\n",
       "448  47.000 45.320  8569.862\n",
       "539  25.000 45.540 42112.236\n",
       "...     ...    ...       ...\n",
       "2439 34.000 30.800 35491.640\n",
       "2451 51.227 31.795 29762.311\n",
       "2454 23.713 32.809 36036.280\n",
       "2479 44.272 42.949 45841.469\n",
       "2489 44.125 43.857 46217.666\n",
       "\n",
       "[263 rows x 3 columns]"
      ]
     },
     "execution_count": 16,
     "metadata": {},
     "output_type": "execute_result"
    }
   ],
   "source": [
    "detect_outliers_iqr(df[[\"age\", \"bmi\", \"charges\"]])"
   ]
  },
  {
   "cell_type": "code",
   "execution_count": 17,
   "id": "b7446748",
   "metadata": {},
   "outputs": [
    {
     "data": {
      "text/html": [
       "<div>\n",
       "<style scoped>\n",
       "    .dataframe tbody tr th:only-of-type {\n",
       "        vertical-align: middle;\n",
       "    }\n",
       "\n",
       "    .dataframe tbody tr th {\n",
       "        vertical-align: top;\n",
       "    }\n",
       "\n",
       "    .dataframe thead th {\n",
       "        text-align: right;\n",
       "    }\n",
       "</style>\n",
       "<table border=\"1\" class=\"dataframe\">\n",
       "  <thead>\n",
       "    <tr style=\"text-align: right;\">\n",
       "      <th></th>\n",
       "      <th>age</th>\n",
       "      <th>sex</th>\n",
       "      <th>bmi</th>\n",
       "      <th>smoker</th>\n",
       "      <th>region</th>\n",
       "      <th>children</th>\n",
       "      <th>charges</th>\n",
       "    </tr>\n",
       "  </thead>\n",
       "  <tbody>\n",
       "    <tr>\n",
       "      <th>0</th>\n",
       "      <td>21.000</td>\n",
       "      <td>male</td>\n",
       "      <td>25.745</td>\n",
       "      <td>no</td>\n",
       "      <td>northeast</td>\n",
       "      <td>two</td>\n",
       "      <td>3279.869</td>\n",
       "    </tr>\n",
       "    <tr>\n",
       "      <th>1</th>\n",
       "      <td>36.977</td>\n",
       "      <td>female</td>\n",
       "      <td>25.744</td>\n",
       "      <td>yes</td>\n",
       "      <td>southeast</td>\n",
       "      <td>three</td>\n",
       "      <td>21454.494</td>\n",
       "    </tr>\n",
       "    <tr>\n",
       "      <th>2</th>\n",
       "      <td>18.000</td>\n",
       "      <td>male</td>\n",
       "      <td>30.030</td>\n",
       "      <td>no</td>\n",
       "      <td>southeast</td>\n",
       "      <td>one</td>\n",
       "      <td>1720.354</td>\n",
       "    </tr>\n",
       "    <tr>\n",
       "      <th>3</th>\n",
       "      <td>37.000</td>\n",
       "      <td>male</td>\n",
       "      <td>30.677</td>\n",
       "      <td>no</td>\n",
       "      <td>northeast</td>\n",
       "      <td>three</td>\n",
       "      <td>6801.438</td>\n",
       "    </tr>\n",
       "    <tr>\n",
       "      <th>4</th>\n",
       "      <td>58.000</td>\n",
       "      <td>male</td>\n",
       "      <td>32.010</td>\n",
       "      <td>no</td>\n",
       "      <td>southeast</td>\n",
       "      <td>one</td>\n",
       "      <td>11946.626</td>\n",
       "    </tr>\n",
       "    <tr>\n",
       "      <th>...</th>\n",
       "      <td>...</td>\n",
       "      <td>...</td>\n",
       "      <td>...</td>\n",
       "      <td>...</td>\n",
       "      <td>...</td>\n",
       "      <td>...</td>\n",
       "      <td>...</td>\n",
       "    </tr>\n",
       "    <tr>\n",
       "      <th>2495</th>\n",
       "      <td>31.058</td>\n",
       "      <td>male</td>\n",
       "      <td>27.555</td>\n",
       "      <td>no</td>\n",
       "      <td>southeast</td>\n",
       "      <td>four</td>\n",
       "      <td>5889.104</td>\n",
       "    </tr>\n",
       "    <tr>\n",
       "      <th>2496</th>\n",
       "      <td>36.834</td>\n",
       "      <td>male</td>\n",
       "      <td>30.322</td>\n",
       "      <td>no</td>\n",
       "      <td>northeast</td>\n",
       "      <td>three</td>\n",
       "      <td>6788.534</td>\n",
       "    </tr>\n",
       "    <tr>\n",
       "      <th>2497</th>\n",
       "      <td>56.000</td>\n",
       "      <td>female</td>\n",
       "      <td>36.180</td>\n",
       "      <td>no</td>\n",
       "      <td>northwest</td>\n",
       "      <td>two</td>\n",
       "      <td>12401.747</td>\n",
       "    </tr>\n",
       "    <tr>\n",
       "      <th>2498</th>\n",
       "      <td>49.000</td>\n",
       "      <td>male</td>\n",
       "      <td>36.430</td>\n",
       "      <td>no</td>\n",
       "      <td>northwest</td>\n",
       "      <td>three</td>\n",
       "      <td>10376.295</td>\n",
       "    </tr>\n",
       "    <tr>\n",
       "      <th>2499</th>\n",
       "      <td>33.000</td>\n",
       "      <td>male</td>\n",
       "      <td>36.641</td>\n",
       "      <td>no</td>\n",
       "      <td>southwest</td>\n",
       "      <td>five</td>\n",
       "      <td>6658.237</td>\n",
       "    </tr>\n",
       "  </tbody>\n",
       "</table>\n",
       "<p>2243 rows × 7 columns</p>\n",
       "</div>"
      ],
      "text/plain": [
       "        age     sex    bmi smoker     region children   charges\n",
       "0    21.000    male 25.745     no  northeast      two  3279.869\n",
       "1    36.977  female 25.744    yes  southeast    three 21454.494\n",
       "2    18.000    male 30.030     no  southeast      one  1720.354\n",
       "3    37.000    male 30.677     no  northeast    three  6801.438\n",
       "4    58.000    male 32.010     no  southeast      one 11946.626\n",
       "...     ...     ...    ...    ...        ...      ...       ...\n",
       "2495 31.058    male 27.555     no  southeast     four  5889.104\n",
       "2496 36.834    male 30.322     no  northeast    three  6788.534\n",
       "2497 56.000  female 36.180     no  northwest      two 12401.747\n",
       "2498 49.000    male 36.430     no  northwest    three 10376.295\n",
       "2499 33.000    male 36.641     no  southwest     five  6658.237\n",
       "\n",
       "[2243 rows x 7 columns]"
      ]
     },
     "execution_count": 17,
     "metadata": {},
     "output_type": "execute_result"
    }
   ],
   "source": [
    "df_with_EDA = df.drop(outliers, axis = 0)\n",
    "df_with_EDA"
   ]
  },
  {
   "cell_type": "code",
   "execution_count": 18,
   "id": "06f09a06",
   "metadata": {
    "scrolled": false
   },
   "outputs": [
    {
     "data": {
      "image/png": "[encoded data removed]",
      "text/plain": [
       "<Figure size 720x432 with 1 Axes>"
      ]
     },
     "metadata": {
      "needs_background": "light"
     },
     "output_type": "display_data"
    },
    {
     "data": {
      "image/png": "[encoded data removed]",
      "text/plain": [
       "<Figure size 720x432 with 1 Axes>"
      ]
     },
     "metadata": {
      "needs_background": "light"
     },
     "output_type": "display_data"
    },
    {
     "data": {
      "image/png": "[encoded data removed]",
      "text/plain": [
       "<Figure size 720x432 with 1 Axes>"
      ]
     },
     "metadata": {
      "needs_background": "light"
     },
     "output_type": "display_data"
    },
    {
     "data": {
      "image/png": "[encoded data removed]",
      "text/plain": [
       "<Figure size 720x432 with 1 Axes>"
      ]
     },
     "metadata": {
      "needs_background": "light"
     },
     "output_type": "display_data"
    },
    {
     "data": {
      "image/png": "[encoded data removed]",
      "text/plain": [
       "<Figure size 720x432 with 1 Axes>"
      ]
     },
     "metadata": {
      "needs_background": "light"
     },
     "output_type": "display_data"
    },
    {
     "data": {
      "image/png": "[encoded data removed]",
      "text/plain": [
       "<Figure size 720x432 with 1 Axes>"
      ]
     },
     "metadata": {
      "needs_background": "light"
     },
     "output_type": "display_data"
    },
    {
     "data": {
      "image/png": "[encoded data removed]",
      "text/plain": [
       "<Figure size 720x432 with 1 Axes>"
      ]
     },
     "metadata": {
      "needs_background": "light"
     },
     "output_type": "display_data"
    }
   ],
   "source": [
    "for i,col in enumerate(df_with_EDA.columns):\n",
    "    plt.figure(i)\n",
    "    sns.histplot(df_with_EDA[col])"
   ]
  },
  {
   "cell_type": "markdown",
   "id": "1f0c5a47",
   "metadata": {},
   "source": [
    "## without EDA lm model"
   ]
  },
  {
   "cell_type": "code",
   "execution_count": 20,
   "id": "ee4250bb",
   "metadata": {},
   "outputs": [],
   "source": [
    "# children charges "
   ]
  },
  {
   "cell_type": "code",
   "execution_count": 21,
   "id": "556470e2",
   "metadata": {},
   "outputs": [
    {
     "data": {
      "text/html": [
       "<div>\n",
       "<style scoped>\n",
       "    .dataframe tbody tr th:only-of-type {\n",
       "        vertical-align: middle;\n",
       "    }\n",
       "\n",
       "    .dataframe tbody tr th {\n",
       "        vertical-align: top;\n",
       "    }\n",
       "\n",
       "    .dataframe thead th {\n",
       "        text-align: right;\n",
       "    }\n",
       "</style>\n",
       "<table border=\"1\" class=\"dataframe\">\n",
       "  <thead>\n",
       "    <tr style=\"text-align: right;\">\n",
       "      <th></th>\n",
       "      <th>age</th>\n",
       "      <th>bmi</th>\n",
       "      <th>charges</th>\n",
       "      <th>sex_male</th>\n",
       "      <th>smoker_yes</th>\n",
       "      <th>region_northwest</th>\n",
       "      <th>region_southeast</th>\n",
       "      <th>region_southwest</th>\n",
       "      <th>children_four</th>\n",
       "      <th>children_one</th>\n",
       "      <th>children_three</th>\n",
       "      <th>children_two</th>\n",
       "      <th>children_zero</th>\n",
       "    </tr>\n",
       "  </thead>\n",
       "  <tbody>\n",
       "    <tr>\n",
       "      <th>0</th>\n",
       "      <td>21.000</td>\n",
       "      <td>25.745</td>\n",
       "      <td>3279.869</td>\n",
       "      <td>1</td>\n",
       "      <td>0</td>\n",
       "      <td>0</td>\n",
       "      <td>0</td>\n",
       "      <td>0</td>\n",
       "      <td>0</td>\n",
       "      <td>0</td>\n",
       "      <td>0</td>\n",
       "      <td>1</td>\n",
       "      <td>0</td>\n",
       "    </tr>\n",
       "    <tr>\n",
       "      <th>1</th>\n",
       "      <td>36.977</td>\n",
       "      <td>25.744</td>\n",
       "      <td>21454.494</td>\n",
       "      <td>0</td>\n",
       "      <td>1</td>\n",
       "      <td>0</td>\n",
       "      <td>1</td>\n",
       "      <td>0</td>\n",
       "      <td>0</td>\n",
       "      <td>0</td>\n",
       "      <td>1</td>\n",
       "      <td>0</td>\n",
       "      <td>0</td>\n",
       "    </tr>\n",
       "    <tr>\n",
       "      <th>2</th>\n",
       "      <td>18.000</td>\n",
       "      <td>30.030</td>\n",
       "      <td>1720.354</td>\n",
       "      <td>1</td>\n",
       "      <td>0</td>\n",
       "      <td>0</td>\n",
       "      <td>1</td>\n",
       "      <td>0</td>\n",
       "      <td>0</td>\n",
       "      <td>1</td>\n",
       "      <td>0</td>\n",
       "      <td>0</td>\n",
       "      <td>0</td>\n",
       "    </tr>\n",
       "    <tr>\n",
       "      <th>3</th>\n",
       "      <td>37.000</td>\n",
       "      <td>30.677</td>\n",
       "      <td>6801.438</td>\n",
       "      <td>1</td>\n",
       "      <td>0</td>\n",
       "      <td>0</td>\n",
       "      <td>0</td>\n",
       "      <td>0</td>\n",
       "      <td>0</td>\n",
       "      <td>0</td>\n",
       "      <td>1</td>\n",
       "      <td>0</td>\n",
       "      <td>0</td>\n",
       "    </tr>\n",
       "    <tr>\n",
       "      <th>4</th>\n",
       "      <td>58.000</td>\n",
       "      <td>32.010</td>\n",
       "      <td>11946.626</td>\n",
       "      <td>1</td>\n",
       "      <td>0</td>\n",
       "      <td>0</td>\n",
       "      <td>1</td>\n",
       "      <td>0</td>\n",
       "      <td>0</td>\n",
       "      <td>1</td>\n",
       "      <td>0</td>\n",
       "      <td>0</td>\n",
       "      <td>0</td>\n",
       "    </tr>\n",
       "    <tr>\n",
       "      <th>...</th>\n",
       "      <td>...</td>\n",
       "      <td>...</td>\n",
       "      <td>...</td>\n",
       "      <td>...</td>\n",
       "      <td>...</td>\n",
       "      <td>...</td>\n",
       "      <td>...</td>\n",
       "      <td>...</td>\n",
       "      <td>...</td>\n",
       "      <td>...</td>\n",
       "      <td>...</td>\n",
       "      <td>...</td>\n",
       "      <td>...</td>\n",
       "    </tr>\n",
       "    <tr>\n",
       "      <th>2495</th>\n",
       "      <td>31.058</td>\n",
       "      <td>27.555</td>\n",
       "      <td>5889.104</td>\n",
       "      <td>1</td>\n",
       "      <td>0</td>\n",
       "      <td>0</td>\n",
       "      <td>1</td>\n",
       "      <td>0</td>\n",
       "      <td>1</td>\n",
       "      <td>0</td>\n",
       "      <td>0</td>\n",
       "      <td>0</td>\n",
       "      <td>0</td>\n",
       "    </tr>\n",
       "    <tr>\n",
       "      <th>2496</th>\n",
       "      <td>36.834</td>\n",
       "      <td>30.322</td>\n",
       "      <td>6788.534</td>\n",
       "      <td>1</td>\n",
       "      <td>0</td>\n",
       "      <td>0</td>\n",
       "      <td>0</td>\n",
       "      <td>0</td>\n",
       "      <td>0</td>\n",
       "      <td>0</td>\n",
       "      <td>1</td>\n",
       "      <td>0</td>\n",
       "      <td>0</td>\n",
       "    </tr>\n",
       "    <tr>\n",
       "      <th>2497</th>\n",
       "      <td>56.000</td>\n",
       "      <td>36.180</td>\n",
       "      <td>12401.747</td>\n",
       "      <td>0</td>\n",
       "      <td>0</td>\n",
       "      <td>1</td>\n",
       "      <td>0</td>\n",
       "      <td>0</td>\n",
       "      <td>0</td>\n",
       "      <td>0</td>\n",
       "      <td>0</td>\n",
       "      <td>1</td>\n",
       "      <td>0</td>\n",
       "    </tr>\n",
       "    <tr>\n",
       "      <th>2498</th>\n",
       "      <td>49.000</td>\n",
       "      <td>36.430</td>\n",
       "      <td>10376.295</td>\n",
       "      <td>1</td>\n",
       "      <td>0</td>\n",
       "      <td>1</td>\n",
       "      <td>0</td>\n",
       "      <td>0</td>\n",
       "      <td>0</td>\n",
       "      <td>0</td>\n",
       "      <td>1</td>\n",
       "      <td>0</td>\n",
       "      <td>0</td>\n",
       "    </tr>\n",
       "    <tr>\n",
       "      <th>2499</th>\n",
       "      <td>33.000</td>\n",
       "      <td>36.641</td>\n",
       "      <td>6658.237</td>\n",
       "      <td>1</td>\n",
       "      <td>0</td>\n",
       "      <td>0</td>\n",
       "      <td>0</td>\n",
       "      <td>1</td>\n",
       "      <td>0</td>\n",
       "      <td>0</td>\n",
       "      <td>0</td>\n",
       "      <td>0</td>\n",
       "      <td>0</td>\n",
       "    </tr>\n",
       "  </tbody>\n",
       "</table>\n",
       "<p>2500 rows × 13 columns</p>\n",
       "</div>"
      ],
      "text/plain": [
       "        age    bmi   charges  sex_male  smoker_yes  region_northwest  \\\n",
       "0    21.000 25.745  3279.869         1           0                 0   \n",
       "1    36.977 25.744 21454.494         0           1                 0   \n",
       "2    18.000 30.030  1720.354         1           0                 0   \n",
       "3    37.000 30.677  6801.438         1           0                 0   \n",
       "4    58.000 32.010 11946.626         1           0                 0   \n",
       "...     ...    ...       ...       ...         ...               ...   \n",
       "2495 31.058 27.555  5889.104         1           0                 0   \n",
       "2496 36.834 30.322  6788.534         1           0                 0   \n",
       "2497 56.000 36.180 12401.747         0           0                 1   \n",
       "2498 49.000 36.430 10376.295         1           0                 1   \n",
       "2499 33.000 36.641  6658.237         1           0                 0   \n",
       "\n",
       "      region_southeast  region_southwest  children_four  children_one  \\\n",
       "0                    0                 0              0             0   \n",
       "1                    1                 0              0             0   \n",
       "2                    1                 0              0             1   \n",
       "3                    0                 0              0             0   \n",
       "4                    1                 0              0             1   \n",
       "...                ...               ...            ...           ...   \n",
       "2495                 1                 0              1             0   \n",
       "2496                 0                 0              0             0   \n",
       "2497                 0                 0              0             0   \n",
       "2498                 0                 0              0             0   \n",
       "2499                 0                 1              0             0   \n",
       "\n",
       "      children_three  children_two  children_zero  \n",
       "0                  0             1              0  \n",
       "1                  1             0              0  \n",
       "2                  0             0              0  \n",
       "3                  1             0              0  \n",
       "4                  0             0              0  \n",
       "...              ...           ...            ...  \n",
       "2495               0             0              0  \n",
       "2496               1             0              0  \n",
       "2497               0             1              0  \n",
       "2498               1             0              0  \n",
       "2499               0             0              0  \n",
       "\n",
       "[2500 rows x 13 columns]"
      ]
     },
     "execution_count": 21,
     "metadata": {},
     "output_type": "execute_result"
    }
   ],
   "source": [
    "df = pd.get_dummies(df,drop_first=True)\n",
    "df"
   ]
  },
  {
   "cell_type": "code",
   "execution_count": 22,
   "id": "ada5cb46",
   "metadata": {},
   "outputs": [
    {
     "data": {
      "text/html": [
       "<div>\n",
       "<style scoped>\n",
       "    .dataframe tbody tr th:only-of-type {\n",
       "        vertical-align: middle;\n",
       "    }\n",
       "\n",
       "    .dataframe tbody tr th {\n",
       "        vertical-align: top;\n",
       "    }\n",
       "\n",
       "    .dataframe thead th {\n",
       "        text-align: right;\n",
       "    }\n",
       "</style>\n",
       "<table border=\"1\" class=\"dataframe\">\n",
       "  <thead>\n",
       "    <tr style=\"text-align: right;\">\n",
       "      <th></th>\n",
       "      <th>age</th>\n",
       "      <th>bmi</th>\n",
       "      <th>sex_male</th>\n",
       "      <th>smoker_yes</th>\n",
       "      <th>region_northwest</th>\n",
       "      <th>region_southeast</th>\n",
       "      <th>region_southwest</th>\n",
       "      <th>children_four</th>\n",
       "      <th>children_one</th>\n",
       "      <th>children_three</th>\n",
       "      <th>children_two</th>\n",
       "      <th>children_zero</th>\n",
       "    </tr>\n",
       "  </thead>\n",
       "  <tbody>\n",
       "    <tr>\n",
       "      <th>0</th>\n",
       "      <td>21.000</td>\n",
       "      <td>25.745</td>\n",
       "      <td>1</td>\n",
       "      <td>0</td>\n",
       "      <td>0</td>\n",
       "      <td>0</td>\n",
       "      <td>0</td>\n",
       "      <td>0</td>\n",
       "      <td>0</td>\n",
       "      <td>0</td>\n",
       "      <td>1</td>\n",
       "      <td>0</td>\n",
       "    </tr>\n",
       "    <tr>\n",
       "      <th>1</th>\n",
       "      <td>36.977</td>\n",
       "      <td>25.744</td>\n",
       "      <td>0</td>\n",
       "      <td>1</td>\n",
       "      <td>0</td>\n",
       "      <td>1</td>\n",
       "      <td>0</td>\n",
       "      <td>0</td>\n",
       "      <td>0</td>\n",
       "      <td>1</td>\n",
       "      <td>0</td>\n",
       "      <td>0</td>\n",
       "    </tr>\n",
       "    <tr>\n",
       "      <th>2</th>\n",
       "      <td>18.000</td>\n",
       "      <td>30.030</td>\n",
       "      <td>1</td>\n",
       "      <td>0</td>\n",
       "      <td>0</td>\n",
       "      <td>1</td>\n",
       "      <td>0</td>\n",
       "      <td>0</td>\n",
       "      <td>1</td>\n",
       "      <td>0</td>\n",
       "      <td>0</td>\n",
       "      <td>0</td>\n",
       "    </tr>\n",
       "    <tr>\n",
       "      <th>3</th>\n",
       "      <td>37.000</td>\n",
       "      <td>30.677</td>\n",
       "      <td>1</td>\n",
       "      <td>0</td>\n",
       "      <td>0</td>\n",
       "      <td>0</td>\n",
       "      <td>0</td>\n",
       "      <td>0</td>\n",
       "      <td>0</td>\n",
       "      <td>1</td>\n",
       "      <td>0</td>\n",
       "      <td>0</td>\n",
       "    </tr>\n",
       "    <tr>\n",
       "      <th>4</th>\n",
       "      <td>58.000</td>\n",
       "      <td>32.010</td>\n",
       "      <td>1</td>\n",
       "      <td>0</td>\n",
       "      <td>0</td>\n",
       "      <td>1</td>\n",
       "      <td>0</td>\n",
       "      <td>0</td>\n",
       "      <td>1</td>\n",
       "      <td>0</td>\n",
       "      <td>0</td>\n",
       "      <td>0</td>\n",
       "    </tr>\n",
       "    <tr>\n",
       "      <th>...</th>\n",
       "      <td>...</td>\n",
       "      <td>...</td>\n",
       "      <td>...</td>\n",
       "      <td>...</td>\n",
       "      <td>...</td>\n",
       "      <td>...</td>\n",
       "      <td>...</td>\n",
       "      <td>...</td>\n",
       "      <td>...</td>\n",
       "      <td>...</td>\n",
       "      <td>...</td>\n",
       "      <td>...</td>\n",
       "    </tr>\n",
       "    <tr>\n",
       "      <th>2495</th>\n",
       "      <td>31.058</td>\n",
       "      <td>27.555</td>\n",
       "      <td>1</td>\n",
       "      <td>0</td>\n",
       "      <td>0</td>\n",
       "      <td>1</td>\n",
       "      <td>0</td>\n",
       "      <td>1</td>\n",
       "      <td>0</td>\n",
       "      <td>0</td>\n",
       "      <td>0</td>\n",
       "      <td>0</td>\n",
       "    </tr>\n",
       "    <tr>\n",
       "      <th>2496</th>\n",
       "      <td>36.834</td>\n",
       "      <td>30.322</td>\n",
       "      <td>1</td>\n",
       "      <td>0</td>\n",
       "      <td>0</td>\n",
       "      <td>0</td>\n",
       "      <td>0</td>\n",
       "      <td>0</td>\n",
       "      <td>0</td>\n",
       "      <td>1</td>\n",
       "      <td>0</td>\n",
       "      <td>0</td>\n",
       "    </tr>\n",
       "    <tr>\n",
       "      <th>2497</th>\n",
       "      <td>56.000</td>\n",
       "      <td>36.180</td>\n",
       "      <td>0</td>\n",
       "      <td>0</td>\n",
       "      <td>1</td>\n",
       "      <td>0</td>\n",
       "      <td>0</td>\n",
       "      <td>0</td>\n",
       "      <td>0</td>\n",
       "      <td>0</td>\n",
       "      <td>1</td>\n",
       "      <td>0</td>\n",
       "    </tr>\n",
       "    <tr>\n",
       "      <th>2498</th>\n",
       "      <td>49.000</td>\n",
       "      <td>36.430</td>\n",
       "      <td>1</td>\n",
       "      <td>0</td>\n",
       "      <td>1</td>\n",
       "      <td>0</td>\n",
       "      <td>0</td>\n",
       "      <td>0</td>\n",
       "      <td>0</td>\n",
       "      <td>1</td>\n",
       "      <td>0</td>\n",
       "      <td>0</td>\n",
       "    </tr>\n",
       "    <tr>\n",
       "      <th>2499</th>\n",
       "      <td>33.000</td>\n",
       "      <td>36.641</td>\n",
       "      <td>1</td>\n",
       "      <td>0</td>\n",
       "      <td>0</td>\n",
       "      <td>0</td>\n",
       "      <td>1</td>\n",
       "      <td>0</td>\n",
       "      <td>0</td>\n",
       "      <td>0</td>\n",
       "      <td>0</td>\n",
       "      <td>0</td>\n",
       "    </tr>\n",
       "  </tbody>\n",
       "</table>\n",
       "<p>2500 rows × 12 columns</p>\n",
       "</div>"
      ],
      "text/plain": [
       "        age    bmi  sex_male  smoker_yes  region_northwest  region_southeast  \\\n",
       "0    21.000 25.745         1           0                 0                 0   \n",
       "1    36.977 25.744         0           1                 0                 1   \n",
       "2    18.000 30.030         1           0                 0                 1   \n",
       "3    37.000 30.677         1           0                 0                 0   \n",
       "4    58.000 32.010         1           0                 0                 1   \n",
       "...     ...    ...       ...         ...               ...               ...   \n",
       "2495 31.058 27.555         1           0                 0                 1   \n",
       "2496 36.834 30.322         1           0                 0                 0   \n",
       "2497 56.000 36.180         0           0                 1                 0   \n",
       "2498 49.000 36.430         1           0                 1                 0   \n",
       "2499 33.000 36.641         1           0                 0                 0   \n",
       "\n",
       "      region_southwest  children_four  children_one  children_three  \\\n",
       "0                    0              0             0               0   \n",
       "1                    0              0             0               1   \n",
       "2                    0              0             1               0   \n",
       "3                    0              0             0               1   \n",
       "4                    0              0             1               0   \n",
       "...                ...            ...           ...             ...   \n",
       "2495                 0              1             0               0   \n",
       "2496                 0              0             0               1   \n",
       "2497                 0              0             0               0   \n",
       "2498                 0              0             0               1   \n",
       "2499                 1              0             0               0   \n",
       "\n",
       "      children_two  children_zero  \n",
       "0                1              0  \n",
       "1                0              0  \n",
       "2                0              0  \n",
       "3                0              0  \n",
       "4                0              0  \n",
       "...            ...            ...  \n",
       "2495             0              0  \n",
       "2496             0              0  \n",
       "2497             1              0  \n",
       "2498             0              0  \n",
       "2499             0              0  \n",
       "\n",
       "[2500 rows x 12 columns]"
      ]
     },
     "execution_count": 22,
     "metadata": {},
     "output_type": "execute_result"
    }
   ],
   "source": [
    "X = df.drop(\"charges\", axis=1)\n",
    "y = df[\"charges\"]\n",
    "X"
   ]
  },
  {
   "cell_type": "code",
   "execution_count": 23,
   "id": "34578115",
   "metadata": {},
   "outputs": [
    {
     "data": {
      "text/plain": [
       "0       3279.869\n",
       "1      21454.494\n",
       "2       1720.354\n",
       "3       6801.438\n",
       "4      11946.626\n",
       "          ...   \n",
       "2495    5889.104\n",
       "2496    6788.534\n",
       "2497   12401.747\n",
       "2498   10376.295\n",
       "2499    6658.237\n",
       "Name: charges, Length: 2500, dtype: float64"
      ]
     },
     "execution_count": 23,
     "metadata": {},
     "output_type": "execute_result"
    }
   ],
   "source": [
    "y"
   ]
  },
  {
   "cell_type": "code",
   "execution_count": 24,
   "id": "cdee6d52",
   "metadata": {},
   "outputs": [
    {
     "name": "stdout",
     "output_type": "stream",
     "text": [
      "Train features shape :  (2000, 12)\n",
      "Train target shape   :  (2000,)\n",
      "Test features shape  :  (500, 12)\n",
      "Test target shape    :  (500,)\n"
     ]
    }
   ],
   "source": [
    "from sklearn.model_selection import train_test_split\n",
    "X_train, X_test, y_train, y_test = train_test_split(X, y, test_size=0.2, random_state=42)\n",
    "print(\"Train features shape : \", X_train.shape)\n",
    "print(\"Train target shape   : \", y_train.shape)\n",
    "print(\"Test features shape  : \", X_test.shape)\n",
    "print(\"Test target shape    : \", y_test.shape)"
   ]
  },
  {
   "cell_type": "markdown",
   "id": "b9939743",
   "metadata": {},
   "source": [
    "## 3. Implement Linear Regression"
   ]
  },
  {
   "cell_type": "code",
   "execution_count": 25,
   "id": "b4b3149c",
   "metadata": {},
   "outputs": [],
   "source": [
    "from sklearn.model_selection import train_test_split\n",
    "from sklearn.linear_model import LinearRegression\n",
    "from sklearn.model_selection import cross_validate, cross_val_score\n",
    "from sklearn.metrics import mean_absolute_error,mean_squared_error, r2_score"
   ]
  },
  {
   "cell_type": "code",
   "execution_count": 26,
   "id": "75f418a0",
   "metadata": {},
   "outputs": [],
   "source": [
    "def train_val(model, X_train, y_train, X_test, y_test):\n",
    "    \n",
    "    y_pred = model.predict(X_test)\n",
    "    y_train_pred = model.predict(X_train)\n",
    "    \n",
    "    scores = {\"train\": {\"R2\" : r2_score(y_train, y_train_pred),\n",
    "    \"mae\" : mean_absolute_error(y_train, y_train_pred),\n",
    "    \"mse\" : mean_squared_error(y_train, y_train_pred),                          \n",
    "    \"rmse\" : np.sqrt(mean_squared_error(y_train, y_train_pred))},\n",
    "    \n",
    "    \"test\": {\"R2\" : r2_score(y_test, y_pred),\n",
    "    \"mae\" : mean_absolute_error(y_test, y_pred),\n",
    "    \"mse\" : mean_squared_error(y_test, y_pred),\n",
    "    \"rmse\" : np.sqrt(mean_squared_error(y_test, y_pred))}}\n",
    "    \n",
    "    return pd.DataFrame(scores)"
   ]
  },
  {
   "cell_type": "code",
   "execution_count": 27,
   "id": "dc9ec76d",
   "metadata": {},
   "outputs": [
    {
     "data": {
      "text/plain": [
       "LinearRegression()"
      ]
     },
     "execution_count": 27,
     "metadata": {},
     "output_type": "execute_result"
    }
   ],
   "source": [
    "lm = LinearRegression()\n",
    "lm.fit(X_train,y_train)"
   ]
  },
  {
   "cell_type": "code",
   "execution_count": 28,
   "id": "f5bfa75c",
   "metadata": {},
   "outputs": [
    {
     "data": {
      "text/html": [
       "<div>\n",
       "<style scoped>\n",
       "    .dataframe tbody tr th:only-of-type {\n",
       "        vertical-align: middle;\n",
       "    }\n",
       "\n",
       "    .dataframe tbody tr th {\n",
       "        vertical-align: top;\n",
       "    }\n",
       "\n",
       "    .dataframe thead th {\n",
       "        text-align: right;\n",
       "    }\n",
       "</style>\n",
       "<table border=\"1\" class=\"dataframe\">\n",
       "  <thead>\n",
       "    <tr style=\"text-align: right;\">\n",
       "      <th></th>\n",
       "      <th>train</th>\n",
       "      <th>test</th>\n",
       "    </tr>\n",
       "  </thead>\n",
       "  <tbody>\n",
       "    <tr>\n",
       "      <th>R2</th>\n",
       "      <td>0.721</td>\n",
       "      <td>0.713</td>\n",
       "    </tr>\n",
       "    <tr>\n",
       "      <th>mae</th>\n",
       "      <td>3852.684</td>\n",
       "      <td>3662.539</td>\n",
       "    </tr>\n",
       "    <tr>\n",
       "      <th>mse</th>\n",
       "      <td>31847154.792</td>\n",
       "      <td>29924249.341</td>\n",
       "    </tr>\n",
       "    <tr>\n",
       "      <th>rmse</th>\n",
       "      <td>5643.328</td>\n",
       "      <td>5470.306</td>\n",
       "    </tr>\n",
       "  </tbody>\n",
       "</table>\n",
       "</div>"
      ],
      "text/plain": [
       "            train         test\n",
       "R2          0.721        0.713\n",
       "mae      3852.684     3662.539\n",
       "mse  31847154.792 29924249.341\n",
       "rmse     5643.328     5470.306"
      ]
     },
     "execution_count": 28,
     "metadata": {},
     "output_type": "execute_result"
    }
   ],
   "source": [
    "pd.options.display.float_format = '{:.3f}'.format\n",
    "train_val(lm, X_train, y_train, X_test, y_test)"
   ]
  },
  {
   "cell_type": "markdown",
   "id": "c37a9e5f",
   "metadata": {},
   "source": [
    "## CV"
   ]
  },
  {
   "cell_type": "code",
   "execution_count": 29,
   "id": "3fa3b2d6",
   "metadata": {},
   "outputs": [],
   "source": [
    "model = LinearRegression()\n",
    "scores = cross_validate(model, X_train, y_train, scoring = ['r2', 'neg_mean_absolute_error','neg_mean_squared_error', \\\n",
    "                                                            'neg_root_mean_squared_error'], cv = 10)"
   ]
  },
  {
   "cell_type": "code",
   "execution_count": 30,
   "id": "7068fec2",
   "metadata": {},
   "outputs": [
    {
     "data": {
      "text/html": [
       "<div>\n",
       "<style scoped>\n",
       "    .dataframe tbody tr th:only-of-type {\n",
       "        vertical-align: middle;\n",
       "    }\n",
       "\n",
       "    .dataframe tbody tr th {\n",
       "        vertical-align: top;\n",
       "    }\n",
       "\n",
       "    .dataframe thead th {\n",
       "        text-align: right;\n",
       "    }\n",
       "</style>\n",
       "<table border=\"1\" class=\"dataframe\">\n",
       "  <thead>\n",
       "    <tr style=\"text-align: right;\">\n",
       "      <th></th>\n",
       "      <th>fit_time</th>\n",
       "      <th>score_time</th>\n",
       "      <th>test_r2</th>\n",
       "      <th>test_neg_mean_absolute_error</th>\n",
       "      <th>test_neg_mean_squared_error</th>\n",
       "      <th>test_neg_root_mean_squared_error</th>\n",
       "    </tr>\n",
       "  </thead>\n",
       "  <tbody>\n",
       "    <tr>\n",
       "      <th>1</th>\n",
       "      <td>0.011</td>\n",
       "      <td>0.009</td>\n",
       "      <td>0.676</td>\n",
       "      <td>-3681.764</td>\n",
       "      <td>-30909282.495</td>\n",
       "      <td>-5559.612</td>\n",
       "    </tr>\n",
       "    <tr>\n",
       "      <th>2</th>\n",
       "      <td>0.012</td>\n",
       "      <td>0.010</td>\n",
       "      <td>0.716</td>\n",
       "      <td>-4220.347</td>\n",
       "      <td>-37957593.272</td>\n",
       "      <td>-6160.973</td>\n",
       "    </tr>\n",
       "    <tr>\n",
       "      <th>3</th>\n",
       "      <td>0.009</td>\n",
       "      <td>0.006</td>\n",
       "      <td>0.753</td>\n",
       "      <td>-3787.904</td>\n",
       "      <td>-29508969.278</td>\n",
       "      <td>-5432.216</td>\n",
       "    </tr>\n",
       "    <tr>\n",
       "      <th>4</th>\n",
       "      <td>0.005</td>\n",
       "      <td>0.004</td>\n",
       "      <td>0.723</td>\n",
       "      <td>-3793.477</td>\n",
       "      <td>-30751256.075</td>\n",
       "      <td>-5545.382</td>\n",
       "    </tr>\n",
       "    <tr>\n",
       "      <th>5</th>\n",
       "      <td>0.005</td>\n",
       "      <td>0.003</td>\n",
       "      <td>0.750</td>\n",
       "      <td>-3746.076</td>\n",
       "      <td>-28502305.229</td>\n",
       "      <td>-5338.755</td>\n",
       "    </tr>\n",
       "    <tr>\n",
       "      <th>6</th>\n",
       "      <td>0.004</td>\n",
       "      <td>0.002</td>\n",
       "      <td>0.681</td>\n",
       "      <td>-3729.403</td>\n",
       "      <td>-29775839.214</td>\n",
       "      <td>-5456.724</td>\n",
       "    </tr>\n",
       "    <tr>\n",
       "      <th>7</th>\n",
       "      <td>0.002</td>\n",
       "      <td>0.003</td>\n",
       "      <td>0.666</td>\n",
       "      <td>-3852.818</td>\n",
       "      <td>-30970698.178</td>\n",
       "      <td>-5565.132</td>\n",
       "    </tr>\n",
       "    <tr>\n",
       "      <th>8</th>\n",
       "      <td>0.003</td>\n",
       "      <td>0.002</td>\n",
       "      <td>0.754</td>\n",
       "      <td>-3871.741</td>\n",
       "      <td>-30254269.699</td>\n",
       "      <td>-5500.388</td>\n",
       "    </tr>\n",
       "    <tr>\n",
       "      <th>9</th>\n",
       "      <td>0.002</td>\n",
       "      <td>0.002</td>\n",
       "      <td>0.675</td>\n",
       "      <td>-3711.604</td>\n",
       "      <td>-31651127.217</td>\n",
       "      <td>-5625.933</td>\n",
       "    </tr>\n",
       "    <tr>\n",
       "      <th>10</th>\n",
       "      <td>0.002</td>\n",
       "      <td>0.002</td>\n",
       "      <td>0.722</td>\n",
       "      <td>-4385.613</td>\n",
       "      <td>-42369455.821</td>\n",
       "      <td>-6509.182</td>\n",
       "    </tr>\n",
       "  </tbody>\n",
       "</table>\n",
       "</div>"
      ],
      "text/plain": [
       "    fit_time  score_time  test_r2  test_neg_mean_absolute_error  \\\n",
       "1      0.011       0.009    0.676                     -3681.764   \n",
       "2      0.012       0.010    0.716                     -4220.347   \n",
       "3      0.009       0.006    0.753                     -3787.904   \n",
       "4      0.005       0.004    0.723                     -3793.477   \n",
       "5      0.005       0.003    0.750                     -3746.076   \n",
       "6      0.004       0.002    0.681                     -3729.403   \n",
       "7      0.002       0.003    0.666                     -3852.818   \n",
       "8      0.003       0.002    0.754                     -3871.741   \n",
       "9      0.002       0.002    0.675                     -3711.604   \n",
       "10     0.002       0.002    0.722                     -4385.613   \n",
       "\n",
       "    test_neg_mean_squared_error  test_neg_root_mean_squared_error  \n",
       "1                 -30909282.495                         -5559.612  \n",
       "2                 -37957593.272                         -6160.973  \n",
       "3                 -29508969.278                         -5432.216  \n",
       "4                 -30751256.075                         -5545.382  \n",
       "5                 -28502305.229                         -5338.755  \n",
       "6                 -29775839.214                         -5456.724  \n",
       "7                 -30970698.178                         -5565.132  \n",
       "8                 -30254269.699                         -5500.388  \n",
       "9                 -31651127.217                         -5625.933  \n",
       "10                -42369455.821                         -6509.182  "
      ]
     },
     "execution_count": 30,
     "metadata": {},
     "output_type": "execute_result"
    }
   ],
   "source": [
    "pd.DataFrame(scores, index = range(1, 11))"
   ]
  },
  {
   "cell_type": "code",
   "execution_count": 31,
   "id": "d2282781",
   "metadata": {},
   "outputs": [
    {
     "data": {
      "text/plain": [
       "test_r2                                    0.712\n",
       "test_neg_mean_absolute_error           -3878.075\n",
       "test_neg_mean_squared_error        -32265079.648\n",
       "test_neg_root_mean_squared_error       -5669.430\n",
       "dtype: float64"
      ]
     },
     "execution_count": 31,
     "metadata": {},
     "output_type": "execute_result"
    }
   ],
   "source": [
    "scores = pd.DataFrame(scores, index = range(1, 11))\n",
    "scores.iloc[:,2:].mean()\n"
   ]
  },
  {
   "cell_type": "code",
   "execution_count": 32,
   "id": "7eb22e2c",
   "metadata": {},
   "outputs": [
    {
     "data": {
      "text/html": [
       "<div>\n",
       "<style scoped>\n",
       "    .dataframe tbody tr th:only-of-type {\n",
       "        vertical-align: middle;\n",
       "    }\n",
       "\n",
       "    .dataframe tbody tr th {\n",
       "        vertical-align: top;\n",
       "    }\n",
       "\n",
       "    .dataframe thead th {\n",
       "        text-align: right;\n",
       "    }\n",
       "</style>\n",
       "<table border=\"1\" class=\"dataframe\">\n",
       "  <thead>\n",
       "    <tr style=\"text-align: right;\">\n",
       "      <th></th>\n",
       "      <th>train</th>\n",
       "      <th>test</th>\n",
       "    </tr>\n",
       "  </thead>\n",
       "  <tbody>\n",
       "    <tr>\n",
       "      <th>R2</th>\n",
       "      <td>0.721</td>\n",
       "      <td>0.713</td>\n",
       "    </tr>\n",
       "    <tr>\n",
       "      <th>mae</th>\n",
       "      <td>3852.684</td>\n",
       "      <td>3662.539</td>\n",
       "    </tr>\n",
       "    <tr>\n",
       "      <th>mse</th>\n",
       "      <td>31847154.792</td>\n",
       "      <td>29924249.341</td>\n",
       "    </tr>\n",
       "    <tr>\n",
       "      <th>rmse</th>\n",
       "      <td>5643.328</td>\n",
       "      <td>5470.306</td>\n",
       "    </tr>\n",
       "  </tbody>\n",
       "</table>\n",
       "</div>"
      ],
      "text/plain": [
       "            train         test\n",
       "R2          0.721        0.713\n",
       "mae      3852.684     3662.539\n",
       "mse  31847154.792 29924249.341\n",
       "rmse     5643.328     5470.306"
      ]
     },
     "execution_count": 32,
     "metadata": {},
     "output_type": "execute_result"
    }
   ],
   "source": [
    "train_val(lm, X_train, y_train, X_test, y_test)"
   ]
  },
  {
   "cell_type": "code",
   "execution_count": null,
   "id": "3b3c1090",
   "metadata": {},
   "outputs": [],
   "source": []
  },
  {
   "cell_type": "code",
   "execution_count": 33,
   "id": "54df8762",
   "metadata": {},
   "outputs": [
    {
     "ename": "IndentationError",
     "evalue": "unexpected indent (<ipython-input-33-3365eacd9228>, line 2)",
     "output_type": "error",
     "traceback": [
      "\u001b[1;36m  File \u001b[1;32m\"<ipython-input-33-3365eacd9228>\"\u001b[1;36m, line \u001b[1;32m2\u001b[0m\n\u001b[1;33m    r2 = r2_score(y_test, y_pred)\u001b[0m\n\u001b[1;37m    ^\u001b[0m\n\u001b[1;31mIndentationError\u001b[0m\u001b[1;31m:\u001b[0m unexpected indent\n"
     ]
    }
   ],
   "source": [
    "#def adj_r2(y_test, y_pred, df):\n",
    "    r2 = r2_score(y_test, y_pred)\n",
    "    n = df.shape[0]   # number of observations\n",
    "    p = df.shape[1]-1 # number of independent variables \n",
    "    adj_r2 = 1 - (1-r2)*(n-1)/(n-p-1)\n",
    "    return adj_r2"
   ]
  },
  {
   "cell_type": "code",
   "execution_count": 34,
   "id": "336513a6",
   "metadata": {},
   "outputs": [],
   "source": [
    "#y_pred = lm.predict(X_test)"
   ]
  },
  {
   "cell_type": "code",
   "execution_count": 35,
   "id": "98f10b3c",
   "metadata": {},
   "outputs": [],
   "source": [
    "#adj_r2(y_test, y_pred, df_with_EDA)"
   ]
  },
  {
   "cell_type": "code",
   "execution_count": 36,
   "id": "96b1fdaf",
   "metadata": {},
   "outputs": [
    {
     "data": {
      "text/html": [
       "<div>\n",
       "<style scoped>\n",
       "    .dataframe tbody tr th:only-of-type {\n",
       "        vertical-align: middle;\n",
       "    }\n",
       "\n",
       "    .dataframe tbody tr th {\n",
       "        vertical-align: top;\n",
       "    }\n",
       "\n",
       "    .dataframe thead th {\n",
       "        text-align: right;\n",
       "    }\n",
       "</style>\n",
       "<table border=\"1\" class=\"dataframe\">\n",
       "  <thead>\n",
       "    <tr style=\"text-align: right;\">\n",
       "      <th></th>\n",
       "      <th>train</th>\n",
       "      <th>test</th>\n",
       "    </tr>\n",
       "  </thead>\n",
       "  <tbody>\n",
       "    <tr>\n",
       "      <th>R2</th>\n",
       "      <td>0.721</td>\n",
       "      <td>0.713</td>\n",
       "    </tr>\n",
       "    <tr>\n",
       "      <th>mae</th>\n",
       "      <td>3852.684</td>\n",
       "      <td>3662.539</td>\n",
       "    </tr>\n",
       "    <tr>\n",
       "      <th>mse</th>\n",
       "      <td>31847154.792</td>\n",
       "      <td>29924249.341</td>\n",
       "    </tr>\n",
       "    <tr>\n",
       "      <th>rmse</th>\n",
       "      <td>5643.328</td>\n",
       "      <td>5470.306</td>\n",
       "    </tr>\n",
       "  </tbody>\n",
       "</table>\n",
       "</div>"
      ],
      "text/plain": [
       "            train         test\n",
       "R2          0.721        0.713\n",
       "mae      3852.684     3662.539\n",
       "mse  31847154.792 29924249.341\n",
       "rmse     5643.328     5470.306"
      ]
     },
     "execution_count": 36,
     "metadata": {},
     "output_type": "execute_result"
    }
   ],
   "source": [
    "train_val(lm, X_train, y_train, X_test, y_test)"
   ]
  },
  {
   "cell_type": "markdown",
   "id": "8cc45e87",
   "metadata": {},
   "source": [
    "## Scaling"
   ]
  },
  {
   "cell_type": "code",
   "execution_count": 37,
   "id": "64d2792c",
   "metadata": {},
   "outputs": [
    {
     "data": {
      "application/javascript": [
       "\n",
       "        if (window._pyforest_update_imports_cell) { window._pyforest_update_imports_cell('from sklearn.preprocessing import MinMaxScaler'); }\n",
       "    "
      ],
      "text/plain": [
       "<IPython.core.display.Javascript object>"
      ]
     },
     "metadata": {},
     "output_type": "display_data"
    }
   ],
   "source": [
    "scaler = MinMaxScaler()  # dummylerden kaynaklı bunu seçtik\n",
    "scaler.fit(X_train)\n",
    "# dummy olanlar 0 ve 1 olarak kalsın diye \n",
    "X_train_scaled = scaler.transform(X_train)\n",
    "X_test_scaled = scaler.transform(X_test)\n"
   ]
  },
  {
   "cell_type": "markdown",
   "id": "7c9cde93",
   "metadata": {},
   "source": [
    "## Ridge"
   ]
  },
  {
   "cell_type": "code",
   "execution_count": 38,
   "id": "1fe35344",
   "metadata": {},
   "outputs": [],
   "source": [
    "from sklearn.linear_model import Ridge, RidgeCV"
   ]
  },
  {
   "cell_type": "code",
   "execution_count": 39,
   "id": "f9b2d7db",
   "metadata": {},
   "outputs": [],
   "source": [
    "ridge_model = Ridge(random_state=42)"
   ]
  },
  {
   "cell_type": "code",
   "execution_count": 40,
   "id": "0a63527f",
   "metadata": {},
   "outputs": [
    {
     "data": {
      "text/plain": [
       "Ridge(random_state=42)"
      ]
     },
     "execution_count": 40,
     "metadata": {},
     "output_type": "execute_result"
    }
   ],
   "source": [
    "ridge_model.fit(X_train_scaled, y_train)"
   ]
  },
  {
   "cell_type": "code",
   "execution_count": 41,
   "id": "13e75383",
   "metadata": {},
   "outputs": [
    {
     "data": {
      "text/html": [
       "<div>\n",
       "<style scoped>\n",
       "    .dataframe tbody tr th:only-of-type {\n",
       "        vertical-align: middle;\n",
       "    }\n",
       "\n",
       "    .dataframe tbody tr th {\n",
       "        vertical-align: top;\n",
       "    }\n",
       "\n",
       "    .dataframe thead th {\n",
       "        text-align: right;\n",
       "    }\n",
       "</style>\n",
       "<table border=\"1\" class=\"dataframe\">\n",
       "  <thead>\n",
       "    <tr style=\"text-align: right;\">\n",
       "      <th></th>\n",
       "      <th>train</th>\n",
       "      <th>test</th>\n",
       "    </tr>\n",
       "  </thead>\n",
       "  <tbody>\n",
       "    <tr>\n",
       "      <th>R2</th>\n",
       "      <td>0.721</td>\n",
       "      <td>0.713</td>\n",
       "    </tr>\n",
       "    <tr>\n",
       "      <th>mae</th>\n",
       "      <td>3851.416</td>\n",
       "      <td>3662.341</td>\n",
       "    </tr>\n",
       "    <tr>\n",
       "      <th>mse</th>\n",
       "      <td>31849783.676</td>\n",
       "      <td>29917991.536</td>\n",
       "    </tr>\n",
       "    <tr>\n",
       "      <th>rmse</th>\n",
       "      <td>5643.561</td>\n",
       "      <td>5469.734</td>\n",
       "    </tr>\n",
       "  </tbody>\n",
       "</table>\n",
       "</div>"
      ],
      "text/plain": [
       "            train         test\n",
       "R2          0.721        0.713\n",
       "mae      3851.416     3662.341\n",
       "mse  31849783.676 29917991.536\n",
       "rmse     5643.561     5469.734"
      ]
     },
     "execution_count": 41,
     "metadata": {},
     "output_type": "execute_result"
    }
   ],
   "source": [
    "train_val(ridge_model, X_train_scaled, y_train, X_test_scaled, y_test)"
   ]
  },
  {
   "cell_type": "markdown",
   "id": "c68ade44",
   "metadata": {},
   "source": [
    "## Finding best alpha for Ridge"
   ]
  },
  {
   "cell_type": "code",
   "execution_count": 42,
   "id": "e12c73f0",
   "metadata": {},
   "outputs": [],
   "source": [
    "from sklearn.model_selection import GridSearchCV"
   ]
  },
  {
   "cell_type": "code",
   "execution_count": 43,
   "id": "5bfe72fc",
   "metadata": {},
   "outputs": [
    {
     "data": {
      "text/plain": [
       "array([1.000e-04, 1.020e-02, 2.030e-02, 3.040e-02, 4.050e-02, 5.060e-02,\n",
       "       6.070e-02, 7.080e-02, 8.090e-02, 9.100e-02, 1.011e-01, 1.112e-01,\n",
       "       1.213e-01, 1.314e-01, 1.415e-01, 1.516e-01, 1.617e-01, 1.718e-01,\n",
       "       1.819e-01, 1.920e-01, 2.021e-01, 2.122e-01, 2.223e-01, 2.324e-01,\n",
       "       2.425e-01, 2.526e-01, 2.627e-01, 2.728e-01, 2.829e-01, 2.930e-01,\n",
       "       3.031e-01, 3.132e-01, 3.233e-01, 3.334e-01, 3.435e-01, 3.536e-01,\n",
       "       3.637e-01, 3.738e-01, 3.839e-01, 3.940e-01, 4.041e-01, 4.142e-01,\n",
       "       4.243e-01, 4.344e-01, 4.445e-01, 4.546e-01, 4.647e-01, 4.748e-01,\n",
       "       4.849e-01, 4.950e-01, 5.051e-01, 5.152e-01, 5.253e-01, 5.354e-01,\n",
       "       5.455e-01, 5.556e-01, 5.657e-01, 5.758e-01, 5.859e-01, 5.960e-01,\n",
       "       6.061e-01, 6.162e-01, 6.263e-01, 6.364e-01, 6.465e-01, 6.566e-01,\n",
       "       6.667e-01, 6.768e-01, 6.869e-01, 6.970e-01, 7.071e-01, 7.172e-01,\n",
       "       7.273e-01, 7.374e-01, 7.475e-01, 7.576e-01, 7.677e-01, 7.778e-01,\n",
       "       7.879e-01, 7.980e-01, 8.081e-01, 8.182e-01, 8.283e-01, 8.384e-01,\n",
       "       8.485e-01, 8.586e-01, 8.687e-01, 8.788e-01, 8.889e-01, 8.990e-01,\n",
       "       9.091e-01, 9.192e-01, 9.293e-01, 9.394e-01, 9.495e-01, 9.596e-01,\n",
       "       9.697e-01, 9.798e-01, 9.899e-01, 1.000e+00])"
      ]
     },
     "execution_count": 43,
     "metadata": {},
     "output_type": "execute_result"
    }
   ],
   "source": [
    "alpha_space = np.linspace(0.0001, 1, 100)\n",
    "alpha_space"
   ]
  },
  {
   "cell_type": "code",
   "execution_count": 44,
   "id": "244bac5f",
   "metadata": {},
   "outputs": [],
   "source": [
    "ridge_model = Ridge(random_state=42)\n",
    "\n",
    "param_grid = {'alpha':alpha_space}\n",
    "\n",
    "ridge_grid_model = GridSearchCV(estimator=ridge_model,\n",
    "                          param_grid=param_grid,\n",
    "                          scoring='neg_root_mean_squared_error',\n",
    "                          cv=10,\n",
    "                          n_jobs = -1)  "
   ]
  },
  {
   "cell_type": "code",
   "execution_count": 45,
   "id": "f6f3fcf9",
   "metadata": {},
   "outputs": [
    {
     "data": {
      "text/plain": [
       "GridSearchCV(cv=10, estimator=Ridge(random_state=42), n_jobs=-1,\n",
       "             param_grid={'alpha': array([1.000e-04, 1.020e-02, 2.030e-02, 3.040e-02, 4.050e-02, 5.060e-02,\n",
       "       6.070e-02, 7.080e-02, 8.090e-02, 9.100e-02, 1.011e-01, 1.112e-01,\n",
       "       1.213e-01, 1.314e-01, 1.415e-01, 1.516e-01, 1.617e-01, 1.718e-01,\n",
       "       1.819e-01, 1.920e-01, 2.021e-01, 2.122e-01, 2.223e-01, 2.324e-01,\n",
       "       2.425e-01, 2.526e-01, 2...\n",
       "       6.667e-01, 6.768e-01, 6.869e-01, 6.970e-01, 7.071e-01, 7.172e-01,\n",
       "       7.273e-01, 7.374e-01, 7.475e-01, 7.576e-01, 7.677e-01, 7.778e-01,\n",
       "       7.879e-01, 7.980e-01, 8.081e-01, 8.182e-01, 8.283e-01, 8.384e-01,\n",
       "       8.485e-01, 8.586e-01, 8.687e-01, 8.788e-01, 8.889e-01, 8.990e-01,\n",
       "       9.091e-01, 9.192e-01, 9.293e-01, 9.394e-01, 9.495e-01, 9.596e-01,\n",
       "       9.697e-01, 9.798e-01, 9.899e-01, 1.000e+00])},\n",
       "             scoring='neg_root_mean_squared_error')"
      ]
     },
     "execution_count": 45,
     "metadata": {},
     "output_type": "execute_result"
    }
   ],
   "source": [
    "ridge_grid_model.fit(X_train_scaled,y_train)"
   ]
  },
  {
   "cell_type": "code",
   "execution_count": 46,
   "id": "307b8909",
   "metadata": {},
   "outputs": [
    {
     "data": {
      "text/plain": [
       "{'alpha': 0.697}"
      ]
     },
     "execution_count": 46,
     "metadata": {},
     "output_type": "execute_result"
    }
   ],
   "source": [
    "ridge_grid_model.best_params_"
   ]
  },
  {
   "cell_type": "code",
   "execution_count": 47,
   "id": "bdf09259",
   "metadata": {},
   "outputs": [
    {
     "data": {
      "text/html": [
       "<div>\n",
       "<style scoped>\n",
       "    .dataframe tbody tr th:only-of-type {\n",
       "        vertical-align: middle;\n",
       "    }\n",
       "\n",
       "    .dataframe tbody tr th {\n",
       "        vertical-align: top;\n",
       "    }\n",
       "\n",
       "    .dataframe thead th {\n",
       "        text-align: right;\n",
       "    }\n",
       "</style>\n",
       "<table border=\"1\" class=\"dataframe\">\n",
       "  <thead>\n",
       "    <tr style=\"text-align: right;\">\n",
       "      <th></th>\n",
       "      <th>mean_fit_time</th>\n",
       "      <th>std_fit_time</th>\n",
       "      <th>mean_score_time</th>\n",
       "      <th>std_score_time</th>\n",
       "      <th>param_alpha</th>\n",
       "      <th>params</th>\n",
       "      <th>split0_test_score</th>\n",
       "      <th>split1_test_score</th>\n",
       "      <th>split2_test_score</th>\n",
       "      <th>split3_test_score</th>\n",
       "      <th>split4_test_score</th>\n",
       "      <th>split5_test_score</th>\n",
       "      <th>split6_test_score</th>\n",
       "      <th>split7_test_score</th>\n",
       "      <th>split8_test_score</th>\n",
       "      <th>split9_test_score</th>\n",
       "      <th>mean_test_score</th>\n",
       "      <th>std_test_score</th>\n",
       "      <th>rank_test_score</th>\n",
       "    </tr>\n",
       "  </thead>\n",
       "  <tbody>\n",
       "    <tr>\n",
       "      <th>0</th>\n",
       "      <td>0.006</td>\n",
       "      <td>0.001</td>\n",
       "      <td>0.001</td>\n",
       "      <td>0.000</td>\n",
       "      <td>0.000</td>\n",
       "      <td>{'alpha': 0.0001}</td>\n",
       "      <td>-5559.612</td>\n",
       "      <td>-6160.974</td>\n",
       "      <td>-5432.216</td>\n",
       "      <td>-5545.382</td>\n",
       "      <td>-5338.755</td>\n",
       "      <td>-5456.724</td>\n",
       "      <td>-5565.131</td>\n",
       "      <td>-5500.389</td>\n",
       "      <td>-5625.933</td>\n",
       "      <td>-6509.183</td>\n",
       "      <td>-5669.430</td>\n",
       "      <td>350.208</td>\n",
       "      <td>100</td>\n",
       "    </tr>\n",
       "    <tr>\n",
       "      <th>1</th>\n",
       "      <td>0.003</td>\n",
       "      <td>0.002</td>\n",
       "      <td>0.001</td>\n",
       "      <td>0.000</td>\n",
       "      <td>0.010</td>\n",
       "      <td>{'alpha': 0.010199999999999999}</td>\n",
       "      <td>-5559.590</td>\n",
       "      <td>-6160.990</td>\n",
       "      <td>-5432.183</td>\n",
       "      <td>-5545.383</td>\n",
       "      <td>-5338.794</td>\n",
       "      <td>-5456.676</td>\n",
       "      <td>-5565.024</td>\n",
       "      <td>-5500.487</td>\n",
       "      <td>-5625.907</td>\n",
       "      <td>-6509.223</td>\n",
       "      <td>-5669.426</td>\n",
       "      <td>350.220</td>\n",
       "      <td>99</td>\n",
       "    </tr>\n",
       "    <tr>\n",
       "      <th>2</th>\n",
       "      <td>0.002</td>\n",
       "      <td>0.000</td>\n",
       "      <td>0.000</td>\n",
       "      <td>0.000</td>\n",
       "      <td>0.020</td>\n",
       "      <td>{'alpha': 0.0203}</td>\n",
       "      <td>-5559.569</td>\n",
       "      <td>-6161.006</td>\n",
       "      <td>-5432.150</td>\n",
       "      <td>-5545.385</td>\n",
       "      <td>-5338.833</td>\n",
       "      <td>-5456.628</td>\n",
       "      <td>-5564.917</td>\n",
       "      <td>-5500.584</td>\n",
       "      <td>-5625.882</td>\n",
       "      <td>-6509.262</td>\n",
       "      <td>-5669.422</td>\n",
       "      <td>350.233</td>\n",
       "      <td>98</td>\n",
       "    </tr>\n",
       "    <tr>\n",
       "      <th>3</th>\n",
       "      <td>0.002</td>\n",
       "      <td>0.000</td>\n",
       "      <td>0.001</td>\n",
       "      <td>0.000</td>\n",
       "      <td>0.030</td>\n",
       "      <td>{'alpha': 0.0304}</td>\n",
       "      <td>-5559.548</td>\n",
       "      <td>-6161.022</td>\n",
       "      <td>-5432.117</td>\n",
       "      <td>-5545.387</td>\n",
       "      <td>-5338.872</td>\n",
       "      <td>-5456.580</td>\n",
       "      <td>-5564.810</td>\n",
       "      <td>-5500.681</td>\n",
       "      <td>-5625.856</td>\n",
       "      <td>-6509.302</td>\n",
       "      <td>-5669.418</td>\n",
       "      <td>350.246</td>\n",
       "      <td>97</td>\n",
       "    </tr>\n",
       "    <tr>\n",
       "      <th>4</th>\n",
       "      <td>0.002</td>\n",
       "      <td>0.000</td>\n",
       "      <td>0.001</td>\n",
       "      <td>0.000</td>\n",
       "      <td>0.041</td>\n",
       "      <td>{'alpha': 0.0405}</td>\n",
       "      <td>-5559.527</td>\n",
       "      <td>-6161.038</td>\n",
       "      <td>-5432.085</td>\n",
       "      <td>-5545.389</td>\n",
       "      <td>-5338.911</td>\n",
       "      <td>-5456.533</td>\n",
       "      <td>-5564.703</td>\n",
       "      <td>-5500.779</td>\n",
       "      <td>-5625.830</td>\n",
       "      <td>-6509.342</td>\n",
       "      <td>-5669.414</td>\n",
       "      <td>350.258</td>\n",
       "      <td>96</td>\n",
       "    </tr>\n",
       "    <tr>\n",
       "      <th>...</th>\n",
       "      <td>...</td>\n",
       "      <td>...</td>\n",
       "      <td>...</td>\n",
       "      <td>...</td>\n",
       "      <td>...</td>\n",
       "      <td>...</td>\n",
       "      <td>...</td>\n",
       "      <td>...</td>\n",
       "      <td>...</td>\n",
       "      <td>...</td>\n",
       "      <td>...</td>\n",
       "      <td>...</td>\n",
       "      <td>...</td>\n",
       "      <td>...</td>\n",
       "      <td>...</td>\n",
       "      <td>...</td>\n",
       "      <td>...</td>\n",
       "      <td>...</td>\n",
       "      <td>...</td>\n",
       "    </tr>\n",
       "    <tr>\n",
       "      <th>95</th>\n",
       "      <td>0.001</td>\n",
       "      <td>0.000</td>\n",
       "      <td>0.000</td>\n",
       "      <td>0.000</td>\n",
       "      <td>0.960</td>\n",
       "      <td>{'alpha': 0.9595999999999999}</td>\n",
       "      <td>-5557.887</td>\n",
       "      <td>-6162.773</td>\n",
       "      <td>-5429.418</td>\n",
       "      <td>-5545.820</td>\n",
       "      <td>-5342.691</td>\n",
       "      <td>-5452.524</td>\n",
       "      <td>-5555.268</td>\n",
       "      <td>-5509.692</td>\n",
       "      <td>-5623.737</td>\n",
       "      <td>-6513.281</td>\n",
       "      <td>-5669.309</td>\n",
       "      <td>351.460</td>\n",
       "      <td>53</td>\n",
       "    </tr>\n",
       "    <tr>\n",
       "      <th>96</th>\n",
       "      <td>0.001</td>\n",
       "      <td>0.000</td>\n",
       "      <td>0.000</td>\n",
       "      <td>0.000</td>\n",
       "      <td>0.970</td>\n",
       "      <td>{'alpha': 0.9697}</td>\n",
       "      <td>-5557.872</td>\n",
       "      <td>-6162.795</td>\n",
       "      <td>-5429.392</td>\n",
       "      <td>-5545.827</td>\n",
       "      <td>-5342.735</td>\n",
       "      <td>-5452.483</td>\n",
       "      <td>-5555.168</td>\n",
       "      <td>-5509.791</td>\n",
       "      <td>-5623.717</td>\n",
       "      <td>-6513.327</td>\n",
       "      <td>-5669.311</td>\n",
       "      <td>351.474</td>\n",
       "      <td>55</td>\n",
       "    </tr>\n",
       "    <tr>\n",
       "      <th>97</th>\n",
       "      <td>0.001</td>\n",
       "      <td>0.000</td>\n",
       "      <td>0.000</td>\n",
       "      <td>0.000</td>\n",
       "      <td>0.980</td>\n",
       "      <td>{'alpha': 0.9798}</td>\n",
       "      <td>-5557.857</td>\n",
       "      <td>-6162.817</td>\n",
       "      <td>-5429.366</td>\n",
       "      <td>-5545.834</td>\n",
       "      <td>-5342.779</td>\n",
       "      <td>-5452.442</td>\n",
       "      <td>-5555.067</td>\n",
       "      <td>-5509.889</td>\n",
       "      <td>-5623.696</td>\n",
       "      <td>-6513.374</td>\n",
       "      <td>-5669.312</td>\n",
       "      <td>351.488</td>\n",
       "      <td>57</td>\n",
       "    </tr>\n",
       "    <tr>\n",
       "      <th>98</th>\n",
       "      <td>0.001</td>\n",
       "      <td>0.000</td>\n",
       "      <td>0.000</td>\n",
       "      <td>0.000</td>\n",
       "      <td>0.990</td>\n",
       "      <td>{'alpha': 0.9899}</td>\n",
       "      <td>-5557.842</td>\n",
       "      <td>-6162.838</td>\n",
       "      <td>-5429.340</td>\n",
       "      <td>-5545.842</td>\n",
       "      <td>-5342.823</td>\n",
       "      <td>-5452.402</td>\n",
       "      <td>-5554.967</td>\n",
       "      <td>-5509.988</td>\n",
       "      <td>-5623.676</td>\n",
       "      <td>-6513.420</td>\n",
       "      <td>-5669.314</td>\n",
       "      <td>351.501</td>\n",
       "      <td>59</td>\n",
       "    </tr>\n",
       "    <tr>\n",
       "      <th>99</th>\n",
       "      <td>0.001</td>\n",
       "      <td>0.000</td>\n",
       "      <td>0.000</td>\n",
       "      <td>0.000</td>\n",
       "      <td>1.000</td>\n",
       "      <td>{'alpha': 1.0}</td>\n",
       "      <td>-5557.827</td>\n",
       "      <td>-6162.860</td>\n",
       "      <td>-5429.314</td>\n",
       "      <td>-5545.849</td>\n",
       "      <td>-5342.867</td>\n",
       "      <td>-5452.362</td>\n",
       "      <td>-5554.867</td>\n",
       "      <td>-5510.086</td>\n",
       "      <td>-5623.656</td>\n",
       "      <td>-6513.467</td>\n",
       "      <td>-5669.316</td>\n",
       "      <td>351.515</td>\n",
       "      <td>61</td>\n",
       "    </tr>\n",
       "  </tbody>\n",
       "</table>\n",
       "<p>100 rows × 19 columns</p>\n",
       "</div>"
      ],
      "text/plain": [
       "    mean_fit_time  std_fit_time  mean_score_time  std_score_time param_alpha  \\\n",
       "0           0.006         0.001            0.001           0.000       0.000   \n",
       "1           0.003         0.002            0.001           0.000       0.010   \n",
       "2           0.002         0.000            0.000           0.000       0.020   \n",
       "3           0.002         0.000            0.001           0.000       0.030   \n",
       "4           0.002         0.000            0.001           0.000       0.041   \n",
       "..            ...           ...              ...             ...         ...   \n",
       "95          0.001         0.000            0.000           0.000       0.960   \n",
       "96          0.001         0.000            0.000           0.000       0.970   \n",
       "97          0.001         0.000            0.000           0.000       0.980   \n",
       "98          0.001         0.000            0.000           0.000       0.990   \n",
       "99          0.001         0.000            0.000           0.000       1.000   \n",
       "\n",
       "                             params  split0_test_score  split1_test_score  \\\n",
       "0                 {'alpha': 0.0001}          -5559.612          -6160.974   \n",
       "1   {'alpha': 0.010199999999999999}          -5559.590          -6160.990   \n",
       "2                 {'alpha': 0.0203}          -5559.569          -6161.006   \n",
       "3                 {'alpha': 0.0304}          -5559.548          -6161.022   \n",
       "4                 {'alpha': 0.0405}          -5559.527          -6161.038   \n",
       "..                              ...                ...                ...   \n",
       "95    {'alpha': 0.9595999999999999}          -5557.887          -6162.773   \n",
       "96                {'alpha': 0.9697}          -5557.872          -6162.795   \n",
       "97                {'alpha': 0.9798}          -5557.857          -6162.817   \n",
       "98                {'alpha': 0.9899}          -5557.842          -6162.838   \n",
       "99                   {'alpha': 1.0}          -5557.827          -6162.860   \n",
       "\n",
       "    split2_test_score  split3_test_score  split4_test_score  \\\n",
       "0           -5432.216          -5545.382          -5338.755   \n",
       "1           -5432.183          -5545.383          -5338.794   \n",
       "2           -5432.150          -5545.385          -5338.833   \n",
       "3           -5432.117          -5545.387          -5338.872   \n",
       "4           -5432.085          -5545.389          -5338.911   \n",
       "..                ...                ...                ...   \n",
       "95          -5429.418          -5545.820          -5342.691   \n",
       "96          -5429.392          -5545.827          -5342.735   \n",
       "97          -5429.366          -5545.834          -5342.779   \n",
       "98          -5429.340          -5545.842          -5342.823   \n",
       "99          -5429.314          -5545.849          -5342.867   \n",
       "\n",
       "    split5_test_score  split6_test_score  split7_test_score  \\\n",
       "0           -5456.724          -5565.131          -5500.389   \n",
       "1           -5456.676          -5565.024          -5500.487   \n",
       "2           -5456.628          -5564.917          -5500.584   \n",
       "3           -5456.580          -5564.810          -5500.681   \n",
       "4           -5456.533          -5564.703          -5500.779   \n",
       "..                ...                ...                ...   \n",
       "95          -5452.524          -5555.268          -5509.692   \n",
       "96          -5452.483          -5555.168          -5509.791   \n",
       "97          -5452.442          -5555.067          -5509.889   \n",
       "98          -5452.402          -5554.967          -5509.988   \n",
       "99          -5452.362          -5554.867          -5510.086   \n",
       "\n",
       "    split8_test_score  split9_test_score  mean_test_score  std_test_score  \\\n",
       "0           -5625.933          -6509.183        -5669.430         350.208   \n",
       "1           -5625.907          -6509.223        -5669.426         350.220   \n",
       "2           -5625.882          -6509.262        -5669.422         350.233   \n",
       "3           -5625.856          -6509.302        -5669.418         350.246   \n",
       "4           -5625.830          -6509.342        -5669.414         350.258   \n",
       "..                ...                ...              ...             ...   \n",
       "95          -5623.737          -6513.281        -5669.309         351.460   \n",
       "96          -5623.717          -6513.327        -5669.311         351.474   \n",
       "97          -5623.696          -6513.374        -5669.312         351.488   \n",
       "98          -5623.676          -6513.420        -5669.314         351.501   \n",
       "99          -5623.656          -6513.467        -5669.316         351.515   \n",
       "\n",
       "    rank_test_score  \n",
       "0               100  \n",
       "1                99  \n",
       "2                98  \n",
       "3                97  \n",
       "4                96  \n",
       "..              ...  \n",
       "95               53  \n",
       "96               55  \n",
       "97               57  \n",
       "98               59  \n",
       "99               61  \n",
       "\n",
       "[100 rows x 19 columns]"
      ]
     },
     "execution_count": 47,
     "metadata": {},
     "output_type": "execute_result"
    }
   ],
   "source": [
    "pd.DataFrame(ridge_grid_model.cv_results_)"
   ]
  },
  {
   "cell_type": "code",
   "execution_count": 48,
   "id": "e02b450f",
   "metadata": {},
   "outputs": [
    {
     "data": {
      "text/plain": [
       "69"
      ]
     },
     "execution_count": 48,
     "metadata": {},
     "output_type": "execute_result"
    }
   ],
   "source": [
    "ridge_grid_model.best_index_"
   ]
  },
  {
   "cell_type": "code",
   "execution_count": 49,
   "id": "18f96c1d",
   "metadata": {},
   "outputs": [
    {
     "data": {
      "text/plain": [
       "-5669.289412602639"
      ]
     },
     "execution_count": 49,
     "metadata": {},
     "output_type": "execute_result"
    }
   ],
   "source": [
    "ridge_grid_model.best_score_  # rmse"
   ]
  },
  {
   "cell_type": "code",
   "execution_count": 50,
   "id": "829d239a",
   "metadata": {
    "scrolled": true
   },
   "outputs": [
    {
     "data": {
      "text/html": [
       "<div>\n",
       "<style scoped>\n",
       "    .dataframe tbody tr th:only-of-type {\n",
       "        vertical-align: middle;\n",
       "    }\n",
       "\n",
       "    .dataframe tbody tr th {\n",
       "        vertical-align: top;\n",
       "    }\n",
       "\n",
       "    .dataframe thead th {\n",
       "        text-align: right;\n",
       "    }\n",
       "</style>\n",
       "<table border=\"1\" class=\"dataframe\">\n",
       "  <thead>\n",
       "    <tr style=\"text-align: right;\">\n",
       "      <th></th>\n",
       "      <th>train</th>\n",
       "      <th>test</th>\n",
       "    </tr>\n",
       "  </thead>\n",
       "  <tbody>\n",
       "    <tr>\n",
       "      <th>R2</th>\n",
       "      <td>0.721</td>\n",
       "      <td>0.713</td>\n",
       "    </tr>\n",
       "    <tr>\n",
       "      <th>mae</th>\n",
       "      <td>3851.734</td>\n",
       "      <td>3662.337</td>\n",
       "    </tr>\n",
       "    <tr>\n",
       "      <th>mse</th>\n",
       "      <td>31848443.136</td>\n",
       "      <td>29919273.961</td>\n",
       "    </tr>\n",
       "    <tr>\n",
       "      <th>rmse</th>\n",
       "      <td>5643.442</td>\n",
       "      <td>5469.851</td>\n",
       "    </tr>\n",
       "  </tbody>\n",
       "</table>\n",
       "</div>"
      ],
      "text/plain": [
       "            train         test\n",
       "R2          0.721        0.713\n",
       "mae      3851.734     3662.337\n",
       "mse  31848443.136 29919273.961\n",
       "rmse     5643.442     5469.851"
      ]
     },
     "execution_count": 50,
     "metadata": {},
     "output_type": "execute_result"
    }
   ],
   "source": [
    "train_val(ridge_grid_model, X_train_scaled, y_train, X_test_scaled, y_test)"
   ]
  },
  {
   "cell_type": "code",
   "execution_count": 51,
   "id": "0541e7eb",
   "metadata": {},
   "outputs": [],
   "source": [
    "y_pred = ridge_grid_model.predict(X_test_scaled)\n",
    "rm_R2 = r2_score(y_test, y_pred)\n",
    "rm_mae = mean_absolute_error(y_test, y_pred)\n",
    "rm_rmse = np.sqrt(mean_squared_error(y_test, y_pred))"
   ]
  },
  {
   "cell_type": "code",
   "execution_count": 52,
   "id": "cf4af6c1",
   "metadata": {},
   "outputs": [
    {
     "data": {
      "text/html": [
       "<div>\n",
       "<style scoped>\n",
       "    .dataframe tbody tr th:only-of-type {\n",
       "        vertical-align: middle;\n",
       "    }\n",
       "\n",
       "    .dataframe tbody tr th {\n",
       "        vertical-align: top;\n",
       "    }\n",
       "\n",
       "    .dataframe thead th {\n",
       "        text-align: right;\n",
       "    }\n",
       "</style>\n",
       "<table border=\"1\" class=\"dataframe\">\n",
       "  <thead>\n",
       "    <tr style=\"text-align: right;\">\n",
       "      <th></th>\n",
       "      <th>Coef</th>\n",
       "    </tr>\n",
       "  </thead>\n",
       "  <tbody>\n",
       "    <tr>\n",
       "      <th>region_northwest</th>\n",
       "      <td>-2490.234</td>\n",
       "    </tr>\n",
       "    <tr>\n",
       "      <th>region_southwest</th>\n",
       "      <td>-2431.849</td>\n",
       "    </tr>\n",
       "    <tr>\n",
       "      <th>region_southeast</th>\n",
       "      <td>-1855.019</td>\n",
       "    </tr>\n",
       "    <tr>\n",
       "      <th>children_zero</th>\n",
       "      <td>-1620.000</td>\n",
       "    </tr>\n",
       "    <tr>\n",
       "      <th>children_one</th>\n",
       "      <td>-1619.551</td>\n",
       "    </tr>\n",
       "    <tr>\n",
       "      <th>children_three</th>\n",
       "      <td>-1130.725</td>\n",
       "    </tr>\n",
       "    <tr>\n",
       "      <th>children_two</th>\n",
       "      <td>-15.830</td>\n",
       "    </tr>\n",
       "    <tr>\n",
       "      <th>sex_male</th>\n",
       "      <td>1334.105</td>\n",
       "    </tr>\n",
       "    <tr>\n",
       "      <th>children_four</th>\n",
       "      <td>2244.936</td>\n",
       "    </tr>\n",
       "    <tr>\n",
       "      <th>bmi</th>\n",
       "      <td>9390.040</td>\n",
       "    </tr>\n",
       "    <tr>\n",
       "      <th>age</th>\n",
       "      <td>11068.119</td>\n",
       "    </tr>\n",
       "    <tr>\n",
       "      <th>smoker_yes</th>\n",
       "      <td>22745.480</td>\n",
       "    </tr>\n",
       "  </tbody>\n",
       "</table>\n",
       "</div>"
      ],
      "text/plain": [
       "                      Coef\n",
       "region_northwest -2490.234\n",
       "region_southwest -2431.849\n",
       "region_southeast -1855.019\n",
       "children_zero    -1620.000\n",
       "children_one     -1619.551\n",
       "children_three   -1130.725\n",
       "children_two       -15.830\n",
       "sex_male          1334.105\n",
       "children_four     2244.936\n",
       "bmi               9390.040\n",
       "age              11068.119\n",
       "smoker_yes       22745.480"
      ]
     },
     "execution_count": 52,
     "metadata": {},
     "output_type": "execute_result"
    }
   ],
   "source": [
    "ridge = Ridge(alpha=0.0001, random_state=42).fit(X_train_scaled, y_train)\n",
    "\n",
    "rg_coef = pd.DataFrame(ridge.coef_, index = X.columns, columns=[\"Coef\"]).sort_values(\"Coef\")\n",
    "rg_coef\n"
   ]
  },
  {
   "cell_type": "code",
   "execution_count": 53,
   "id": "5c703ddb",
   "metadata": {},
   "outputs": [
    {
     "data": {
      "text/html": [
       "<div>\n",
       "<style scoped>\n",
       "    .dataframe tbody tr th:only-of-type {\n",
       "        vertical-align: middle;\n",
       "    }\n",
       "\n",
       "    .dataframe tbody tr th {\n",
       "        vertical-align: top;\n",
       "    }\n",
       "\n",
       "    .dataframe thead th {\n",
       "        text-align: right;\n",
       "    }\n",
       "</style>\n",
       "<table border=\"1\" class=\"dataframe\">\n",
       "  <thead>\n",
       "    <tr style=\"text-align: right;\">\n",
       "      <th></th>\n",
       "      <th>train</th>\n",
       "      <th>test</th>\n",
       "    </tr>\n",
       "  </thead>\n",
       "  <tbody>\n",
       "    <tr>\n",
       "      <th>R2</th>\n",
       "      <td>0.721</td>\n",
       "      <td>0.713</td>\n",
       "    </tr>\n",
       "    <tr>\n",
       "      <th>mae</th>\n",
       "      <td>3852.684</td>\n",
       "      <td>3662.539</td>\n",
       "    </tr>\n",
       "    <tr>\n",
       "      <th>mse</th>\n",
       "      <td>31847154.792</td>\n",
       "      <td>29924248.419</td>\n",
       "    </tr>\n",
       "    <tr>\n",
       "      <th>rmse</th>\n",
       "      <td>5643.328</td>\n",
       "      <td>5470.306</td>\n",
       "    </tr>\n",
       "  </tbody>\n",
       "</table>\n",
       "</div>"
      ],
      "text/plain": [
       "            train         test\n",
       "R2          0.721        0.713\n",
       "mae      3852.684     3662.539\n",
       "mse  31847154.792 29924248.419\n",
       "rmse     5643.328     5470.306"
      ]
     },
     "execution_count": 53,
     "metadata": {},
     "output_type": "execute_result"
    }
   ],
   "source": [
    "train_val(ridge, X_train_scaled, y_train, X_test_scaled, y_test)"
   ]
  },
  {
   "cell_type": "markdown",
   "id": "657382cf",
   "metadata": {},
   "source": [
    "## 5. Implement Lasso Regression"
   ]
  },
  {
   "cell_type": "code",
   "execution_count": 54,
   "id": "0f169c79",
   "metadata": {},
   "outputs": [
    {
     "data": {
      "application/javascript": [
       "\n",
       "        if (window._pyforest_update_imports_cell) { window._pyforest_update_imports_cell('from sklearn.linear_model import Lasso\\nfrom sklearn.preprocessing import MinMaxScaler'); }\n",
       "    "
      ],
      "text/plain": [
       "<IPython.core.display.Javascript object>"
      ]
     },
     "metadata": {},
     "output_type": "display_data"
    }
   ],
   "source": [
    "lasso_model = Lasso(random_state=42)\n",
    "\n",
    "param_grid = {'alpha':alpha_space}\n",
    "\n",
    "lasso_grid_model = GridSearchCV(estimator=lasso_model,\n",
    "                          param_grid=param_grid,\n",
    "                          scoring='neg_root_mean_squared_error',\n",
    "                          cv=10,\n",
    "                          n_jobs = -1)"
   ]
  },
  {
   "cell_type": "code",
   "execution_count": 55,
   "id": "48aedf7a",
   "metadata": {},
   "outputs": [
    {
     "data": {
      "text/plain": [
       "GridSearchCV(cv=10, estimator=Lasso(random_state=42), n_jobs=-1,\n",
       "             param_grid={'alpha': array([1.000e-04, 1.020e-02, 2.030e-02, 3.040e-02, 4.050e-02, 5.060e-02,\n",
       "       6.070e-02, 7.080e-02, 8.090e-02, 9.100e-02, 1.011e-01, 1.112e-01,\n",
       "       1.213e-01, 1.314e-01, 1.415e-01, 1.516e-01, 1.617e-01, 1.718e-01,\n",
       "       1.819e-01, 1.920e-01, 2.021e-01, 2.122e-01, 2.223e-01, 2.324e-01,\n",
       "       2.425e-01, 2.526e-01, 2...\n",
       "       6.667e-01, 6.768e-01, 6.869e-01, 6.970e-01, 7.071e-01, 7.172e-01,\n",
       "       7.273e-01, 7.374e-01, 7.475e-01, 7.576e-01, 7.677e-01, 7.778e-01,\n",
       "       7.879e-01, 7.980e-01, 8.081e-01, 8.182e-01, 8.283e-01, 8.384e-01,\n",
       "       8.485e-01, 8.586e-01, 8.687e-01, 8.788e-01, 8.889e-01, 8.990e-01,\n",
       "       9.091e-01, 9.192e-01, 9.293e-01, 9.394e-01, 9.495e-01, 9.596e-01,\n",
       "       9.697e-01, 9.798e-01, 9.899e-01, 1.000e+00])},\n",
       "             scoring='neg_root_mean_squared_error')"
      ]
     },
     "execution_count": 55,
     "metadata": {},
     "output_type": "execute_result"
    }
   ],
   "source": [
    "lasso_grid_model.fit(X_train_scaled,y_train)"
   ]
  },
  {
   "cell_type": "code",
   "execution_count": 56,
   "id": "a04883e8",
   "metadata": {},
   "outputs": [
    {
     "data": {
      "text/plain": [
       "{'alpha': 1.0}"
      ]
     },
     "execution_count": 56,
     "metadata": {},
     "output_type": "execute_result"
    }
   ],
   "source": [
    "lasso_grid_model.best_params_"
   ]
  },
  {
   "cell_type": "code",
   "execution_count": 57,
   "id": "74713ae9",
   "metadata": {},
   "outputs": [
    {
     "data": {
      "text/plain": [
       "-5669.310186216362"
      ]
     },
     "execution_count": 57,
     "metadata": {},
     "output_type": "execute_result"
    }
   ],
   "source": [
    "lasso_grid_model.best_score_ "
   ]
  },
  {
   "cell_type": "code",
   "execution_count": 58,
   "id": "1c1f20b1",
   "metadata": {},
   "outputs": [
    {
     "data": {
      "text/html": [
       "<div>\n",
       "<style scoped>\n",
       "    .dataframe tbody tr th:only-of-type {\n",
       "        vertical-align: middle;\n",
       "    }\n",
       "\n",
       "    .dataframe tbody tr th {\n",
       "        vertical-align: top;\n",
       "    }\n",
       "\n",
       "    .dataframe thead th {\n",
       "        text-align: right;\n",
       "    }\n",
       "</style>\n",
       "<table border=\"1\" class=\"dataframe\">\n",
       "  <thead>\n",
       "    <tr style=\"text-align: right;\">\n",
       "      <th></th>\n",
       "      <th>train</th>\n",
       "      <th>test</th>\n",
       "    </tr>\n",
       "  </thead>\n",
       "  <tbody>\n",
       "    <tr>\n",
       "      <th>R2</th>\n",
       "      <td>0.721</td>\n",
       "      <td>0.713</td>\n",
       "    </tr>\n",
       "    <tr>\n",
       "      <th>mae</th>\n",
       "      <td>3851.728</td>\n",
       "      <td>3661.211</td>\n",
       "    </tr>\n",
       "    <tr>\n",
       "      <th>mse</th>\n",
       "      <td>31847346.548</td>\n",
       "      <td>29912192.408</td>\n",
       "    </tr>\n",
       "    <tr>\n",
       "      <th>rmse</th>\n",
       "      <td>5643.345</td>\n",
       "      <td>5469.204</td>\n",
       "    </tr>\n",
       "  </tbody>\n",
       "</table>\n",
       "</div>"
      ],
      "text/plain": [
       "            train         test\n",
       "R2          0.721        0.713\n",
       "mae      3851.728     3661.211\n",
       "mse  31847346.548 29912192.408\n",
       "rmse     5643.345     5469.204"
      ]
     },
     "execution_count": 58,
     "metadata": {},
     "output_type": "execute_result"
    }
   ],
   "source": [
    "train_val(lasso_grid_model, X_train_scaled, y_train, X_test_scaled, y_test)"
   ]
  },
  {
   "cell_type": "code",
   "execution_count": 59,
   "id": "5c34cd5c",
   "metadata": {},
   "outputs": [],
   "source": [
    "y_pred = lasso_grid_model.predict(X_test_scaled)\n",
    "lasm_R2 = r2_score(y_test, y_pred)\n",
    "lasm_mae = mean_absolute_error(y_test, y_pred)\n",
    "lasm_rmse = np.sqrt(mean_squared_error(y_test, y_pred))"
   ]
  },
  {
   "cell_type": "code",
   "execution_count": 62,
   "id": "20462114",
   "metadata": {},
   "outputs": [
    {
     "data": {
      "application/javascript": [
       "\n",
       "        if (window._pyforest_update_imports_cell) { window._pyforest_update_imports_cell('from sklearn.linear_model import Lasso\\nfrom sklearn.preprocessing import MinMaxScaler'); }\n",
       "    "
      ],
      "text/plain": [
       "<IPython.core.display.Javascript object>"
      ]
     },
     "metadata": {},
     "output_type": "display_data"
    }
   ],
   "source": [
    "lasso = Lasso(alpha=1, random_state=42).fit(X_train_scaled, y_train)\n",
    "ls_coef = pd.DataFrame(lasso.coef_, index = X.columns, columns=[\"lasso_Coef\"]).sort_values(\"lasso_Coef\")"
   ]
  },
  {
   "cell_type": "code",
   "execution_count": 63,
   "id": "a60babdb",
   "metadata": {},
   "outputs": [
    {
     "data": {
      "text/html": [
       "<div>\n",
       "<style scoped>\n",
       "    .dataframe tbody tr th:only-of-type {\n",
       "        vertical-align: middle;\n",
       "    }\n",
       "\n",
       "    .dataframe tbody tr th {\n",
       "        vertical-align: top;\n",
       "    }\n",
       "\n",
       "    .dataframe thead th {\n",
       "        text-align: right;\n",
       "    }\n",
       "</style>\n",
       "<table border=\"1\" class=\"dataframe\">\n",
       "  <thead>\n",
       "    <tr style=\"text-align: right;\">\n",
       "      <th></th>\n",
       "      <th>Coef</th>\n",
       "      <th>lasso_Coef</th>\n",
       "    </tr>\n",
       "  </thead>\n",
       "  <tbody>\n",
       "    <tr>\n",
       "      <th>region_northwest</th>\n",
       "      <td>-2490.234</td>\n",
       "      <td>-2473.847</td>\n",
       "    </tr>\n",
       "    <tr>\n",
       "      <th>region_southwest</th>\n",
       "      <td>-2431.849</td>\n",
       "      <td>-2412.461</td>\n",
       "    </tr>\n",
       "    <tr>\n",
       "      <th>region_southeast</th>\n",
       "      <td>-1855.019</td>\n",
       "      <td>-1832.427</td>\n",
       "    </tr>\n",
       "    <tr>\n",
       "      <th>children_zero</th>\n",
       "      <td>-1620.000</td>\n",
       "      <td>-1594.788</td>\n",
       "    </tr>\n",
       "    <tr>\n",
       "      <th>children_one</th>\n",
       "      <td>-1619.551</td>\n",
       "      <td>-1593.396</td>\n",
       "    </tr>\n",
       "    <tr>\n",
       "      <th>children_three</th>\n",
       "      <td>-1130.725</td>\n",
       "      <td>-1102.938</td>\n",
       "    </tr>\n",
       "    <tr>\n",
       "      <th>children_two</th>\n",
       "      <td>-15.830</td>\n",
       "      <td>0.000</td>\n",
       "    </tr>\n",
       "    <tr>\n",
       "      <th>sex_male</th>\n",
       "      <td>1334.105</td>\n",
       "      <td>1334.240</td>\n",
       "    </tr>\n",
       "    <tr>\n",
       "      <th>children_four</th>\n",
       "      <td>2244.936</td>\n",
       "      <td>2260.411</td>\n",
       "    </tr>\n",
       "    <tr>\n",
       "      <th>bmi</th>\n",
       "      <td>9390.040</td>\n",
       "      <td>9338.449</td>\n",
       "    </tr>\n",
       "    <tr>\n",
       "      <th>age</th>\n",
       "      <td>11068.119</td>\n",
       "      <td>11052.917</td>\n",
       "    </tr>\n",
       "    <tr>\n",
       "      <th>smoker_yes</th>\n",
       "      <td>22745.480</td>\n",
       "      <td>22733.931</td>\n",
       "    </tr>\n",
       "  </tbody>\n",
       "</table>\n",
       "</div>"
      ],
      "text/plain": [
       "                      Coef  lasso_Coef\n",
       "region_northwest -2490.234   -2473.847\n",
       "region_southwest -2431.849   -2412.461\n",
       "region_southeast -1855.019   -1832.427\n",
       "children_zero    -1620.000   -1594.788\n",
       "children_one     -1619.551   -1593.396\n",
       "children_three   -1130.725   -1102.938\n",
       "children_two       -15.830       0.000\n",
       "sex_male          1334.105    1334.240\n",
       "children_four     2244.936    2260.411\n",
       "bmi               9390.040    9338.449\n",
       "age              11068.119   11052.917\n",
       "smoker_yes       22745.480   22733.931"
      ]
     },
     "execution_count": 63,
     "metadata": {},
     "output_type": "execute_result"
    }
   ],
   "source": [
    "pd.concat([rg_coef,ls_coef], axis = 1)"
   ]
  },
  {
   "cell_type": "markdown",
   "id": "3930a744",
   "metadata": {},
   "source": [
    "## 6. Implement Elastic-Net"
   ]
  },
  {
   "cell_type": "code",
   "execution_count": 64,
   "id": "15cc73df",
   "metadata": {},
   "outputs": [],
   "source": [
    "from sklearn.linear_model import ElasticNet"
   ]
  },
  {
   "cell_type": "code",
   "execution_count": 65,
   "id": "8c084560",
   "metadata": {},
   "outputs": [
    {
     "data": {
      "text/plain": [
       "ElasticNet(random_state=42)"
      ]
     },
     "execution_count": 65,
     "metadata": {},
     "output_type": "execute_result"
    }
   ],
   "source": [
    "elastic_model = ElasticNet(random_state=42)\n",
    "elastic_model.fit(X_train_scaled,y_train)"
   ]
  },
  {
   "cell_type": "code",
   "execution_count": 66,
   "id": "aebe56c5",
   "metadata": {},
   "outputs": [
    {
     "data": {
      "text/html": [
       "<div>\n",
       "<style scoped>\n",
       "    .dataframe tbody tr th:only-of-type {\n",
       "        vertical-align: middle;\n",
       "    }\n",
       "\n",
       "    .dataframe tbody tr th {\n",
       "        vertical-align: top;\n",
       "    }\n",
       "\n",
       "    .dataframe thead th {\n",
       "        text-align: right;\n",
       "    }\n",
       "</style>\n",
       "<table border=\"1\" class=\"dataframe\">\n",
       "  <thead>\n",
       "    <tr style=\"text-align: right;\">\n",
       "      <th></th>\n",
       "      <th>train</th>\n",
       "      <th>test</th>\n",
       "    </tr>\n",
       "  </thead>\n",
       "  <tbody>\n",
       "    <tr>\n",
       "      <th>R2</th>\n",
       "      <td>0.261</td>\n",
       "      <td>0.250</td>\n",
       "    </tr>\n",
       "    <tr>\n",
       "      <th>mae</th>\n",
       "      <td>6547.073</td>\n",
       "      <td>6342.650</td>\n",
       "    </tr>\n",
       "    <tr>\n",
       "      <th>mse</th>\n",
       "      <td>84348868.143</td>\n",
       "      <td>78099750.712</td>\n",
       "    </tr>\n",
       "    <tr>\n",
       "      <th>rmse</th>\n",
       "      <td>9184.164</td>\n",
       "      <td>8837.406</td>\n",
       "    </tr>\n",
       "  </tbody>\n",
       "</table>\n",
       "</div>"
      ],
      "text/plain": [
       "            train         test\n",
       "R2          0.261        0.250\n",
       "mae      6547.073     6342.650\n",
       "mse  84348868.143 78099750.712\n",
       "rmse     9184.164     8837.406"
      ]
     },
     "execution_count": 66,
     "metadata": {},
     "output_type": "execute_result"
    }
   ],
   "source": [
    "train_val(elastic_model, X_train_scaled, y_train, X_test_scaled, y_test)"
   ]
  },
  {
   "cell_type": "code",
   "execution_count": 67,
   "id": "02fcc8f7",
   "metadata": {},
   "outputs": [],
   "source": [
    "elastic_model = ElasticNet(random_state=42)"
   ]
  },
  {
   "cell_type": "code",
   "execution_count": 68,
   "id": "c95bfc97",
   "metadata": {},
   "outputs": [],
   "source": [
    "param_grid = {'alpha':alpha_space,  #Sabaha kadar beklemeyelim.\n",
    "              'l1_ratio':[.5, .7, .9, .95, .99, 1]}\n",
    "\n",
    "elastic_grid_model = GridSearchCV(estimator=elastic_model,\n",
    "                          param_grid=param_grid,\n",
    "                          scoring='neg_root_mean_squared_error',\n",
    "                          cv=10,\n",
    "                          n_jobs = -1)"
   ]
  },
  {
   "cell_type": "code",
   "execution_count": 69,
   "id": "d27f556f",
   "metadata": {},
   "outputs": [
    {
     "data": {
      "text/plain": [
       "GridSearchCV(cv=10, estimator=ElasticNet(random_state=42), n_jobs=-1,\n",
       "             param_grid={'alpha': array([1.000e-04, 1.020e-02, 2.030e-02, 3.040e-02, 4.050e-02, 5.060e-02,\n",
       "       6.070e-02, 7.080e-02, 8.090e-02, 9.100e-02, 1.011e-01, 1.112e-01,\n",
       "       1.213e-01, 1.314e-01, 1.415e-01, 1.516e-01, 1.617e-01, 1.718e-01,\n",
       "       1.819e-01, 1.920e-01, 2.021e-01, 2.122e-01, 2.223e-01, 2.324e-01,\n",
       "       2.425e-01, 2.526e...\n",
       "       7.273e-01, 7.374e-01, 7.475e-01, 7.576e-01, 7.677e-01, 7.778e-01,\n",
       "       7.879e-01, 7.980e-01, 8.081e-01, 8.182e-01, 8.283e-01, 8.384e-01,\n",
       "       8.485e-01, 8.586e-01, 8.687e-01, 8.788e-01, 8.889e-01, 8.990e-01,\n",
       "       9.091e-01, 9.192e-01, 9.293e-01, 9.394e-01, 9.495e-01, 9.596e-01,\n",
       "       9.697e-01, 9.798e-01, 9.899e-01, 1.000e+00]),\n",
       "                         'l1_ratio': [0.5, 0.7, 0.9, 0.95, 0.99, 1]},\n",
       "             scoring='neg_root_mean_squared_error')"
      ]
     },
     "execution_count": 69,
     "metadata": {},
     "output_type": "execute_result"
    }
   ],
   "source": [
    "elastic_grid_model.fit(X_train_scaled,y_train)"
   ]
  },
  {
   "cell_type": "code",
   "execution_count": 70,
   "id": "65eb91f7",
   "metadata": {},
   "outputs": [
    {
     "data": {
      "text/plain": [
       "{'alpha': 0.0405, 'l1_ratio': 0.99}"
      ]
     },
     "execution_count": 70,
     "metadata": {},
     "output_type": "execute_result"
    }
   ],
   "source": [
    "elastic_grid_model.best_params_"
   ]
  },
  {
   "cell_type": "code",
   "execution_count": 71,
   "id": "cc91bf90",
   "metadata": {},
   "outputs": [
    {
     "data": {
      "text/plain": [
       "-5669.287586109934"
      ]
     },
     "execution_count": 71,
     "metadata": {},
     "output_type": "execute_result"
    }
   ],
   "source": [
    "elastic_grid_model.best_score_"
   ]
  },
  {
   "cell_type": "code",
   "execution_count": 72,
   "id": "9b587a62",
   "metadata": {},
   "outputs": [
    {
     "data": {
      "text/html": [
       "<div>\n",
       "<style scoped>\n",
       "    .dataframe tbody tr th:only-of-type {\n",
       "        vertical-align: middle;\n",
       "    }\n",
       "\n",
       "    .dataframe tbody tr th {\n",
       "        vertical-align: top;\n",
       "    }\n",
       "\n",
       "    .dataframe thead th {\n",
       "        text-align: right;\n",
       "    }\n",
       "</style>\n",
       "<table border=\"1\" class=\"dataframe\">\n",
       "  <thead>\n",
       "    <tr style=\"text-align: right;\">\n",
       "      <th></th>\n",
       "      <th>train</th>\n",
       "      <th>test</th>\n",
       "    </tr>\n",
       "  </thead>\n",
       "  <tbody>\n",
       "    <tr>\n",
       "      <th>R2</th>\n",
       "      <td>0.721</td>\n",
       "      <td>0.713</td>\n",
       "    </tr>\n",
       "    <tr>\n",
       "      <th>mae</th>\n",
       "      <td>3851.569</td>\n",
       "      <td>3662.282</td>\n",
       "    </tr>\n",
       "    <tr>\n",
       "      <th>mse</th>\n",
       "      <td>31848923.813</td>\n",
       "      <td>29918260.324</td>\n",
       "    </tr>\n",
       "    <tr>\n",
       "      <th>rmse</th>\n",
       "      <td>5643.485</td>\n",
       "      <td>5469.759</td>\n",
       "    </tr>\n",
       "  </tbody>\n",
       "</table>\n",
       "</div>"
      ],
      "text/plain": [
       "            train         test\n",
       "R2          0.721        0.713\n",
       "mae      3851.569     3662.282\n",
       "mse  31848923.813 29918260.324\n",
       "rmse     5643.485     5469.759"
      ]
     },
     "execution_count": 72,
     "metadata": {},
     "output_type": "execute_result"
    }
   ],
   "source": [
    "train_val(elastic_grid_model, X_train_scaled, y_train, X_test_scaled, y_test)"
   ]
  },
  {
   "cell_type": "code",
   "execution_count": 73,
   "id": "2c0ec89d",
   "metadata": {},
   "outputs": [],
   "source": [
    "y_pred = elastic_grid_model.predict(X_test_scaled)\n",
    "em_R2 = r2_score(y_test, y_pred)\n",
    "em_mae = mean_absolute_error(y_test, y_pred)\n",
    "em_rmse = np.sqrt(mean_squared_error(y_test, y_pred))"
   ]
  },
  {
   "cell_type": "code",
   "execution_count": null,
   "id": "5db53c9d",
   "metadata": {},
   "outputs": [],
   "source": []
  }
 ],
 "metadata": {
  "kernelspec": {
   "display_name": "Python 3",
   "language": "python",
   "name": "python3"
  },
  "language_info": {
   "codemirror_mode": {
    "name": "ipython",
    "version": 3
   },
   "file_extension": ".py",
   "mimetype": "text/x-python",
   "name": "python",
   "nbconvert_exporter": "python",
   "pygments_lexer": "ipython3",
   "version": "3.8.8"
  }
 },
 "nbformat": 4,
 "nbformat_minor": 5
}
