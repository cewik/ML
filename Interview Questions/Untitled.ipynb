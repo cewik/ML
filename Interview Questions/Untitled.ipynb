{
 "cells": [
  {
   "cell_type": "markdown",
   "id": "3b4778c3",
   "metadata": {},
   "source": [
    "### Q: What Is Linear Regression ?\n",
    "    - A: In simple terms, linear regression is a method of finding the best straight line fitting to the given data and also finding the best linear relationship between the independent and dependent variables. We use Least Squares Method  to decide which line is the best fit the model.\n",
    "\n",
    "- Interview Q&A"
   ]
  },
  {
   "cell_type": "markdown",
   "id": "d36eba50",
   "metadata": {},
   "source": [
    "### Q: What’s the trade-off between bias and variance?\n",
    "    - A: The bias-variance trade-off is the problem of simultaneously minimizing two sources of error that prevent supervised learning algorithms from generalizing beyond their training set. Our goal is to find the optimal middle ground where the errors from both over-fitting and under-fitting are minimal.  We want a model that is highly enough to capture the signals in our data, but not too complex that it can’t be applied to new data.\n",
    "\n",
    " - Interwiev Q&A"
   ]
  },
  {
   "cell_type": "markdown",
   "id": "0c9eb589",
   "metadata": {},
   "source": [
    "### Q: Why can’t linear regression be used in place of logistic regression for binary classification?\n",
    "    - A: In linear regression, the output is continuous. In case of binary classification, an output of a continuous value does not make sense. For binary classification problems, linear regression may predict values that can go beyond 0 and 1. If we want the output in the form of probabilities, which can be mapped to two different classes, then its range should be restricted to 0 and 1. As the logistic regression model can output probabilities with logistic/sigmoid function, it is preferred over linear regression.\n",
    "\n",
    "- Interview Q&A"
   ]
  },
  {
   "cell_type": "markdown",
   "id": "464f87df",
   "metadata": {},
   "source": [
    "### Q: Why is accuracy not a good measure for classification problems?\n",
    "    - A: Accuracy is not a good measure for classification problems because it gives equal importance to both false positives and false negatives. However, this may not be the case in most business problems. For example, in case of cancer prediction, declaring cancer as benign is more serious than wrongly informing the patient that he is suffering from cancer. Accuracy gives equal importance to both cases and cannot differentiate between them.\n",
    "\n",
    "- Interview Q&A"
   ]
  },
  {
   "cell_type": "markdown",
   "id": "8d07c867",
   "metadata": {},
   "source": [
    "### Q: Why should we not use KNN algorithm for large datasets?\n",
    "    - A: KNN works well with smaller dataset because it is a lazy learner. It needs to store all the data and then makes decision only at run time. It needs to calculate the distance of a given point with all other points. So if dataset is large, there will be a lot of processing which may adversely impact the performance of the algorithm. KNN is also very sensitive to noise in the dataset. If the dataset is large, there are chances of noise in the dataset which adversely affect the performance of KNN algorithm.\n",
    "\n",
    "- Interview Q&A"
   ]
  },
  {
   "cell_type": "code",
   "execution_count": null,
   "id": "d8de2a62",
   "metadata": {},
   "outputs": [],
   "source": []
  }
 ],
 "metadata": {
  "kernelspec": {
   "display_name": "Python 3",
   "language": "python",
   "name": "python3"
  },
  "language_info": {
   "codemirror_mode": {
    "name": "ipython",
    "version": 3
   },
   "file_extension": ".py",
   "mimetype": "text/x-python",
   "name": "python",
   "nbconvert_exporter": "python",
   "pygments_lexer": "ipython3",
   "version": "3.8.8"
  }
 },
 "nbformat": 4,
 "nbformat_minor": 5
}
